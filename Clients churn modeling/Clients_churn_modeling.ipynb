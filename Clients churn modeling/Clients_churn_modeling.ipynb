{
 "cells": [
  {
   "attachments": {},
   "cell_type": "markdown",
   "metadata": {},
   "source": [
    "# Bank customers churn modeling"
   ]
  },
  {
   "attachments": {},
   "cell_type": "markdown",
   "metadata": {},
   "source": [
    "## Прогнозирование оттока клиентов\n",
    "\n",
    "Из «Бета-Банка» стали уходить клиенты. Каждый месяц. Немного, но заметно. Банковские маркетологи посчитали: сохранять текущих клиентов дешевле, чем привлекать новых.\n",
    "\n",
    "Нужно спрогнозировать, уйдёт клиент из банка в ближайшее время или нет. Вам предоставлены исторические данные о поведении клиентов и расторжении договоров с банком. \n",
    "\n",
    "Постройте модель с предельно большим значением *F1*-меры. Чтобы сдать проект успешно, нужно довести метрику до 0.59. Проверьте *F1*-меру на тестовой выборке самостоятельно.\n",
    "\n",
    "Дополнительно измеряйте *AUC-ROC*, сравнивайте её значение с *F1*-мерой.\n",
    "\n",
    "Источник данных: [https://www.kaggle.com/barelydedicated/bank-customer-churn-modeling](https://www.kaggle.com/barelydedicated/bank-customer-churn-modeling)"
   ]
  },
  {
   "attachments": {},
   "cell_type": "markdown",
   "metadata": {},
   "source": [
    "### Содержание:\n",
    "\n",
    "1. Импорт библиотек и загрузка данных\n",
    "2. EDA\n",
    "3. Подготовка и разбиение данных\n",
    "4. Модели. Подбор гиперпараметров. Upsampling/downsampling\n",
    "6. Проверка на вменяемость\n",
    "7. Сравнение результатов моделей\n",
    "8. Выводы"
   ]
  },
  {
   "attachments": {},
   "cell_type": "markdown",
   "metadata": {},
   "source": [
    "### 1. Импорт библиотек и загрузка данных"
   ]
  },
  {
   "cell_type": "code",
   "execution_count": 53,
   "metadata": {},
   "outputs": [],
   "source": [
    "import pandas as pd\n",
    "import numpy as np\n",
    "# graphs\n",
    "import seaborn as sns\n",
    "import matplotlib.pyplot as plt\n",
    "# split & scaler\n",
    "from sklearn.preprocessing import StandardScaler, OneHotEncoder \n",
    "from sklearn.model_selection import train_test_split\n",
    "from sklearn.utils import shuffle\n",
    "# models\n",
    "from sklearn.tree import DecisionTreeClassifier\n",
    "from sklearn.ensemble import RandomForestClassifier\n",
    "from sklearn.linear_model import LogisticRegression\n",
    "# metrics\n",
    "from sklearn.metrics import accuracy_score, f1_score, roc_auc_score\n",
    "from sklearn.metrics import recall_score, precision_score\n",
    "from sklearn.metrics import roc_curve\n",
    "# grid_search\n",
    "from sklearn.model_selection import GridSearchCV\n",
    "# KFold\n",
    "from sklearn.model_selection import KFold\n",
    "from itertools import product\n",
    "# dummy\n",
    "from sklearn.dummy import DummyClassifier\n",
    "import warnings"
   ]
  },
  {
   "cell_type": "code",
   "execution_count": 54,
   "metadata": {},
   "outputs": [],
   "source": [
    "# включим игнорирование предупреждений для того, чтобы лучше читалось\n",
    "warnings.filterwarnings('ignore')"
   ]
  },
  {
   "cell_type": "code",
   "execution_count": 55,
   "metadata": {},
   "outputs": [],
   "source": [
    "# заводим константу RANDOM_STATE\n",
    "RANDOM_STATE = 12345\n",
    "# cross-validation\n",
    "CV_K = 5\n"
   ]
  },
  {
   "cell_type": "code",
   "execution_count": 56,
   "metadata": {},
   "outputs": [],
   "source": [
    "try:\n",
    "    df = pd.read_csv('datasets/Churn.csv')\n",
    "except FileNotFoundError:\n",
    "    df = pd.read_csv('Churn.csv')"
   ]
  },
  {
   "cell_type": "code",
   "execution_count": 57,
   "metadata": {},
   "outputs": [
    {
     "data": {
      "text/html": [
       "<div>\n",
       "<style scoped>\n",
       "    .dataframe tbody tr th:only-of-type {\n",
       "        vertical-align: middle;\n",
       "    }\n",
       "\n",
       "    .dataframe tbody tr th {\n",
       "        vertical-align: top;\n",
       "    }\n",
       "\n",
       "    .dataframe thead th {\n",
       "        text-align: right;\n",
       "    }\n",
       "</style>\n",
       "<table border=\"1\" class=\"dataframe\">\n",
       "  <thead>\n",
       "    <tr style=\"text-align: right;\">\n",
       "      <th></th>\n",
       "      <th>RowNumber</th>\n",
       "      <th>CustomerId</th>\n",
       "      <th>Surname</th>\n",
       "      <th>CreditScore</th>\n",
       "      <th>Geography</th>\n",
       "      <th>Gender</th>\n",
       "      <th>Age</th>\n",
       "      <th>Tenure</th>\n",
       "      <th>Balance</th>\n",
       "      <th>NumOfProducts</th>\n",
       "      <th>HasCrCard</th>\n",
       "      <th>IsActiveMember</th>\n",
       "      <th>EstimatedSalary</th>\n",
       "      <th>Exited</th>\n",
       "    </tr>\n",
       "  </thead>\n",
       "  <tbody>\n",
       "    <tr>\n",
       "      <th>0</th>\n",
       "      <td>1</td>\n",
       "      <td>15634602</td>\n",
       "      <td>Hargrave</td>\n",
       "      <td>619</td>\n",
       "      <td>France</td>\n",
       "      <td>Female</td>\n",
       "      <td>42</td>\n",
       "      <td>2.0</td>\n",
       "      <td>0.00</td>\n",
       "      <td>1</td>\n",
       "      <td>1</td>\n",
       "      <td>1</td>\n",
       "      <td>101348.88</td>\n",
       "      <td>1</td>\n",
       "    </tr>\n",
       "    <tr>\n",
       "      <th>1</th>\n",
       "      <td>2</td>\n",
       "      <td>15647311</td>\n",
       "      <td>Hill</td>\n",
       "      <td>608</td>\n",
       "      <td>Spain</td>\n",
       "      <td>Female</td>\n",
       "      <td>41</td>\n",
       "      <td>1.0</td>\n",
       "      <td>83807.86</td>\n",
       "      <td>1</td>\n",
       "      <td>0</td>\n",
       "      <td>1</td>\n",
       "      <td>112542.58</td>\n",
       "      <td>0</td>\n",
       "    </tr>\n",
       "    <tr>\n",
       "      <th>2</th>\n",
       "      <td>3</td>\n",
       "      <td>15619304</td>\n",
       "      <td>Onio</td>\n",
       "      <td>502</td>\n",
       "      <td>France</td>\n",
       "      <td>Female</td>\n",
       "      <td>42</td>\n",
       "      <td>8.0</td>\n",
       "      <td>159660.80</td>\n",
       "      <td>3</td>\n",
       "      <td>1</td>\n",
       "      <td>0</td>\n",
       "      <td>113931.57</td>\n",
       "      <td>1</td>\n",
       "    </tr>\n",
       "    <tr>\n",
       "      <th>3</th>\n",
       "      <td>4</td>\n",
       "      <td>15701354</td>\n",
       "      <td>Boni</td>\n",
       "      <td>699</td>\n",
       "      <td>France</td>\n",
       "      <td>Female</td>\n",
       "      <td>39</td>\n",
       "      <td>1.0</td>\n",
       "      <td>0.00</td>\n",
       "      <td>2</td>\n",
       "      <td>0</td>\n",
       "      <td>0</td>\n",
       "      <td>93826.63</td>\n",
       "      <td>0</td>\n",
       "    </tr>\n",
       "    <tr>\n",
       "      <th>4</th>\n",
       "      <td>5</td>\n",
       "      <td>15737888</td>\n",
       "      <td>Mitchell</td>\n",
       "      <td>850</td>\n",
       "      <td>Spain</td>\n",
       "      <td>Female</td>\n",
       "      <td>43</td>\n",
       "      <td>2.0</td>\n",
       "      <td>125510.82</td>\n",
       "      <td>1</td>\n",
       "      <td>1</td>\n",
       "      <td>1</td>\n",
       "      <td>79084.10</td>\n",
       "      <td>0</td>\n",
       "    </tr>\n",
       "  </tbody>\n",
       "</table>\n",
       "</div>"
      ],
      "text/plain": [
       "   RowNumber  CustomerId   Surname  CreditScore Geography  Gender  Age  \\\n",
       "0          1    15634602  Hargrave          619    France  Female   42   \n",
       "1          2    15647311      Hill          608     Spain  Female   41   \n",
       "2          3    15619304      Onio          502    France  Female   42   \n",
       "3          4    15701354      Boni          699    France  Female   39   \n",
       "4          5    15737888  Mitchell          850     Spain  Female   43   \n",
       "\n",
       "   Tenure    Balance  NumOfProducts  HasCrCard  IsActiveMember  \\\n",
       "0     2.0       0.00              1          1               1   \n",
       "1     1.0   83807.86              1          0               1   \n",
       "2     8.0  159660.80              3          1               0   \n",
       "3     1.0       0.00              2          0               0   \n",
       "4     2.0  125510.82              1          1               1   \n",
       "\n",
       "   EstimatedSalary  Exited  \n",
       "0        101348.88       1  \n",
       "1        112542.58       0  \n",
       "2        113931.57       1  \n",
       "3         93826.63       0  \n",
       "4         79084.10       0  "
      ]
     },
     "execution_count": 57,
     "metadata": {},
     "output_type": "execute_result"
    }
   ],
   "source": [
    "df.head()"
   ]
  },
  {
   "cell_type": "code",
   "execution_count": 58,
   "metadata": {},
   "outputs": [
    {
     "name": "stdout",
     "output_type": "stream",
     "text": [
      "<class 'pandas.core.frame.DataFrame'>\n",
      "RangeIndex: 10000 entries, 0 to 9999\n",
      "Data columns (total 14 columns):\n",
      " #   Column           Non-Null Count  Dtype  \n",
      "---  ------           --------------  -----  \n",
      " 0   RowNumber        10000 non-null  int64  \n",
      " 1   CustomerId       10000 non-null  int64  \n",
      " 2   Surname          10000 non-null  object \n",
      " 3   CreditScore      10000 non-null  int64  \n",
      " 4   Geography        10000 non-null  object \n",
      " 5   Gender           10000 non-null  object \n",
      " 6   Age              10000 non-null  int64  \n",
      " 7   Tenure           9091 non-null   float64\n",
      " 8   Balance          10000 non-null  float64\n",
      " 9   NumOfProducts    10000 non-null  int64  \n",
      " 10  HasCrCard        10000 non-null  int64  \n",
      " 11  IsActiveMember   10000 non-null  int64  \n",
      " 12  EstimatedSalary  10000 non-null  float64\n",
      " 13  Exited           10000 non-null  int64  \n",
      "dtypes: float64(3), int64(8), object(3)\n",
      "memory usage: 1.1+ MB\n"
     ]
    }
   ],
   "source": [
    "df.info()"
   ]
  },
  {
   "cell_type": "code",
   "execution_count": 59,
   "metadata": {},
   "outputs": [
    {
     "data": {
      "text/html": [
       "<div>\n",
       "<style scoped>\n",
       "    .dataframe tbody tr th:only-of-type {\n",
       "        vertical-align: middle;\n",
       "    }\n",
       "\n",
       "    .dataframe tbody tr th {\n",
       "        vertical-align: top;\n",
       "    }\n",
       "\n",
       "    .dataframe thead th {\n",
       "        text-align: right;\n",
       "    }\n",
       "</style>\n",
       "<table border=\"1\" class=\"dataframe\">\n",
       "  <thead>\n",
       "    <tr style=\"text-align: right;\">\n",
       "      <th></th>\n",
       "      <th>RowNumber</th>\n",
       "      <th>CustomerId</th>\n",
       "      <th>CreditScore</th>\n",
       "      <th>Age</th>\n",
       "      <th>Tenure</th>\n",
       "      <th>Balance</th>\n",
       "      <th>NumOfProducts</th>\n",
       "      <th>HasCrCard</th>\n",
       "      <th>IsActiveMember</th>\n",
       "      <th>EstimatedSalary</th>\n",
       "      <th>Exited</th>\n",
       "    </tr>\n",
       "  </thead>\n",
       "  <tbody>\n",
       "    <tr>\n",
       "      <th>count</th>\n",
       "      <td>10000.00000</td>\n",
       "      <td>1.000000e+04</td>\n",
       "      <td>10000.000000</td>\n",
       "      <td>10000.000000</td>\n",
       "      <td>9091.000000</td>\n",
       "      <td>10000.000000</td>\n",
       "      <td>10000.000000</td>\n",
       "      <td>10000.00000</td>\n",
       "      <td>10000.000000</td>\n",
       "      <td>10000.000000</td>\n",
       "      <td>10000.000000</td>\n",
       "    </tr>\n",
       "    <tr>\n",
       "      <th>mean</th>\n",
       "      <td>5000.50000</td>\n",
       "      <td>1.569094e+07</td>\n",
       "      <td>650.528800</td>\n",
       "      <td>38.921800</td>\n",
       "      <td>4.997690</td>\n",
       "      <td>76485.889288</td>\n",
       "      <td>1.530200</td>\n",
       "      <td>0.70550</td>\n",
       "      <td>0.515100</td>\n",
       "      <td>100090.239881</td>\n",
       "      <td>0.203700</td>\n",
       "    </tr>\n",
       "    <tr>\n",
       "      <th>std</th>\n",
       "      <td>2886.89568</td>\n",
       "      <td>7.193619e+04</td>\n",
       "      <td>96.653299</td>\n",
       "      <td>10.487806</td>\n",
       "      <td>2.894723</td>\n",
       "      <td>62397.405202</td>\n",
       "      <td>0.581654</td>\n",
       "      <td>0.45584</td>\n",
       "      <td>0.499797</td>\n",
       "      <td>57510.492818</td>\n",
       "      <td>0.402769</td>\n",
       "    </tr>\n",
       "    <tr>\n",
       "      <th>min</th>\n",
       "      <td>1.00000</td>\n",
       "      <td>1.556570e+07</td>\n",
       "      <td>350.000000</td>\n",
       "      <td>18.000000</td>\n",
       "      <td>0.000000</td>\n",
       "      <td>0.000000</td>\n",
       "      <td>1.000000</td>\n",
       "      <td>0.00000</td>\n",
       "      <td>0.000000</td>\n",
       "      <td>11.580000</td>\n",
       "      <td>0.000000</td>\n",
       "    </tr>\n",
       "    <tr>\n",
       "      <th>25%</th>\n",
       "      <td>2500.75000</td>\n",
       "      <td>1.562853e+07</td>\n",
       "      <td>584.000000</td>\n",
       "      <td>32.000000</td>\n",
       "      <td>2.000000</td>\n",
       "      <td>0.000000</td>\n",
       "      <td>1.000000</td>\n",
       "      <td>0.00000</td>\n",
       "      <td>0.000000</td>\n",
       "      <td>51002.110000</td>\n",
       "      <td>0.000000</td>\n",
       "    </tr>\n",
       "    <tr>\n",
       "      <th>50%</th>\n",
       "      <td>5000.50000</td>\n",
       "      <td>1.569074e+07</td>\n",
       "      <td>652.000000</td>\n",
       "      <td>37.000000</td>\n",
       "      <td>5.000000</td>\n",
       "      <td>97198.540000</td>\n",
       "      <td>1.000000</td>\n",
       "      <td>1.00000</td>\n",
       "      <td>1.000000</td>\n",
       "      <td>100193.915000</td>\n",
       "      <td>0.000000</td>\n",
       "    </tr>\n",
       "    <tr>\n",
       "      <th>75%</th>\n",
       "      <td>7500.25000</td>\n",
       "      <td>1.575323e+07</td>\n",
       "      <td>718.000000</td>\n",
       "      <td>44.000000</td>\n",
       "      <td>7.000000</td>\n",
       "      <td>127644.240000</td>\n",
       "      <td>2.000000</td>\n",
       "      <td>1.00000</td>\n",
       "      <td>1.000000</td>\n",
       "      <td>149388.247500</td>\n",
       "      <td>0.000000</td>\n",
       "    </tr>\n",
       "    <tr>\n",
       "      <th>max</th>\n",
       "      <td>10000.00000</td>\n",
       "      <td>1.581569e+07</td>\n",
       "      <td>850.000000</td>\n",
       "      <td>92.000000</td>\n",
       "      <td>10.000000</td>\n",
       "      <td>250898.090000</td>\n",
       "      <td>4.000000</td>\n",
       "      <td>1.00000</td>\n",
       "      <td>1.000000</td>\n",
       "      <td>199992.480000</td>\n",
       "      <td>1.000000</td>\n",
       "    </tr>\n",
       "  </tbody>\n",
       "</table>\n",
       "</div>"
      ],
      "text/plain": [
       "         RowNumber    CustomerId   CreditScore           Age       Tenure  \\\n",
       "count  10000.00000  1.000000e+04  10000.000000  10000.000000  9091.000000   \n",
       "mean    5000.50000  1.569094e+07    650.528800     38.921800     4.997690   \n",
       "std     2886.89568  7.193619e+04     96.653299     10.487806     2.894723   \n",
       "min        1.00000  1.556570e+07    350.000000     18.000000     0.000000   \n",
       "25%     2500.75000  1.562853e+07    584.000000     32.000000     2.000000   \n",
       "50%     5000.50000  1.569074e+07    652.000000     37.000000     5.000000   \n",
       "75%     7500.25000  1.575323e+07    718.000000     44.000000     7.000000   \n",
       "max    10000.00000  1.581569e+07    850.000000     92.000000    10.000000   \n",
       "\n",
       "             Balance  NumOfProducts    HasCrCard  IsActiveMember  \\\n",
       "count   10000.000000   10000.000000  10000.00000    10000.000000   \n",
       "mean    76485.889288       1.530200      0.70550        0.515100   \n",
       "std     62397.405202       0.581654      0.45584        0.499797   \n",
       "min         0.000000       1.000000      0.00000        0.000000   \n",
       "25%         0.000000       1.000000      0.00000        0.000000   \n",
       "50%     97198.540000       1.000000      1.00000        1.000000   \n",
       "75%    127644.240000       2.000000      1.00000        1.000000   \n",
       "max    250898.090000       4.000000      1.00000        1.000000   \n",
       "\n",
       "       EstimatedSalary        Exited  \n",
       "count     10000.000000  10000.000000  \n",
       "mean     100090.239881      0.203700  \n",
       "std       57510.492818      0.402769  \n",
       "min          11.580000      0.000000  \n",
       "25%       51002.110000      0.000000  \n",
       "50%      100193.915000      0.000000  \n",
       "75%      149388.247500      0.000000  \n",
       "max      199992.480000      1.000000  "
      ]
     },
     "execution_count": 59,
     "metadata": {},
     "output_type": "execute_result"
    }
   ],
   "source": [
    "df.describe()"
   ]
  },
  {
   "attachments": {},
   "cell_type": "markdown",
   "metadata": {},
   "source": [
    "#### Описание данных\n",
    "Данные находятся в файле /datasets/Churn.csv\n",
    "\n",
    "Признаки\n",
    "\n",
    "- RowNumber — индекс строки в данных\n",
    "- CustomerId — уникальный идентификатор клиента\n",
    "- Surname — фамилия\n",
    "- CreditScore — кредитный рейтинг\n",
    "- Geography — страна проживания\n",
    "- Gender — пол\n",
    "- Age — возраст\n",
    "- Tenure — сколько лет человек является клиентом банка\n",
    "- Balance — баланс на счёте\n",
    "- NumOfProducts — количество продуктов банка, используемых клиентом\n",
    "- HasCrCard — наличие кредитной карты\n",
    "- IsActiveMember — активность клиента\n",
    "- EstimatedSalary — предполагаемая зарплата\n",
    "\n",
    "Целевой признак\n",
    "- Exited — факт ухода клиента"
   ]
  },
  {
   "attachments": {},
   "cell_type": "markdown",
   "metadata": {},
   "source": [
    "### 2. EDA"
   ]
  },
  {
   "attachments": {},
   "cell_type": "markdown",
   "metadata": {},
   "source": [
    "**Target 'Exited'**\n",
    "\n",
    "Неравномерное целевого признака: 80-20.\n",
    "Понадобится балансировка."
   ]
  },
  {
   "cell_type": "code",
   "execution_count": 60,
   "metadata": {},
   "outputs": [
    {
     "data": {
      "text/plain": [
       "0    7963\n",
       "1    2037\n",
       "Name: Exited, dtype: int64"
      ]
     },
     "execution_count": 60,
     "metadata": {},
     "output_type": "execute_result"
    }
   ],
   "source": [
    "df['Exited'].value_counts()"
   ]
  },
  {
   "attachments": {},
   "cell_type": "markdown",
   "metadata": {},
   "source": [
    "**'RowNumber'**\n",
    "\n",
    "Столбец, повторяющий индексацию со сдвигом на единицу. Не несет новой информации."
   ]
  },
  {
   "cell_type": "code",
   "execution_count": 61,
   "metadata": {},
   "outputs": [
    {
     "data": {
      "text/plain": [
       "10000"
      ]
     },
     "execution_count": 61,
     "metadata": {},
     "output_type": "execute_result"
    }
   ],
   "source": [
    "df['RowNumber'].value_counts().count()"
   ]
  },
  {
   "attachments": {},
   "cell_type": "markdown",
   "metadata": {},
   "source": [
    "**'CustomerId'**\n",
    "\n",
    "Еще один столбец с уникальными номерами (они все разные и их ровно 10000). Это некий уникальный номер, присваиваемый клиенту. Тоже сомнительно, что столбец несет полезную информацию, и от него может зависеть уход клиента. Этот столбец помогает понять, что дубликатов в этом фрейме нет."
   ]
  },
  {
   "cell_type": "code",
   "execution_count": 62,
   "metadata": {},
   "outputs": [
    {
     "data": {
      "text/plain": [
       "10000"
      ]
     },
     "execution_count": 62,
     "metadata": {},
     "output_type": "execute_result"
    }
   ],
   "source": [
    "df['CustomerId'].value_counts().count()"
   ]
  },
  {
   "attachments": {},
   "cell_type": "markdown",
   "metadata": {},
   "source": [
    "**'Surname'**\n",
    "\n",
    "2932 разных фамилии, есть повторяющиеся. Фамилия не должна быть параметром, от которого зависит, что уход клиента."
   ]
  },
  {
   "cell_type": "code",
   "execution_count": 63,
   "metadata": {},
   "outputs": [
    {
     "data": {
      "text/plain": [
       "Smith       32\n",
       "Scott       29\n",
       "Martin      29\n",
       "Walker      28\n",
       "Brown       26\n",
       "            ..\n",
       "Izmailov     1\n",
       "Bold         1\n",
       "Bonham       1\n",
       "Poninski     1\n",
       "Burbidge     1\n",
       "Name: Surname, Length: 2932, dtype: int64"
      ]
     },
     "execution_count": 63,
     "metadata": {},
     "output_type": "execute_result"
    }
   ],
   "source": [
    "df['Surname'].value_counts()"
   ]
  },
  {
   "attachments": {},
   "cell_type": "markdown",
   "metadata": {},
   "source": [
    "**'CreditScore'**"
   ]
  },
  {
   "cell_type": "code",
   "execution_count": 64,
   "metadata": {},
   "outputs": [
    {
     "data": {
      "text/plain": [
       "Text(0, 0.5, 'Clients')"
      ]
     },
     "execution_count": 64,
     "metadata": {},
     "output_type": "execute_result"
    },
    {
     "data": {
      "image/png": "[encoded data removed]",
      "text/plain": [
       "<Figure size 720x432 with 1 Axes>"
      ]
     },
     "metadata": {
      "needs_background": "light"
     },
     "output_type": "display_data"
    }
   ],
   "source": [
    "fig, ax = plt.subplots(figsize=(10,6))\n",
    "sns.histplot(data=df, x='CreditScore', bins=25, ax=ax)\n",
    "plt.title('Credit score distribution')\n",
    "plt.xlabel('Credit score')\n",
    "plt.ylabel('Clients')"
   ]
  },
  {
   "attachments": {},
   "cell_type": "markdown",
   "metadata": {},
   "source": [
    "**'Age'**\n",
    "\n",
    " - распределение адекватное, похоже на нормальное\n",
    " - возраст начинается с 18 лет (это понятно, клиенты совершеннолетние)"
   ]
  },
  {
   "cell_type": "code",
   "execution_count": 65,
   "metadata": {},
   "outputs": [
    {
     "data": {
      "text/plain": [
       "Text(0, 0.5, 'Clients')"
      ]
     },
     "execution_count": 65,
     "metadata": {},
     "output_type": "execute_result"
    },
    {
     "data": {
      "image/png": "[encoded data removed]",
      "text/plain": [
       "<Figure size 720x432 with 1 Axes>"
      ]
     },
     "metadata": {
      "needs_background": "light"
     },
     "output_type": "display_data"
    }
   ],
   "source": [
    "fig, ax = plt.subplots(figsize=(10,6))\n",
    "sns.histplot(data=df, x='Age', bins=25, ax=ax)\n",
    "plt.title('Age distribution')\n",
    "plt.xlabel('Age')\n",
    "plt.ylabel('Clients')"
   ]
  },
  {
   "attachments": {},
   "cell_type": "markdown",
   "metadata": {},
   "source": [
    "**'Geography'**\n",
    "\n",
    "Категориальный признак. Три значения. Будем кодировать его методом One-Hot Encoding."
   ]
  },
  {
   "cell_type": "code",
   "execution_count": 66,
   "metadata": {},
   "outputs": [
    {
     "data": {
      "text/plain": [
       "France     5014\n",
       "Germany    2509\n",
       "Spain      2477\n",
       "Name: Geography, dtype: int64"
      ]
     },
     "execution_count": 66,
     "metadata": {},
     "output_type": "execute_result"
    }
   ],
   "source": [
    "df['Geography'].value_counts()"
   ]
  },
  {
   "attachments": {},
   "cell_type": "markdown",
   "metadata": {},
   "source": [
    "**'Gender'**\n",
    "\n",
    "Категориальный признак. Два значения. One-Hot Encoding."
   ]
  },
  {
   "cell_type": "code",
   "execution_count": 67,
   "metadata": {},
   "outputs": [
    {
     "data": {
      "text/plain": [
       "Male      5457\n",
       "Female    4543\n",
       "Name: Gender, dtype: int64"
      ]
     },
     "execution_count": 67,
     "metadata": {},
     "output_type": "execute_result"
    }
   ],
   "source": [
    "df['Gender'].value_counts()"
   ]
  },
  {
   "attachments": {},
   "cell_type": "markdown",
   "metadata": {},
   "source": [
    "**'Tenure'**\n",
    "\n",
    "Сколько лет человек был клиентом банка.\n",
    "\n",
    "Распределение вполне равномерное.\n",
    "\n",
    "Есть пропущенные данные (их ~9% (909/10000)).\n",
    "\n",
    "Если сравнить распределение у пропущенных данных и у оставшихся, то не видно сильных различий.\n",
    "Удалять просто так 9% данных не хочется. Можно заменить на значение медианы"
   ]
  },
  {
   "cell_type": "code",
   "execution_count": 68,
   "metadata": {},
   "outputs": [
    {
     "data": {
      "text/plain": [
       "Text(0, 0.5, 'Clients')"
      ]
     },
     "execution_count": 68,
     "metadata": {},
     "output_type": "execute_result"
    },
    {
     "data": {
      "image/png": "[encoded data removed]",
      "text/plain": [
       "<Figure size 720x432 with 1 Axes>"
      ]
     },
     "metadata": {
      "needs_background": "light"
     },
     "output_type": "display_data"
    }
   ],
   "source": [
    "fig, ax = plt.subplots(figsize=(10,6))\n",
    "sns.histplot(data=df, x='Tenure', bins=10, ax=ax)\n",
    "plt.title('Age distribution')\n",
    "plt.xlabel('Age')\n",
    "plt.ylabel('Clients')"
   ]
  },
  {
   "attachments": {},
   "cell_type": "markdown",
   "metadata": {},
   "source": [
    "**'Balance'**\n",
    "\n",
    "Распределение данных адекватное. Пик в нуле понятен (у людей ноль на счетах, например, новые клиенты)\n",
    "\n",
    "Посмотрим распределение данных у двух категорий: с нулевым балансом и остальных (в каком-то смысле, неактивные пользователи и активные).\n",
    "Между этими категориями видны различия по количеству продуктов ('num_of_products') и по целевому признаку ('exited')."
   ]
  },
  {
   "cell_type": "code",
   "execution_count": 69,
   "metadata": {},
   "outputs": [
    {
     "data": {
      "text/plain": [
       "Text(0, 0.5, 'Clients')"
      ]
     },
     "execution_count": 69,
     "metadata": {},
     "output_type": "execute_result"
    },
    {
     "data": {
      "image/png": "[encoded data removed]",
      "text/plain": [
       "<Figure size 720x432 with 1 Axes>"
      ]
     },
     "metadata": {
      "needs_background": "light"
     },
     "output_type": "display_data"
    }
   ],
   "source": [
    "fig, ax = plt.subplots(figsize=(10,6))\n",
    "sns.histplot(data=df, x='Balance', bins=25, ax=ax)\n",
    "plt.title('Balance distribution')\n",
    "plt.xlabel('Balance')\n",
    "plt.ylabel('Clients')"
   ]
  },
  {
   "attachments": {},
   "cell_type": "markdown",
   "metadata": {},
   "source": [
    "**'NumOfProducts'**\n",
    "\n",
    "Большая часть клиентов пользуется одним или двумя продуктами."
   ]
  },
  {
   "cell_type": "code",
   "execution_count": 70,
   "metadata": {},
   "outputs": [
    {
     "data": {
      "text/plain": [
       "1    5084\n",
       "2    4590\n",
       "3     266\n",
       "4      60\n",
       "Name: NumOfProducts, dtype: int64"
      ]
     },
     "execution_count": 70,
     "metadata": {},
     "output_type": "execute_result"
    }
   ],
   "source": [
    "df['NumOfProducts'].value_counts()"
   ]
  },
  {
   "attachments": {},
   "cell_type": "markdown",
   "metadata": {},
   "source": [
    "**'EstimatedSalary'**\n",
    "\n",
    "Распределение по предполагаемой зарплате равномерное."
   ]
  },
  {
   "cell_type": "code",
   "execution_count": 71,
   "metadata": {},
   "outputs": [
    {
     "data": {
      "text/plain": [
       "Text(0, 0.5, 'Clients')"
      ]
     },
     "execution_count": 71,
     "metadata": {},
     "output_type": "execute_result"
    },
    {
     "data": {
      "image/png": "[encoded data removed]",
      "text/plain": [
       "<Figure size 720x432 with 1 Axes>"
      ]
     },
     "metadata": {
      "needs_background": "light"
     },
     "output_type": "display_data"
    }
   ],
   "source": [
    "fig, ax = plt.subplots(figsize=(10,6))\n",
    "sns.histplot(data=df, x='EstimatedSalary', bins=25, ax=ax)\n",
    "plt.title('Estimated Salary distribution')\n",
    "plt.xlabel('Estimated salary')\n",
    "plt.ylabel('Clients')"
   ]
  },
  {
   "attachments": {},
   "cell_type": "markdown",
   "metadata": {},
   "source": [
    "**Корреляция признаков**\n",
    "\n",
    "- видны некоторые интересные расслоения (особенно по признакам 'age', 'num_of_products')\n",
    "- какой-то значичимой корреляции между признаками не видно (максимум 0.28 между 'age' и 'exited')"
   ]
  },
  {
   "cell_type": "code",
   "execution_count": 72,
   "metadata": {},
   "outputs": [
    {
     "data": {
      "text/plain": [
       "Text(0.5, 1.0, 'Корреляция между признаками')"
      ]
     },
     "execution_count": 72,
     "metadata": {},
     "output_type": "execute_result"
    },
    {
     "data": {
      "image/png": "[encoded data removed]",
      "text/plain": [
       "<Figure size 720x576 with 2 Axes>"
      ]
     },
     "metadata": {
      "needs_background": "light"
     },
     "output_type": "display_data"
    }
   ],
   "source": [
    "plt.figure(figsize=(10, 8))\n",
    "sns.heatmap(df.corr(), annot=True, fmt='.2f', cmap='RdYlGn')\n",
    "plt.title('Корреляция между признаками')"
   ]
  },
  {
   "attachments": {},
   "cell_type": "markdown",
   "metadata": {},
   "source": [
    "### 3. Подготовка и разбиение данных"
   ]
  },
  {
   "attachments": {},
   "cell_type": "markdown",
   "metadata": {},
   "source": [
    "**Удаление \"лишних\" признаков**\n",
    "\n",
    "Признаки 'CustomerId', 'RowNumber', 'Surname' не должны влиять на нашу модель. Их можно удалить."
   ]
  },
  {
   "cell_type": "code",
   "execution_count": 73,
   "metadata": {},
   "outputs": [],
   "source": [
    "# создание датафрейма X - очищенный датафрейм для моделей.\n",
    "df_clean = df.drop(['CustomerId', 'RowNumber', 'Surname'] , axis=1)"
   ]
  },
  {
   "attachments": {},
   "cell_type": "markdown",
   "metadata": {},
   "source": [
    "**Обработка пропусков**\n",
    "\n",
    "В данных 9% пропусков в стобце 'Tenure'. Заменим пропущенные данные на медиану (=5)"
   ]
  },
  {
   "cell_type": "code",
   "execution_count": 74,
   "metadata": {},
   "outputs": [],
   "source": [
    "df_clean = df_clean.fillna(df_clean['Tenure'].median())"
   ]
  },
  {
   "attachments": {},
   "cell_type": "markdown",
   "metadata": {},
   "source": [
    "**OneHotEncoding категориальных признаков**"
   ]
  },
  {
   "cell_type": "code",
   "execution_count": 75,
   "metadata": {},
   "outputs": [],
   "source": [
    "cat_cols = ['Geography', 'Gender']\n",
    "num_cols = ['CreditScore','Age', 'Tenure', 'Balance', \\\n",
    "            'NumOfProducts', 'HasCrCard', 'IsActiveMember', \\\n",
    "            'EstimatedSalary']"
   ]
  },
  {
   "cell_type": "code",
   "execution_count": 76,
   "metadata": {},
   "outputs": [],
   "source": [
    "enc = OneHotEncoder(drop='first')\n",
    "enc.fit(df_clean[cat_cols])\n",
    "ohe_columns = enc.get_feature_names_out (df_clean[cat_cols].columns)\n",
    "df_clean_ohe = pd.DataFrame(enc.transform(df_clean[cat_cols]).toarray(), \n",
    "                     columns=ohe_columns,\n",
    "                     index=df_clean.index)"
   ]
  },
  {
   "cell_type": "code",
   "execution_count": 77,
   "metadata": {},
   "outputs": [
    {
     "data": {
      "text/html": [
       "<div>\n",
       "<style scoped>\n",
       "    .dataframe tbody tr th:only-of-type {\n",
       "        vertical-align: middle;\n",
       "    }\n",
       "\n",
       "    .dataframe tbody tr th {\n",
       "        vertical-align: top;\n",
       "    }\n",
       "\n",
       "    .dataframe thead th {\n",
       "        text-align: right;\n",
       "    }\n",
       "</style>\n",
       "<table border=\"1\" class=\"dataframe\">\n",
       "  <thead>\n",
       "    <tr style=\"text-align: right;\">\n",
       "      <th></th>\n",
       "      <th>Geography_Germany</th>\n",
       "      <th>Geography_Spain</th>\n",
       "      <th>Gender_Male</th>\n",
       "    </tr>\n",
       "  </thead>\n",
       "  <tbody>\n",
       "    <tr>\n",
       "      <th>0</th>\n",
       "      <td>0.0</td>\n",
       "      <td>0.0</td>\n",
       "      <td>0.0</td>\n",
       "    </tr>\n",
       "    <tr>\n",
       "      <th>1</th>\n",
       "      <td>0.0</td>\n",
       "      <td>1.0</td>\n",
       "      <td>0.0</td>\n",
       "    </tr>\n",
       "    <tr>\n",
       "      <th>2</th>\n",
       "      <td>0.0</td>\n",
       "      <td>0.0</td>\n",
       "      <td>0.0</td>\n",
       "    </tr>\n",
       "    <tr>\n",
       "      <th>3</th>\n",
       "      <td>0.0</td>\n",
       "      <td>0.0</td>\n",
       "      <td>0.0</td>\n",
       "    </tr>\n",
       "    <tr>\n",
       "      <th>4</th>\n",
       "      <td>0.0</td>\n",
       "      <td>1.0</td>\n",
       "      <td>0.0</td>\n",
       "    </tr>\n",
       "    <tr>\n",
       "      <th>...</th>\n",
       "      <td>...</td>\n",
       "      <td>...</td>\n",
       "      <td>...</td>\n",
       "    </tr>\n",
       "    <tr>\n",
       "      <th>9995</th>\n",
       "      <td>0.0</td>\n",
       "      <td>0.0</td>\n",
       "      <td>1.0</td>\n",
       "    </tr>\n",
       "    <tr>\n",
       "      <th>9996</th>\n",
       "      <td>0.0</td>\n",
       "      <td>0.0</td>\n",
       "      <td>1.0</td>\n",
       "    </tr>\n",
       "    <tr>\n",
       "      <th>9997</th>\n",
       "      <td>0.0</td>\n",
       "      <td>0.0</td>\n",
       "      <td>0.0</td>\n",
       "    </tr>\n",
       "    <tr>\n",
       "      <th>9998</th>\n",
       "      <td>1.0</td>\n",
       "      <td>0.0</td>\n",
       "      <td>1.0</td>\n",
       "    </tr>\n",
       "    <tr>\n",
       "      <th>9999</th>\n",
       "      <td>0.0</td>\n",
       "      <td>0.0</td>\n",
       "      <td>0.0</td>\n",
       "    </tr>\n",
       "  </tbody>\n",
       "</table>\n",
       "<p>10000 rows × 3 columns</p>\n",
       "</div>"
      ],
      "text/plain": [
       "      Geography_Germany  Geography_Spain  Gender_Male\n",
       "0                   0.0              0.0          0.0\n",
       "1                   0.0              1.0          0.0\n",
       "2                   0.0              0.0          0.0\n",
       "3                   0.0              0.0          0.0\n",
       "4                   0.0              1.0          0.0\n",
       "...                 ...              ...          ...\n",
       "9995                0.0              0.0          1.0\n",
       "9996                0.0              0.0          1.0\n",
       "9997                0.0              0.0          0.0\n",
       "9998                1.0              0.0          1.0\n",
       "9999                0.0              0.0          0.0\n",
       "\n",
       "[10000 rows x 3 columns]"
      ]
     },
     "execution_count": 77,
     "metadata": {},
     "output_type": "execute_result"
    }
   ],
   "source": [
    "df_clean[num_cols]\n",
    "df_clean_ohe"
   ]
  },
  {
   "cell_type": "code",
   "execution_count": 78,
   "metadata": {},
   "outputs": [
    {
     "data": {
      "text/html": [
       "<div>\n",
       "<style scoped>\n",
       "    .dataframe tbody tr th:only-of-type {\n",
       "        vertical-align: middle;\n",
       "    }\n",
       "\n",
       "    .dataframe tbody tr th {\n",
       "        vertical-align: top;\n",
       "    }\n",
       "\n",
       "    .dataframe thead th {\n",
       "        text-align: right;\n",
       "    }\n",
       "</style>\n",
       "<table border=\"1\" class=\"dataframe\">\n",
       "  <thead>\n",
       "    <tr style=\"text-align: right;\">\n",
       "      <th></th>\n",
       "      <th>CreditScore</th>\n",
       "      <th>Age</th>\n",
       "      <th>Tenure</th>\n",
       "      <th>Balance</th>\n",
       "      <th>NumOfProducts</th>\n",
       "      <th>HasCrCard</th>\n",
       "      <th>IsActiveMember</th>\n",
       "      <th>EstimatedSalary</th>\n",
       "      <th>Geography_Germany</th>\n",
       "      <th>Geography_Spain</th>\n",
       "      <th>Gender_Male</th>\n",
       "    </tr>\n",
       "  </thead>\n",
       "  <tbody>\n",
       "    <tr>\n",
       "      <th>0</th>\n",
       "      <td>619</td>\n",
       "      <td>42</td>\n",
       "      <td>2.0</td>\n",
       "      <td>0.00</td>\n",
       "      <td>1</td>\n",
       "      <td>1</td>\n",
       "      <td>1</td>\n",
       "      <td>101348.88</td>\n",
       "      <td>0.0</td>\n",
       "      <td>0.0</td>\n",
       "      <td>0.0</td>\n",
       "    </tr>\n",
       "    <tr>\n",
       "      <th>1</th>\n",
       "      <td>608</td>\n",
       "      <td>41</td>\n",
       "      <td>1.0</td>\n",
       "      <td>83807.86</td>\n",
       "      <td>1</td>\n",
       "      <td>0</td>\n",
       "      <td>1</td>\n",
       "      <td>112542.58</td>\n",
       "      <td>0.0</td>\n",
       "      <td>1.0</td>\n",
       "      <td>0.0</td>\n",
       "    </tr>\n",
       "    <tr>\n",
       "      <th>2</th>\n",
       "      <td>502</td>\n",
       "      <td>42</td>\n",
       "      <td>8.0</td>\n",
       "      <td>159660.80</td>\n",
       "      <td>3</td>\n",
       "      <td>1</td>\n",
       "      <td>0</td>\n",
       "      <td>113931.57</td>\n",
       "      <td>0.0</td>\n",
       "      <td>0.0</td>\n",
       "      <td>0.0</td>\n",
       "    </tr>\n",
       "    <tr>\n",
       "      <th>3</th>\n",
       "      <td>699</td>\n",
       "      <td>39</td>\n",
       "      <td>1.0</td>\n",
       "      <td>0.00</td>\n",
       "      <td>2</td>\n",
       "      <td>0</td>\n",
       "      <td>0</td>\n",
       "      <td>93826.63</td>\n",
       "      <td>0.0</td>\n",
       "      <td>0.0</td>\n",
       "      <td>0.0</td>\n",
       "    </tr>\n",
       "    <tr>\n",
       "      <th>4</th>\n",
       "      <td>850</td>\n",
       "      <td>43</td>\n",
       "      <td>2.0</td>\n",
       "      <td>125510.82</td>\n",
       "      <td>1</td>\n",
       "      <td>1</td>\n",
       "      <td>1</td>\n",
       "      <td>79084.10</td>\n",
       "      <td>0.0</td>\n",
       "      <td>1.0</td>\n",
       "      <td>0.0</td>\n",
       "    </tr>\n",
       "    <tr>\n",
       "      <th>...</th>\n",
       "      <td>...</td>\n",
       "      <td>...</td>\n",
       "      <td>...</td>\n",
       "      <td>...</td>\n",
       "      <td>...</td>\n",
       "      <td>...</td>\n",
       "      <td>...</td>\n",
       "      <td>...</td>\n",
       "      <td>...</td>\n",
       "      <td>...</td>\n",
       "      <td>...</td>\n",
       "    </tr>\n",
       "    <tr>\n",
       "      <th>9995</th>\n",
       "      <td>771</td>\n",
       "      <td>39</td>\n",
       "      <td>5.0</td>\n",
       "      <td>0.00</td>\n",
       "      <td>2</td>\n",
       "      <td>1</td>\n",
       "      <td>0</td>\n",
       "      <td>96270.64</td>\n",
       "      <td>0.0</td>\n",
       "      <td>0.0</td>\n",
       "      <td>1.0</td>\n",
       "    </tr>\n",
       "    <tr>\n",
       "      <th>9996</th>\n",
       "      <td>516</td>\n",
       "      <td>35</td>\n",
       "      <td>10.0</td>\n",
       "      <td>57369.61</td>\n",
       "      <td>1</td>\n",
       "      <td>1</td>\n",
       "      <td>1</td>\n",
       "      <td>101699.77</td>\n",
       "      <td>0.0</td>\n",
       "      <td>0.0</td>\n",
       "      <td>1.0</td>\n",
       "    </tr>\n",
       "    <tr>\n",
       "      <th>9997</th>\n",
       "      <td>709</td>\n",
       "      <td>36</td>\n",
       "      <td>7.0</td>\n",
       "      <td>0.00</td>\n",
       "      <td>1</td>\n",
       "      <td>0</td>\n",
       "      <td>1</td>\n",
       "      <td>42085.58</td>\n",
       "      <td>0.0</td>\n",
       "      <td>0.0</td>\n",
       "      <td>0.0</td>\n",
       "    </tr>\n",
       "    <tr>\n",
       "      <th>9998</th>\n",
       "      <td>772</td>\n",
       "      <td>42</td>\n",
       "      <td>3.0</td>\n",
       "      <td>75075.31</td>\n",
       "      <td>2</td>\n",
       "      <td>1</td>\n",
       "      <td>0</td>\n",
       "      <td>92888.52</td>\n",
       "      <td>1.0</td>\n",
       "      <td>0.0</td>\n",
       "      <td>1.0</td>\n",
       "    </tr>\n",
       "    <tr>\n",
       "      <th>9999</th>\n",
       "      <td>792</td>\n",
       "      <td>28</td>\n",
       "      <td>5.0</td>\n",
       "      <td>130142.79</td>\n",
       "      <td>1</td>\n",
       "      <td>1</td>\n",
       "      <td>0</td>\n",
       "      <td>38190.78</td>\n",
       "      <td>0.0</td>\n",
       "      <td>0.0</td>\n",
       "      <td>0.0</td>\n",
       "    </tr>\n",
       "  </tbody>\n",
       "</table>\n",
       "<p>10000 rows × 11 columns</p>\n",
       "</div>"
      ],
      "text/plain": [
       "      CreditScore  Age  Tenure    Balance  NumOfProducts  HasCrCard  \\\n",
       "0             619   42     2.0       0.00              1          1   \n",
       "1             608   41     1.0   83807.86              1          0   \n",
       "2             502   42     8.0  159660.80              3          1   \n",
       "3             699   39     1.0       0.00              2          0   \n",
       "4             850   43     2.0  125510.82              1          1   \n",
       "...           ...  ...     ...        ...            ...        ...   \n",
       "9995          771   39     5.0       0.00              2          1   \n",
       "9996          516   35    10.0   57369.61              1          1   \n",
       "9997          709   36     7.0       0.00              1          0   \n",
       "9998          772   42     3.0   75075.31              2          1   \n",
       "9999          792   28     5.0  130142.79              1          1   \n",
       "\n",
       "      IsActiveMember  EstimatedSalary  Geography_Germany  Geography_Spain  \\\n",
       "0                  1        101348.88                0.0              0.0   \n",
       "1                  1        112542.58                0.0              1.0   \n",
       "2                  0        113931.57                0.0              0.0   \n",
       "3                  0         93826.63                0.0              0.0   \n",
       "4                  1         79084.10                0.0              1.0   \n",
       "...              ...              ...                ...              ...   \n",
       "9995               0         96270.64                0.0              0.0   \n",
       "9996               1        101699.77                0.0              0.0   \n",
       "9997               1         42085.58                0.0              0.0   \n",
       "9998               0         92888.52                1.0              0.0   \n",
       "9999               0         38190.78                0.0              0.0   \n",
       "\n",
       "      Gender_Male  \n",
       "0             0.0  \n",
       "1             0.0  \n",
       "2             0.0  \n",
       "3             0.0  \n",
       "4             0.0  \n",
       "...           ...  \n",
       "9995          1.0  \n",
       "9996          1.0  \n",
       "9997          0.0  \n",
       "9998          1.0  \n",
       "9999          0.0  \n",
       "\n",
       "[10000 rows x 11 columns]"
      ]
     },
     "execution_count": 78,
     "metadata": {},
     "output_type": "execute_result"
    }
   ],
   "source": [
    "df_clean_ohe = df_clean[num_cols].join(df_clean_ohe)\n",
    "df_clean_ohe"
   ]
  },
  {
   "attachments": {},
   "cell_type": "markdown",
   "metadata": {},
   "source": [
    "**Разделение выборки и масштабирование признаков**"
   ]
  },
  {
   "cell_type": "code",
   "execution_count": 79,
   "metadata": {},
   "outputs": [],
   "source": [
    "X = df_clean_ohe.copy()\n",
    "y = df_clean['Exited'].copy()"
   ]
  },
  {
   "cell_type": "code",
   "execution_count": 80,
   "metadata": {},
   "outputs": [],
   "source": [
    "X_train, X_test, y_train, y_test = train_test_split(\n",
    "        X, y, test_size=0.25, stratify=y, random_state=RANDOM_STATE)"
   ]
  },
  {
   "cell_type": "code",
   "execution_count": 81,
   "metadata": {},
   "outputs": [],
   "source": [
    "scaler = StandardScaler()\n",
    "X_train[num_cols] = scaler.fit_transform(X_train[num_cols])\n",
    "X_test[num_cols] = scaler.transform(X_test[num_cols])"
   ]
  },
  {
   "attachments": {},
   "cell_type": "markdown",
   "metadata": {},
   "source": [
    "### 4. Модели. Подбор гиперпараметров"
   ]
  },
  {
   "attachments": {},
   "cell_type": "markdown",
   "metadata": {},
   "source": [
    "Исследуем несколько моделей:\n",
    "- LogisticRegression\n",
    "- DecisionTreeClassifier\n",
    "- RandomForestClassifier\n",
    "\n",
    "Каждую модель обучаем в следующих ситуациях:\n",
    "1. без учета дисбаланса классов (подбор гиперпараметров и кроссвалидация - GridSearchCV)\n",
    "2. с учетом дисбаланса классов\n",
    "    1. class_weight='balanced' (подбор гиперпараметров и кроссвалидация - GridSearchCV) \n",
    "    2. upsampling (подбор гиперпараметров и кросвалидация с помощью KFold)\n",
    "    3. downsampling (подбор гиперпараметров и кросвалидация с помощью KFold)\n",
    "\n",
    "При применении upsampling/downsampling для решения проблемы дисбаланса классов Grid/RandomSearchCV не корректно, поэтому сделаем кросс-валидацию вручную с использование KFold."
   ]
  },
  {
   "cell_type": "code",
   "execution_count": 82,
   "metadata": {},
   "outputs": [],
   "source": [
    "# датафрейм для репорта по моделям\n",
    "models_report_indexes = ['LogisticRegression_1',\n",
    "                         'LogisticRegression_2',\n",
    "                         'LogisticRegression_3',\n",
    "                         'LogisticRegression_4',\n",
    "                         'DecisionTreeClassifier_1',\n",
    "                         'DecisionTreeClassifier_2',\n",
    "                         'DecisionTreeClassifier_3',\n",
    "                         'DecisionTreeClassifier_4',  \n",
    "                         'RandomForestClassifier_1', \n",
    "                         'RandomForestClassifier_2',\n",
    "                         'RandomForestClassifier_3',\n",
    "                         'RandomForestClassifier_4'                         \n",
    "                         ]\n",
    "models_report_columns = ['balance', 'F1-score', 'ROC-AUC']\n",
    "models_report = pd.DataFrame(columns=models_report_columns,\n",
    "                             index=models_report_indexes)"
   ]
  },
  {
   "cell_type": "code",
   "execution_count": 83,
   "metadata": {},
   "outputs": [],
   "source": [
    "def upsample(X, y, repeat):\n",
    "    X_zeros = X[y == 0]\n",
    "    X_ones  = X[y == 1]\n",
    "    y_zeros = y[y == 0]\n",
    "    y_ones  = y[y == 1]\n",
    "\n",
    "    X_upsampled = pd.concat([X_zeros] + [X_ones] * repeat)\n",
    "    y_upsampled = pd.concat([y_zeros] + [y_ones] * repeat)\n",
    "\n",
    "    return shuffle(X_upsampled, y_upsampled, random_state=RANDOM_STATE)  \n",
    "\n",
    "def downsample(X, y, fraction):\n",
    "    X_zeros = X[y == 0]\n",
    "    X_ones  = X[y == 1]\n",
    "    y_zeros = y[y == 0]\n",
    "    y_ones  = y[y == 1]\n",
    "\n",
    "    X_zeros_downsampled = X_zeros.sample(frac=fraction, random_state=RANDOM_STATE)\n",
    "    y_zeros_downsampled = y_zeros.sample(frac=fraction, random_state=RANDOM_STATE)\n",
    "\n",
    "    X_downsampled = pd.concat([X_zeros_downsampled] + [X_ones])\n",
    "    y_downsampled = pd.concat([y_zeros_downsampled] + [y_ones])\n",
    "    \n",
    "    return shuffle(X_downsampled, y_downsampled, random_state=RANDOM_STATE)"
   ]
  },
  {
   "cell_type": "code",
   "execution_count": 84,
   "metadata": {},
   "outputs": [],
   "source": [
    "# создаем объект kfold\n",
    "kfold = KFold(n_splits=CV_K, shuffle=False)"
   ]
  },
  {
   "cell_type": "code",
   "execution_count": 85,
   "metadata": {},
   "outputs": [],
   "source": [
    "# function for cross-validation of transformed sample(upsampling, downsampling) \n",
    "def cv_transformed_model(model, params, X, y, kfold, transform, transofm_rate):\n",
    "    f1_scores = []\n",
    "    roc_auc_scores = []    \n",
    "\n",
    "    for train_index, test_index in kfold.split(X):\n",
    "        X_train, X_test = X.iloc[train_index], X.iloc[test_index]\n",
    "        y_train, y_test = y.iloc[train_index], y.iloc[test_index]\n",
    "        \n",
    "        # tarnsformation\n",
    "        X_train_transformed, y_train_transformed = transform(X_train, y_train, transofm_rate)\n",
    "        \n",
    "        model_obj = model(**params).fit(X_train_transformed, y_train_transformed)\n",
    "        \n",
    "        y_pred = model_obj.predict(X_test)\n",
    "\n",
    "        f1 = f1_score(y_test, y_pred)\n",
    "        roc_auc = roc_auc_score(y_test, y_pred)\n",
    "          \n",
    "        f1_scores.append(f1)\n",
    "        roc_auc_scores.append(roc_auc)\n",
    "        \n",
    "    return np.array(f1_scores).mean(), np.array(roc_auc_scores).mean()"
   ]
  },
  {
   "cell_type": "code",
   "execution_count": 86,
   "metadata": {},
   "outputs": [],
   "source": [
    "def print_results(model, X_train, X_test, y_train, y_test):\n",
    "    print(f'Train. Accuracy: {accuracy_score(y_train, model.predict(X_train))}')\n",
    "    print(f'Train. F1-score: {f1_score(y_train, model.predict(X_train))}')\n",
    "    print(f'Train. ROC-AUC : {roc_auc_score(y_train, model.predict(X_train))}')\n",
    "    print(f'Test.  Accuracy: {accuracy_score(y_test, model.predict(X_test))}')\n",
    "    print(f'Test.  F1-score: {f1_score(y_test, model.predict(X_test))}')\n",
    "    print(f'Test.  ROC-AUC : {roc_auc_score(y_test, model.predict(X_test))}')\n",
    "\n",
    "def fill_report(report, model_name, balance_type, model, X_test, y_test):\n",
    "    report.loc[model_name, 'balance'] = balance_type\n",
    "    report.loc[model_name, 'Accuracy'] = round(accuracy_score(y_test, model.predict(X_test)), 3)\n",
    "    report.loc[model_name, 'F1-score'] = round(f1_score(y_test, model.predict(X_test)), 3)\n",
    "    report.loc[model_name, 'ROC-AUC'] = round(roc_auc_score(y_test, model.predict(X_test)), 3)\n",
    "    report.loc[model_name]\n",
    "    "
   ]
  },
  {
   "attachments": {},
   "cell_type": "markdown",
   "metadata": {},
   "source": [
    "#### 3.1 LogisticRegression"
   ]
  },
  {
   "attachments": {},
   "cell_type": "markdown",
   "metadata": {},
   "source": [
    "Без учета дисбаланса классов"
   ]
  },
  {
   "cell_type": "code",
   "execution_count": 87,
   "metadata": {},
   "outputs": [
    {
     "name": "stdout",
     "output_type": "stream",
     "text": [
      "Best parameters:  {'C': 0.03359818286283781, 'class_weight': None, 'max_iter': 100, 'penalty': 'l2', 'solver': 'lbfgs'}\n",
      "Train. Accuracy: 0.8136\n",
      "Train. F1-score: 0.301\n",
      "Train. ROC-AUC : 0.5841779526095602\n",
      "Test.  Accuracy: 0.8132\n",
      "Test.  F1-score: 0.30402384500745155\n",
      "Test.  ROC-AUC : 0.5851286585311702\n"
     ]
    }
   ],
   "source": [
    "# без учета дисбаланса классов\n",
    "lr_params_1 = {\n",
    "    'C': np.logspace(-4, 4, 20),\n",
    "    'penalty': ['l1', 'l2'],\n",
    "    'max_iter':  [100, 1000],\n",
    "    'class_weight': [None],\n",
    "    'solver': ['lbfgs', 'liblinear'],\n",
    "}\n",
    "lr_1 = LogisticRegression(random_state=RANDOM_STATE)\n",
    "lr_grid_search_1 = GridSearchCV(lr_1,\n",
    "                              lr_params_1,\n",
    "                              cv=5)\n",
    "\n",
    "lr_grid_search_1.fit(X_train, y_train)\n",
    "\n",
    "print(\"Best parameters: \", lr_grid_search_1.best_params_)\n",
    "    \n",
    "print_results(lr_grid_search_1.best_estimator_, X_train, X_test, y_train, y_test)\n",
    "fill_report(models_report, 'LogisticRegression_1', 'none', lr_grid_search_1.best_estimator_, X_test, y_test)"
   ]
  },
  {
   "attachments": {},
   "cell_type": "markdown",
   "metadata": {},
   "source": [
    "С учетов дисбаланса классов. class_weight='balanced'"
   ]
  },
  {
   "cell_type": "code",
   "execution_count": 88,
   "metadata": {},
   "outputs": [
    {
     "name": "stdout",
     "output_type": "stream",
     "text": [
      "Best parameters:  {'C': 0.0001, 'class_weight': 'balanced', 'max_iter': 100, 'penalty': 'l1', 'solver': 'liblinear'}\n",
      "Train. Accuracy: 0.7962666666666667\n",
      "Train. F1-score: 0.0\n",
      "Train. ROC-AUC : 0.5\n",
      "Test.  Accuracy: 0.7964\n",
      "Test.  F1-score: 0.0\n",
      "Test.  ROC-AUC : 0.5\n"
     ]
    }
   ],
   "source": [
    "# С учетом дисбаланса классов. class_weight='balanced'\n",
    "lr_params_2 = {\n",
    "    'C': np.logspace(-4, 4, 20),\n",
    "    'penalty': ['l1', 'l2'],\n",
    "    'max_iter':  [100, 1000],\n",
    "    'class_weight': ['balanced'],\n",
    "    'solver': ['lbfgs', 'liblinear'],\n",
    "}\n",
    "lr_2 = LogisticRegression(random_state=RANDOM_STATE)\n",
    "lr_grid_search_2 = GridSearchCV(lr_2,\n",
    "                              lr_params_2,\n",
    "                              cv=5)\n",
    "\n",
    "lr_grid_search_2.fit(X_train, y_train)\n",
    "\n",
    "print(\"Best parameters: \", lr_grid_search_2.best_params_)\n",
    "    \n",
    "print_results(lr_grid_search_2.best_estimator_, X_train, X_test, y_train, y_test)\n",
    "fill_report(models_report, 'LogisticRegression_2', 'balanced', lr_grid_search_2.best_estimator_, X_test, y_test)"
   ]
  },
  {
   "attachments": {},
   "cell_type": "markdown",
   "metadata": {},
   "source": [
    "Upsampling"
   ]
  },
  {
   "cell_type": "code",
   "execution_count": 89,
   "metadata": {},
   "outputs": [
    {
     "name": "stdout",
     "output_type": "stream",
     "text": [
      "Best parameters:  {'C': 0.615848211066026, 'penalty': 'l2', 'max_iter': 100, 'solver': 'lbfgs', 'random_state': 12345}\n",
      "Train. Accuracy: 0.8121333333333334\n",
      "Train. F1-score: 0.3150218765192027\n",
      "Train. ROC-AUC : 0.5888575130714714\n",
      "Test.  Accuracy: 0.8136\n",
      "Test.  F1-score: 0.3206997084548105\n",
      "Test.  ROC-AUC : 0.5912292941024394\n"
     ]
    }
   ],
   "source": [
    "# upsampling\n",
    "lr_params_3 = {\n",
    "    'C': np.logspace(-4, 4, 20),\n",
    "    'penalty': ['l2'],\n",
    "    'max_iter':  [100, 1000],\n",
    "    'class_weight': [None],\n",
    "    'solver': ['lbfgs', 'liblinear'],\n",
    "}\n",
    "\n",
    "lr_models_3 = []\n",
    "\n",
    "for C, penalty, max_iter, solver in product(lr_params_3['C'],\n",
    "                                            lr_params_3['penalty'],\n",
    "                                            lr_params_3['max_iter'],\n",
    "                                            lr_params_3['solver']\n",
    "                                           ):\n",
    "    params = {'C': C,\n",
    "              'penalty': penalty,\n",
    "              'max_iter': max_iter,\n",
    "              'solver': solver,\n",
    "              'random_state': RANDOM_STATE\n",
    "             }\n",
    "    \n",
    "    params['f1'], params['roc_auc'] = cv_transformed_model(LogisticRegression,\n",
    "                                                           params, \n",
    "                                                           X_train, \n",
    "                                                           y_train, \n",
    "                                                           kfold,\n",
    "                                                           upsample, \n",
    "                                                           2\n",
    "                                                           )\n",
    "    lr_models_3.append(params)\n",
    "\n",
    "\n",
    "best_params = sorted(lr_models_3, key=lambda x: x['f1'], reverse=True)[0]\n",
    "del best_params['f1']\n",
    "del best_params['roc_auc']\n",
    "lr_3 = LogisticRegression(**best_params).fit(X_train, y_train)\n",
    "\n",
    "print(\"Best parameters: \", best_params)\n",
    "print_results(lr_3, X_train, X_test, y_train, y_test)\n",
    "fill_report(models_report, 'LogisticRegression_3', 'upsampled', lr_3, X_test, y_test)"
   ]
  },
  {
   "attachments": {},
   "cell_type": "markdown",
   "metadata": {},
   "source": [
    "downsampling"
   ]
  },
  {
   "cell_type": "code",
   "execution_count": 90,
   "metadata": {},
   "outputs": [
    {
     "name": "stdout",
     "output_type": "stream",
     "text": [
      "Best parameters:  {'C': 1.623776739188721, 'penalty': 'l2', 'max_iter': 100, 'solver': 'lbfgs', 'random_state': 12345}\n",
      "Train. Accuracy: 0.8122666666666667\n",
      "Train. F1-score: 0.316504854368932\n",
      "Train. ROC-AUC : 0.5894282392877056\n",
      "Test.  Accuracy: 0.8132\n",
      "Test.  F1-score: 0.3202328966521106\n",
      "Test.  ROC-AUC : 0.5909781640170552\n"
     ]
    }
   ],
   "source": [
    "# downsampling\n",
    "lr_params_4 = {\n",
    "    'C': np.logspace(-4, 4, 20),\n",
    "    'penalty': ['l2'],\n",
    "    'max_iter':  [100, 1000],\n",
    "    'class_weight': [None],\n",
    "    'solver': ['lbfgs', 'liblinear'],\n",
    "}\n",
    "\n",
    "lr_models_4 = []\n",
    "\n",
    "for C, penalty, max_iter, solver in product(lr_params_4['C'],\n",
    "                                            lr_params_4['penalty'],\n",
    "                                            lr_params_4['max_iter'],\n",
    "                                            lr_params_4['solver']\n",
    "                                           ):\n",
    "    params = {'C': C,\n",
    "              'penalty': penalty,\n",
    "              'max_iter': max_iter,\n",
    "              'solver': solver,\n",
    "              'random_state': RANDOM_STATE\n",
    "             }\n",
    "    \n",
    "    params['f1'], params['roc_auc'] = cv_transformed_model(LogisticRegression,\n",
    "                                                           params, \n",
    "                                                           X_train, \n",
    "                                                           y_train, \n",
    "                                                           kfold,\n",
    "                                                           downsample, \n",
    "                                                           0.4\n",
    "                                                           )\n",
    "    lr_models_4.append(params)\n",
    "\n",
    "best_params = sorted(lr_models_4, key=lambda x: x['f1'], reverse=True)[0]\n",
    "del best_params['f1']\n",
    "del best_params['roc_auc']\n",
    "lr_4 = LogisticRegression(**best_params).fit(X_train, y_train)\n",
    "\n",
    "print(\"Best parameters: \", best_params)\n",
    "print_results(lr_4, X_train, X_test, y_train, y_test)\n",
    "fill_report(models_report, 'LogisticRegression_4', 'downsampled', lr_4, X_test, y_test)"
   ]
  },
  {
   "attachments": {},
   "cell_type": "markdown",
   "metadata": {},
   "source": [
    "#### 3.2 DecisionTreeClassifier"
   ]
  },
  {
   "attachments": {},
   "cell_type": "markdown",
   "metadata": {},
   "source": [
    "Без учета дисбаланса классов"
   ]
  },
  {
   "cell_type": "code",
   "execution_count": 91,
   "metadata": {},
   "outputs": [
    {
     "name": "stdout",
     "output_type": "stream",
     "text": [
      "Best parameters:  {'class_weight': None, 'max_depth': 8, 'min_samples_leaf': 1, 'min_samples_split': 4}\n",
      "Train. Accuracy: 0.8830666666666667\n",
      "Train. F1-score: 0.6628219915417146\n",
      "Train. ROC-AUC : 0.7644022892170443\n",
      "Test.  Accuracy: 0.8484\n",
      "Test.  F1-score: 0.5678449258836944\n",
      "Test.  ROC-AUC : 0.7147127693481177\n"
     ]
    }
   ],
   "source": [
    "dt_1 = DecisionTreeClassifier(random_state=RANDOM_STATE)\n",
    "\n",
    "dt_params_1 = {\n",
    "    'max_depth': [None, 8, 10, 12, 15],\n",
    "    'min_samples_leaf': [1, 3, 5],\n",
    "    'min_samples_split': [2, 4],\n",
    "    'class_weight': [None, 'balanced']\n",
    "}\n",
    "\n",
    "dt_grid_search_1 = GridSearchCV(dt_1,\n",
    "                              dt_params_1,\n",
    "                              cv=5)\n",
    "\n",
    "dt_grid_search_1.fit(X_train, y_train)\n",
    "\n",
    "print(\"Best parameters: \", dt_grid_search_1.best_params_)\n",
    "print_results(dt_grid_search_1.best_estimator_, X_train, X_test, y_train, y_test)\n",
    "fill_report(models_report, 'DecisionTreeClassifier_1', 'none', dt_grid_search_1.best_estimator_, X_test, y_test)"
   ]
  },
  {
   "attachments": {},
   "cell_type": "markdown",
   "metadata": {},
   "source": [
    "С учетов дисбаланса классов. class_weight='balanced'"
   ]
  },
  {
   "cell_type": "code",
   "execution_count": 92,
   "metadata": {},
   "outputs": [
    {
     "name": "stdout",
     "output_type": "stream",
     "text": [
      "Best parameters:  {'class_weight': 'balanced', 'max_depth': 15, 'min_samples_leaf': 1, 'min_samples_split': 2}\n",
      "Train. Accuracy: 0.9565333333333333\n",
      "Train. F1-score: 0.9013914095583787\n",
      "Train. ROC-AUC : 0.9634529199089642\n",
      "Test.  Accuracy: 0.7892\n",
      "Test.  F1-score: 0.5187214611872145\n",
      "Test.  ROC-AUC : 0.7031371032119982\n"
     ]
    }
   ],
   "source": [
    "dt_2 = DecisionTreeClassifier(random_state=RANDOM_STATE)\n",
    "\n",
    "dt_params_2 = {\n",
    "    'max_depth': [8, 10, 12, 15],\n",
    "    'min_samples_leaf': [1, 3, 5],\n",
    "    'min_samples_split': [2, 4],\n",
    "    'class_weight': ['balanced']\n",
    "}\n",
    "\n",
    "dt_grid_search_2 = GridSearchCV(dt_2,\n",
    "                              dt_params_2,\n",
    "                              cv=5)\n",
    "\n",
    "dt_grid_search_2.fit(X_train, y_train)\n",
    "\n",
    "print(\"Best parameters: \", dt_grid_search_2.best_params_)\n",
    "print_results(dt_grid_search_2.best_estimator_, X_train, X_test, y_train, y_test)\n",
    "fill_report(models_report, 'DecisionTreeClassifier_2', 'balanced', dt_grid_search_2.best_estimator_, X_test, y_test)\n"
   ]
  },
  {
   "attachments": {},
   "cell_type": "markdown",
   "metadata": {},
   "source": [
    "Upsampling"
   ]
  },
  {
   "cell_type": "code",
   "execution_count": 93,
   "metadata": {},
   "outputs": [
    {
     "name": "stdout",
     "output_type": "stream",
     "text": [
      "Best parameters:  {'max_depth': 8, 'min_samples_leaf': 3, 'min_samples_split': 2, 'random_state': 12345}\n",
      "Train. Accuracy: 0.8810666666666667\n",
      "Train. F1-score: 0.6566589684372595\n",
      "Train. ROC-AUC : 0.7609549187657585\n",
      "Test.  Accuracy: 0.848\n",
      "Test.  F1-score: 0.5642201834862385\n",
      "Test.  ROC-AUC : 0.7122680747055266\n"
     ]
    }
   ],
   "source": [
    "# upsampling\n",
    "dt_params_3 = {\n",
    "    'max_depth': [8, 10, 12, 15],\n",
    "    'min_samples_leaf': [1, 3, 5],\n",
    "    'min_samples_split': [2, 4]\n",
    "}\n",
    "\n",
    "dt_models_3 = []\n",
    "\n",
    "for max_depth, min_samples_leaf, min_samples_split in product(dt_params_3['max_depth'],\n",
    "                                                              dt_params_3['min_samples_leaf'],\n",
    "                                                              dt_params_3['min_samples_split']                                                              \n",
    "                                                            ):\n",
    "    params = {'max_depth': max_depth,\n",
    "              'min_samples_leaf': min_samples_leaf,\n",
    "              'min_samples_split': min_samples_split,\n",
    "              'random_state': RANDOM_STATE\n",
    "             }\n",
    "    \n",
    "    params['f1'], params['roc_auc'] = cv_transformed_model(DecisionTreeClassifier,\n",
    "                                                           params, \n",
    "                                                           X_train, \n",
    "                                                           y_train, \n",
    "                                                           kfold,\n",
    "                                                           upsample, \n",
    "                                                           2\n",
    "                                                           )\n",
    "    dt_models_3.append(params)\n",
    "\n",
    "best_params = sorted(dt_models_3, key=lambda x: x['f1'], reverse=True)[0]\n",
    "del best_params['f1']\n",
    "del best_params['roc_auc']\n",
    "dt_3 = DecisionTreeClassifier(**best_params).fit(X_train, y_train)\n",
    "\n",
    "print(\"Best parameters: \", best_params)\n",
    "print_results(dt_3, X_train, X_test, y_train, y_test)\n",
    "fill_report(models_report, 'DecisionTreeClassifier_3', 'upsampled', dt_3, X_test, y_test)"
   ]
  },
  {
   "attachments": {},
   "cell_type": "markdown",
   "metadata": {},
   "source": [
    "Downsampling"
   ]
  },
  {
   "cell_type": "code",
   "execution_count": 94,
   "metadata": {},
   "outputs": [
    {
     "name": "stdout",
     "output_type": "stream",
     "text": [
      "Best parameters:  {'max_depth': 8, 'min_samples_leaf': 1, 'min_samples_split': 2, 'random_state': 12345}\n",
      "Train. Accuracy: 0.8834666666666666\n",
      "Train. F1-score: 0.6643625192012288\n",
      "Train. ROC-AUC : 0.7653839646097145\n",
      "Test.  Accuracy: 0.8496\n",
      "Test.  F1-score: 0.5697940503432495\n",
      "Test.  ROC-AUC : 0.7154661596042703\n"
     ]
    }
   ],
   "source": [
    "# downsampling\n",
    "dt_params_4 = {\n",
    "    'max_depth': [8, 10, 12, 15],\n",
    "    'min_samples_leaf': [1, 3, 5],\n",
    "    'min_samples_split': [2, 4]\n",
    "}\n",
    "\n",
    "dt_models_4 = []\n",
    "\n",
    "for max_depth, min_samples_leaf, min_samples_split in product(dt_params_4['max_depth'],\n",
    "                                                              dt_params_4['min_samples_leaf'],\n",
    "                                                              dt_params_4['min_samples_split']                                                              \n",
    "                                                            ):\n",
    "    params = {'max_depth': max_depth,\n",
    "              'min_samples_leaf': min_samples_leaf,\n",
    "              'min_samples_split': min_samples_split,\n",
    "              'random_state': RANDOM_STATE\n",
    "             }\n",
    "    \n",
    "    params['f1'], params['roc_auc'] = cv_transformed_model(DecisionTreeClassifier,\n",
    "                                                           params, \n",
    "                                                           X_train, \n",
    "                                                           y_train, \n",
    "                                                           kfold,\n",
    "                                                           downsample, \n",
    "                                                           0.4\n",
    "                                                           )\n",
    "    dt_models_4.append(params)\n",
    "\n",
    "best_params = sorted(dt_models_4, key=lambda x: x['f1'], reverse=True)[0]\n",
    "del best_params['f1']\n",
    "del best_params['roc_auc']\n",
    "dt_4 = DecisionTreeClassifier(**best_params).fit(X_train, y_train)\n",
    "\n",
    "print(\"Best parameters: \", best_params)\n",
    "print_results(dt_4, X_train, X_test, y_train, y_test)\n",
    "fill_report(models_report, 'DecisionTreeClassifier_4', 'downsampled', dt_4, X_test, y_test)"
   ]
  },
  {
   "attachments": {},
   "cell_type": "markdown",
   "metadata": {},
   "source": [
    "#### 3.3 RandomForestClassifier"
   ]
  },
  {
   "attachments": {},
   "cell_type": "markdown",
   "metadata": {},
   "source": [
    "Без учета дисбаланса классов"
   ]
  },
  {
   "cell_type": "code",
   "execution_count": 95,
   "metadata": {},
   "outputs": [
    {
     "name": "stdout",
     "output_type": "stream",
     "text": [
      "Best parameters:  {'class_weight': None, 'max_depth': 10, 'min_samples_leaf': 3, 'min_samples_split': 2, 'n_estimators': 50}\n",
      "Train. Accuracy: 0.8901333333333333\n",
      "Train. F1-score: 0.657522859517872\n",
      "Train. ROC-AUC : 0.7515510865715398\n",
      "Test.  Accuracy: 0.8648\n",
      "Test.  F1-score: 0.5796019900497513\n",
      "Test.  ROC-AUC : 0.7133100918771011\n"
     ]
    }
   ],
   "source": [
    "rf_1 = RandomForestClassifier(random_state=RANDOM_STATE)\n",
    "\n",
    "rf_params_1 = {\n",
    "    'n_estimators': [50],\n",
    "    'max_depth': [5, 10, 14, 1],\n",
    "    'min_samples_leaf': [2, 3],\n",
    "    'min_samples_split': [2, 4],\n",
    "    'class_weight': [None]\n",
    "}\n",
    "\n",
    "rf_grid_search_1 = GridSearchCV(rf_1,\n",
    "                              rf_params_1,\n",
    "                              cv=5)\n",
    "\n",
    "rf_grid_search_1.fit(X_train, y_train)\n",
    "\n",
    "print(\"Best parameters: \", rf_grid_search_1.best_params_)\n",
    "print_results(rf_grid_search_1.best_estimator_, X_train, X_test, y_train, y_test)\n",
    "fill_report(models_report, 'RandomForestClassifier_1', 'none', rf_grid_search_1.best_estimator_, X_test, y_test)"
   ]
  },
  {
   "attachments": {},
   "cell_type": "markdown",
   "metadata": {},
   "source": [
    "С учетов дисбаланса классов. class_weight='balanced'"
   ]
  },
  {
   "cell_type": "code",
   "execution_count": 96,
   "metadata": {},
   "outputs": [
    {
     "name": "stdout",
     "output_type": "stream",
     "text": [
      "Best parameters:  {'class_weight': 'balanced', 'max_depth': 14, 'min_samples_leaf': 2, 'min_samples_split': 2, 'n_estimators': 50}\n",
      "Train. Accuracy: 0.9682666666666667\n",
      "Train. F1-score: 0.9236200256739409\n",
      "Train. ROC-AUC : 0.9584020805644491\n",
      "Test.  Accuracy: 0.8508\n",
      "Test.  F1-score: 0.6027689030883919\n",
      "Test.  ROC-AUC : 0.7410799481754339\n"
     ]
    }
   ],
   "source": [
    "rf_2 = RandomForestClassifier(random_state=RANDOM_STATE)\n",
    "\n",
    "rf_params_2 = {\n",
    "    'n_estimators': [50, 55],\n",
    "    'max_depth': [5, 10, 14, 1],\n",
    "    'min_samples_leaf': [2, 3],\n",
    "    'min_samples_split': [2, 4],\n",
    "    'class_weight': ['balanced']\n",
    "}\n",
    "\n",
    "rf_grid_search_2 = GridSearchCV(rf_2,\n",
    "                                rf_params_2,\n",
    "                                cv=5)\n",
    "\n",
    "rf_grid_search_2.fit(X_train, y_train)\n",
    "\n",
    "print(\"Best parameters: \", rf_grid_search_2.best_params_)\n",
    "print_results(rf_grid_search_2.best_estimator_, X_train, X_test, y_train, y_test)\n",
    "fill_report(models_report, 'RandomForestClassifier_2', 'balanced', rf_grid_search_2.best_estimator_, X_test, y_test)"
   ]
  },
  {
   "attachments": {},
   "cell_type": "markdown",
   "metadata": {},
   "source": [
    "Upsampling"
   ]
  },
  {
   "cell_type": "code",
   "execution_count": 97,
   "metadata": {},
   "outputs": [
    {
     "name": "stdout",
     "output_type": "stream",
     "text": [
      "Best parameters:  {'n_estimators': 45, 'max_depth': 10, 'min_samples_leaf': 2, 'min_samples_split': 2, 'random_state': 12345}\n",
      "Train. Accuracy: 0.8966666666666666\n",
      "Train. F1-score: 0.6814632141389231\n",
      "Train. ROC-AUC : 0.7649066060463665\n",
      "Test.  Accuracy: 0.8632\n",
      "Test.  F1-score: 0.5725\n",
      "Test.  ROC-AUC : 0.7093808187926218\n"
     ]
    }
   ],
   "source": [
    "# upsampling\n",
    "rf_params_3 = {\n",
    "    'n_estimators': [50, 45],\n",
    "    'max_depth': [5, 10, 14, 1],\n",
    "    'min_samples_leaf': [2, 3],\n",
    "    'min_samples_split': [2, 4]\n",
    "}\n",
    "\n",
    "rf_models_3 = []\n",
    "\n",
    "for n_estimators, max_depth, min_samples_leaf, min_samples_split in product(rf_params_3['n_estimators'],\n",
    "                                                                            rf_params_3['max_depth'],\n",
    "                                                                            rf_params_3['min_samples_leaf'],\n",
    "                                                                            rf_params_3['min_samples_split']                                                              \n",
    "                                                                            ):\n",
    "    params = {'n_estimators': n_estimators,\n",
    "              'max_depth': max_depth,\n",
    "              'min_samples_leaf': min_samples_leaf,\n",
    "              'min_samples_split': min_samples_split,\n",
    "              'random_state': RANDOM_STATE\n",
    "             }\n",
    "    \n",
    "    params['f1'], params['roc_auc'] = cv_transformed_model(RandomForestClassifier,\n",
    "                                                           params, \n",
    "                                                           X_train, \n",
    "                                                           y_train, \n",
    "                                                           kfold,\n",
    "                                                           upsample, \n",
    "                                                           2\n",
    "                                                           )\n",
    "    rf_models_3.append(params)\n",
    "\n",
    "best_params = sorted(rf_models_3, key=lambda x: x['f1'], reverse=True)[0]\n",
    "del best_params['f1']\n",
    "del best_params['roc_auc']\n",
    "rf_3 = RandomForestClassifier(**best_params).fit(X_train, y_train)\n",
    "\n",
    "\n",
    "\n",
    "print(\"Best parameters: \", best_params)\n",
    "print_results(rf_3, X_train, X_test, y_train, y_test)\n",
    "fill_report(models_report, 'RandomForestClassifier_3', 'upsampled', rf_3, X_test, y_test)"
   ]
  },
  {
   "attachments": {},
   "cell_type": "markdown",
   "metadata": {},
   "source": [
    "Downsampling"
   ]
  },
  {
   "cell_type": "code",
   "execution_count": 98,
   "metadata": {},
   "outputs": [
    {
     "name": "stdout",
     "output_type": "stream",
     "text": [
      "Best parameters:  {'n_estimators': 50, 'max_depth': 10, 'min_samples_leaf': 3, 'min_samples_split': 2, 'random_state': 12345}\n",
      "Train. Accuracy: 0.8901333333333333\n",
      "Train. F1-score: 0.657522859517872\n",
      "Train. ROC-AUC : 0.7515510865715398\n",
      "Test.  Accuracy: 0.8648\n",
      "Test.  F1-score: 0.5796019900497513\n",
      "Test.  ROC-AUC : 0.7133100918771011\n"
     ]
    }
   ],
   "source": [
    "# dowsampling\n",
    "rf_params_4 = {\n",
    "    'n_estimators': [50],\n",
    "    'max_depth': [5, 10, 14, 1],\n",
    "    'min_samples_leaf': [2, 3],\n",
    "    'min_samples_split': [2, 4]\n",
    "}\n",
    "\n",
    "rf_models_4 = []\n",
    "\n",
    "for n_estimators, max_depth, min_samples_leaf, min_samples_split in product(rf_params_4['n_estimators'],\n",
    "                                                                            rf_params_4['max_depth'],\n",
    "                                                                            rf_params_4['min_samples_leaf'],\n",
    "                                                                            rf_params_4['min_samples_split']                                                              \n",
    "                                                                            ):\n",
    "    params = {'n_estimators': n_estimators,\n",
    "              'max_depth': max_depth,\n",
    "              'min_samples_leaf': min_samples_leaf,\n",
    "              'min_samples_split': min_samples_split,\n",
    "              'random_state': RANDOM_STATE\n",
    "             }\n",
    "    \n",
    "    params['f1'], params['roc_auc'] = cv_transformed_model(RandomForestClassifier,\n",
    "                                                           params, \n",
    "                                                           X_train, \n",
    "                                                           y_train, \n",
    "                                                           kfold,\n",
    "                                                           downsample, \n",
    "                                                           0.4\n",
    "                                                           )\n",
    "    rf_models_4.append(params)\n",
    "\n",
    "best_params = sorted(rf_models_4, key=lambda x: x['f1'], reverse=True)[0]\n",
    "del best_params['f1']\n",
    "del best_params['roc_auc']\n",
    "rf_4 = RandomForestClassifier(**best_params).fit(X_train, y_train)\n",
    "\n",
    "print(\"Best parameters: \", best_params)\n",
    "print_results(rf_4, X_train, X_test, y_train, y_test)\n",
    "fill_report(models_report, 'RandomForestClassifier_4', 'downsampled', rf_4, X_test, y_test)"
   ]
  },
  {
   "attachments": {},
   "cell_type": "markdown",
   "metadata": {},
   "source": [
    "### 5. Проверка моделей на вменяемость"
   ]
  },
  {
   "cell_type": "code",
   "execution_count": 99,
   "metadata": {},
   "outputs": [
    {
     "name": "stdout",
     "output_type": "stream",
     "text": [
      "Train. Accuracy: 0.7962666666666667\n",
      "Train. F1-score: 0.0\n",
      "Train. ROC-AUC : 0.5\n",
      "Test.  Accuracy: 0.7964\n",
      "Test.  F1-score: 0.0\n",
      "Test.  ROC-AUC : 0.5\n"
     ]
    }
   ],
   "source": [
    "dummy = DummyClassifier(strategy=\"most_frequent\")\n",
    "dummy.fit(X_train, y_train)\n",
    "dummy.predict(X_test)\n",
    "\n",
    "print_results(dummy, X_train, X_test, y_train, y_test)\n",
    "fill_report(models_report, 'Dummy', 'none', dummy, X_test, y_test)"
   ]
  },
  {
   "attachments": {},
   "cell_type": "markdown",
   "metadata": {},
   "source": [
    "### 6. Сравнение результатов моделей "
   ]
  },
  {
   "attachments": {},
   "cell_type": "markdown",
   "metadata": {},
   "source": [
    "Лучший результат по метрике F1-score:\n",
    "\n",
    "    - RandomForestClassifier с гиперпараметрами  \n",
    "    - {'class_weight': 'balanced', 'max_depth': 14, 'min_samples_leaf': 2, 'min_samples_split': 2, 'n_estimators': 50}\n",
    "\n",
    "Результаты на тестовой выборке: **F1-score 0.603**, ROC-AUC 0.781, Accuracy 0.851\n",
    "\n",
    "Контрольный результат F1-score > 0.59 достигнут."
   ]
  },
  {
   "cell_type": "code",
   "execution_count": 100,
   "metadata": {},
   "outputs": [
    {
     "data": {
      "text/html": [
       "<div>\n",
       "<style scoped>\n",
       "    .dataframe tbody tr th:only-of-type {\n",
       "        vertical-align: middle;\n",
       "    }\n",
       "\n",
       "    .dataframe tbody tr th {\n",
       "        vertical-align: top;\n",
       "    }\n",
       "\n",
       "    .dataframe thead th {\n",
       "        text-align: right;\n",
       "    }\n",
       "</style>\n",
       "<table border=\"1\" class=\"dataframe\">\n",
       "  <thead>\n",
       "    <tr style=\"text-align: right;\">\n",
       "      <th></th>\n",
       "      <th>balance</th>\n",
       "      <th>F1-score</th>\n",
       "      <th>ROC-AUC</th>\n",
       "      <th>Accuracy</th>\n",
       "    </tr>\n",
       "  </thead>\n",
       "  <tbody>\n",
       "    <tr>\n",
       "      <th>RandomForestClassifier_2</th>\n",
       "      <td>balanced</td>\n",
       "      <td>0.603</td>\n",
       "      <td>0.741</td>\n",
       "      <td>0.851</td>\n",
       "    </tr>\n",
       "    <tr>\n",
       "      <th>RandomForestClassifier_1</th>\n",
       "      <td>none</td>\n",
       "      <td>0.58</td>\n",
       "      <td>0.713</td>\n",
       "      <td>0.865</td>\n",
       "    </tr>\n",
       "    <tr>\n",
       "      <th>RandomForestClassifier_4</th>\n",
       "      <td>downsampled</td>\n",
       "      <td>0.58</td>\n",
       "      <td>0.713</td>\n",
       "      <td>0.865</td>\n",
       "    </tr>\n",
       "    <tr>\n",
       "      <th>RandomForestClassifier_3</th>\n",
       "      <td>upsampled</td>\n",
       "      <td>0.572</td>\n",
       "      <td>0.709</td>\n",
       "      <td>0.863</td>\n",
       "    </tr>\n",
       "    <tr>\n",
       "      <th>DecisionTreeClassifier_4</th>\n",
       "      <td>downsampled</td>\n",
       "      <td>0.57</td>\n",
       "      <td>0.715</td>\n",
       "      <td>0.850</td>\n",
       "    </tr>\n",
       "    <tr>\n",
       "      <th>DecisionTreeClassifier_1</th>\n",
       "      <td>none</td>\n",
       "      <td>0.568</td>\n",
       "      <td>0.715</td>\n",
       "      <td>0.848</td>\n",
       "    </tr>\n",
       "    <tr>\n",
       "      <th>DecisionTreeClassifier_3</th>\n",
       "      <td>upsampled</td>\n",
       "      <td>0.564</td>\n",
       "      <td>0.712</td>\n",
       "      <td>0.848</td>\n",
       "    </tr>\n",
       "    <tr>\n",
       "      <th>DecisionTreeClassifier_2</th>\n",
       "      <td>balanced</td>\n",
       "      <td>0.519</td>\n",
       "      <td>0.703</td>\n",
       "      <td>0.789</td>\n",
       "    </tr>\n",
       "    <tr>\n",
       "      <th>LogisticRegression_3</th>\n",
       "      <td>upsampled</td>\n",
       "      <td>0.321</td>\n",
       "      <td>0.591</td>\n",
       "      <td>0.814</td>\n",
       "    </tr>\n",
       "    <tr>\n",
       "      <th>LogisticRegression_4</th>\n",
       "      <td>downsampled</td>\n",
       "      <td>0.32</td>\n",
       "      <td>0.591</td>\n",
       "      <td>0.813</td>\n",
       "    </tr>\n",
       "    <tr>\n",
       "      <th>LogisticRegression_1</th>\n",
       "      <td>none</td>\n",
       "      <td>0.304</td>\n",
       "      <td>0.585</td>\n",
       "      <td>0.813</td>\n",
       "    </tr>\n",
       "    <tr>\n",
       "      <th>LogisticRegression_2</th>\n",
       "      <td>balanced</td>\n",
       "      <td>0.0</td>\n",
       "      <td>0.5</td>\n",
       "      <td>0.796</td>\n",
       "    </tr>\n",
       "    <tr>\n",
       "      <th>Dummy</th>\n",
       "      <td>none</td>\n",
       "      <td>0.0</td>\n",
       "      <td>0.5</td>\n",
       "      <td>0.796</td>\n",
       "    </tr>\n",
       "  </tbody>\n",
       "</table>\n",
       "</div>"
      ],
      "text/plain": [
       "                              balance F1-score ROC-AUC  Accuracy\n",
       "RandomForestClassifier_2     balanced    0.603   0.741     0.851\n",
       "RandomForestClassifier_1         none     0.58   0.713     0.865\n",
       "RandomForestClassifier_4  downsampled     0.58   0.713     0.865\n",
       "RandomForestClassifier_3    upsampled    0.572   0.709     0.863\n",
       "DecisionTreeClassifier_4  downsampled     0.57   0.715     0.850\n",
       "DecisionTreeClassifier_1         none    0.568   0.715     0.848\n",
       "DecisionTreeClassifier_3    upsampled    0.564   0.712     0.848\n",
       "DecisionTreeClassifier_2     balanced    0.519   0.703     0.789\n",
       "LogisticRegression_3        upsampled    0.321   0.591     0.814\n",
       "LogisticRegression_4      downsampled     0.32   0.591     0.813\n",
       "LogisticRegression_1             none    0.304   0.585     0.813\n",
       "LogisticRegression_2         balanced      0.0     0.5     0.796\n",
       "Dummy                            none      0.0     0.5     0.796"
      ]
     },
     "execution_count": 100,
     "metadata": {},
     "output_type": "execute_result"
    }
   ],
   "source": [
    "models_report.sort_values(by='F1-score', ascending=False)"
   ]
  },
  {
   "cell_type": "code",
   "execution_count": 101,
   "metadata": {},
   "outputs": [
    {
     "name": "stdout",
     "output_type": "stream",
     "text": [
      "Train. Accuracy: 0.9682666666666667\n",
      "Train. F1-score: 0.9236200256739409\n",
      "Train. ROC-AUC : 0.9584020805644491\n",
      "Test.  Accuracy: 0.8508\n",
      "Test.  F1-score: 0.6027689030883919\n",
      "Test.  ROC-AUC : 0.7410799481754339\n"
     ]
    }
   ],
   "source": [
    "model = RandomForestClassifier(random_state=12345, \n",
    "                               class_weight='balanced', \n",
    "                               max_depth=14,\n",
    "                               min_samples_leaf=2,\n",
    "                               min_samples_split=2,\n",
    "                               n_estimators=50) \n",
    "\n",
    "model.fit(X_train, y_train)\n",
    "\n",
    "print_results(model, X_train, X_test, y_train, y_test)\n"
   ]
  },
  {
   "cell_type": "code",
   "execution_count": 102,
   "metadata": {},
   "outputs": [
    {
     "data": {
      "text/plain": [
       "array([[0.94418831, 0.05581169],\n",
       "       [0.25895162, 0.74104838],\n",
       "       [0.74687928, 0.25312072],\n",
       "       ...,\n",
       "       [0.84576926, 0.15423074],\n",
       "       [0.91850477, 0.08149523],\n",
       "       [0.85982017, 0.14017983]])"
      ]
     },
     "execution_count": 102,
     "metadata": {},
     "output_type": "execute_result"
    }
   ],
   "source": [
    "model.predict_proba(X_test)"
   ]
  },
  {
   "cell_type": "code",
   "execution_count": 103,
   "metadata": {},
   "outputs": [
    {
     "data": {
      "image/png": "[encoded data removed]",
      "text/plain": [
       "<Figure size 504x432 with 1 Axes>"
      ]
     },
     "metadata": {
      "needs_background": "light"
     },
     "output_type": "display_data"
    }
   ],
   "source": [
    "fpr, tpr, thresholds = roc_curve(y_test, model.predict_proba(X_test)[:, 1]) \n",
    "\n",
    "plt.figure(figsize=(7, 6))\n",
    "plt.plot(fpr, tpr)\n",
    "\n",
    "# ROC-кривая случайной модели (выглядит как прямая)\n",
    "plt.plot([0, 1], [0, 1], linestyle='--')\n",
    "plt.ylim([0.0, 1.0])\n",
    "plt.xlim([0.0, 1.0])\n",
    "plt.grid(True)\n",
    "plt.xlabel('False Positive Rate')\n",
    "plt.ylabel('True Positive Rate')\n",
    "plt.title('ROC-curve')\n",
    "\n",
    "plt.show()"
   ]
  },
  {
   "attachments": {},
   "cell_type": "markdown",
   "metadata": {},
   "source": [
    "### 7. Выводы\n",
    "\n",
    "**Проведено исследование**\n",
    "\n",
    "- загружены и изучены данные, проведена предобработка (удалены бессмысленные с точки зрения предсказаний признаки, заполнены пропуски), обнаружен дисбаланс в значения целевого признака (80/20)\n",
    "- проведено разбиение на тренировочную и тестовую выборки, проведено кодирование категориальных признаков и масштабирование численных\n",
    "- исследованы три модели (LogisticRegression, DecisionTreeClassifier, RandomForestClassifier) с различными гиперпараметрами; \n",
    "- проведен поиск лучшей модели по гиперпараметрам с использованием кросс-валидации.\n",
    "- исследованы способы устранения дисбаланса классов (взвешивание классов, upsampling, downsampling)\n",
    "- проведена проверка результата на вменяемость: сравнение с dummy-моделью\n",
    "\n",
    "**Найдена лучшая модель для предсказания ухода клиентов** \n",
    "\n",
    "- RandomForestClassifier с гиперпараметрами  {'class_weight': 'balanced', 'max_depth': 14, 'min_samples_leaf': 2, 'min_samples_split': 2, 'n_estimators': 50}\n",
    "- результат модели на тестовой выборке по метрикам  **F1-score 0.603**, ROC-AUC 0.781, Accuracy 0.851"
   ]
  },
  {
   "cell_type": "markdown",
   "metadata": {},
   "source": []
  }
 ],
 "metadata": {
  "ExecuteTimeLog": [
   {
    "duration": 1712,
    "start_time": "2022-07-02T06:18:02.143Z"
   },
   {
    "duration": 142,
    "start_time": "2022-07-02T06:18:11.977Z"
   },
   {
    "duration": 71,
    "start_time": "2022-07-02T06:18:23.200Z"
   },
   {
    "duration": 18,
    "start_time": "2022-07-02T06:18:34.687Z"
   },
   {
    "duration": 12,
    "start_time": "2022-07-02T06:18:48.250Z"
   },
   {
    "duration": 7,
    "start_time": "2022-07-02T06:19:00.340Z"
   },
   {
    "duration": 15,
    "start_time": "2022-07-02T06:19:13.676Z"
   },
   {
    "duration": 39,
    "start_time": "2022-07-02T06:20:20.653Z"
   },
   {
    "duration": 67,
    "start_time": "2022-07-02T06:20:51.792Z"
   },
   {
    "duration": 4,
    "start_time": "2022-07-02T06:22:08.008Z"
   },
   {
    "duration": 6,
    "start_time": "2022-07-02T06:22:18.670Z"
   },
   {
    "duration": 5,
    "start_time": "2022-07-02T06:26:51.035Z"
   },
   {
    "duration": 143,
    "start_time": "2022-07-02T06:27:00.494Z"
   },
   {
    "duration": 116,
    "start_time": "2022-07-02T06:27:47.125Z"
   },
   {
    "duration": 5,
    "start_time": "2022-07-02T06:28:27.524Z"
   },
   {
    "duration": 6,
    "start_time": "2022-07-02T06:28:37.860Z"
   },
   {
    "duration": 5,
    "start_time": "2022-07-02T06:29:37.677Z"
   },
   {
    "duration": 8,
    "start_time": "2022-07-02T06:29:49.237Z"
   },
   {
    "duration": 4,
    "start_time": "2022-07-02T06:33:28.762Z"
   },
   {
    "duration": 12,
    "start_time": "2022-07-02T06:33:43.022Z"
   },
   {
    "duration": 35519,
    "start_time": "2022-07-02T06:34:13.100Z"
   },
   {
    "duration": 25,
    "start_time": "2022-07-02T06:35:10.301Z"
   },
   {
    "duration": 2,
    "start_time": "2022-07-02T06:36:19.595Z"
   },
   {
    "duration": 6,
    "start_time": "2022-07-02T06:43:33.861Z"
   },
   {
    "duration": 5,
    "start_time": "2022-07-02T06:43:42.849Z"
   },
   {
    "duration": 6,
    "start_time": "2022-07-02T06:43:52.146Z"
   },
   {
    "duration": 146,
    "start_time": "2022-07-02T06:44:06.423Z"
   },
   {
    "duration": 6,
    "start_time": "2022-07-02T06:55:06.662Z"
   },
   {
    "duration": 8,
    "start_time": "2022-07-02T06:56:51.755Z"
   },
   {
    "duration": 5,
    "start_time": "2022-07-02T06:57:48.626Z"
   },
   {
    "duration": 148,
    "start_time": "2022-07-02T06:57:59.895Z"
   },
   {
    "duration": 6,
    "start_time": "2022-07-02T06:58:17.337Z"
   },
   {
    "duration": 117,
    "start_time": "2022-07-02T06:59:05.467Z"
   },
   {
    "duration": 15,
    "start_time": "2022-07-02T06:59:47.283Z"
   },
   {
    "duration": 5,
    "start_time": "2022-07-02T07:00:22.111Z"
   },
   {
    "duration": 6,
    "start_time": "2022-07-02T07:00:26.951Z"
   },
   {
    "duration": 131,
    "start_time": "2022-07-02T07:00:31.357Z"
   },
   {
    "duration": 7,
    "start_time": "2022-07-02T07:00:36.572Z"
   },
   {
    "duration": 7,
    "start_time": "2022-07-02T07:00:43.228Z"
   },
   {
    "duration": 7,
    "start_time": "2022-07-02T07:00:47.743Z"
   },
   {
    "duration": 144,
    "start_time": "2022-07-02T07:00:51.788Z"
   },
   {
    "duration": 6,
    "start_time": "2022-07-02T07:00:57.778Z"
   },
   {
    "duration": 114,
    "start_time": "2022-07-02T07:01:01.887Z"
   },
   {
    "duration": 18,
    "start_time": "2022-07-02T07:01:14.773Z"
   },
   {
    "duration": 37,
    "start_time": "2022-07-02T07:01:48.687Z"
   },
   {
    "duration": 41,
    "start_time": "2022-07-02T07:02:14.945Z"
   },
   {
    "duration": 44,
    "start_time": "2022-07-02T07:02:43.480Z"
   },
   {
    "duration": 39,
    "start_time": "2022-07-02T07:03:03.583Z"
   },
   {
    "duration": 137,
    "start_time": "2022-07-02T07:04:08.760Z"
   },
   {
    "duration": 149,
    "start_time": "2022-07-02T07:04:12.328Z"
   },
   {
    "duration": 41,
    "start_time": "2022-07-02T07:11:40.409Z"
   },
   {
    "duration": 40,
    "start_time": "2022-07-02T07:11:49.954Z"
   },
   {
    "duration": 5,
    "start_time": "2022-07-02T07:16:00.154Z"
   },
   {
    "duration": 118,
    "start_time": "2022-07-02T07:16:16.654Z"
   },
   {
    "duration": 5,
    "start_time": "2022-07-02T07:19:24.702Z"
   },
   {
    "duration": 5,
    "start_time": "2022-07-02T07:20:43.979Z"
   },
   {
    "duration": 158,
    "start_time": "2022-07-02T07:21:50.392Z"
   },
   {
    "duration": 6,
    "start_time": "2022-07-02T07:23:35.737Z"
   },
   {
    "duration": 4,
    "start_time": "2022-07-02T07:25:00.667Z"
   },
   {
    "duration": 1404,
    "start_time": "2022-07-02T07:25:29.096Z"
   },
   {
    "duration": 33,
    "start_time": "2022-07-02T07:25:30.502Z"
   },
   {
    "duration": 17,
    "start_time": "2022-07-02T07:25:30.538Z"
   },
   {
    "duration": 28,
    "start_time": "2022-07-02T07:25:30.557Z"
   },
   {
    "duration": 18,
    "start_time": "2022-07-02T07:25:30.588Z"
   },
   {
    "duration": 31,
    "start_time": "2022-07-02T07:25:30.608Z"
   },
   {
    "duration": 48,
    "start_time": "2022-07-02T07:25:30.643Z"
   },
   {
    "duration": 4,
    "start_time": "2022-07-02T07:25:30.692Z"
   },
   {
    "duration": 27,
    "start_time": "2022-07-02T07:25:30.698Z"
   },
   {
    "duration": 23,
    "start_time": "2022-07-02T07:25:30.726Z"
   },
   {
    "duration": 172,
    "start_time": "2022-07-02T07:25:30.752Z"
   },
   {
    "duration": 9,
    "start_time": "2022-07-02T07:25:30.926Z"
   },
   {
    "duration": 17,
    "start_time": "2022-07-02T07:25:30.938Z"
   },
   {
    "duration": 11,
    "start_time": "2022-07-02T07:25:30.958Z"
   },
   {
    "duration": 16,
    "start_time": "2022-07-02T07:25:30.970Z"
   },
   {
    "duration": 7,
    "start_time": "2022-07-02T07:25:30.987Z"
   },
   {
    "duration": 10,
    "start_time": "2022-07-02T07:25:30.995Z"
   },
   {
    "duration": 150,
    "start_time": "2022-07-02T07:25:31.006Z"
   },
   {
    "duration": 6,
    "start_time": "2022-07-02T07:25:31.158Z"
   },
   {
    "duration": 12,
    "start_time": "2022-07-02T07:25:31.166Z"
   },
   {
    "duration": 18,
    "start_time": "2022-07-02T07:25:31.180Z"
   },
   {
    "duration": 179,
    "start_time": "2022-07-02T07:25:31.199Z"
   },
   {
    "duration": 6,
    "start_time": "2022-07-02T07:25:31.379Z"
   },
   {
    "duration": 133,
    "start_time": "2022-07-02T07:25:31.386Z"
   },
   {
    "duration": 27,
    "start_time": "2022-07-02T07:25:31.521Z"
   },
   {
    "duration": 37,
    "start_time": "2022-07-02T07:25:31.550Z"
   },
   {
    "duration": 55,
    "start_time": "2022-07-02T07:25:31.589Z"
   },
   {
    "duration": 39,
    "start_time": "2022-07-02T07:25:31.646Z"
   },
   {
    "duration": 58,
    "start_time": "2022-07-02T07:25:31.686Z"
   },
   {
    "duration": 151,
    "start_time": "2022-07-02T07:25:31.746Z"
   },
   {
    "duration": 52,
    "start_time": "2022-07-02T07:25:31.899Z"
   },
   {
    "duration": 126,
    "start_time": "2022-07-02T07:25:31.953Z"
   },
   {
    "duration": 6,
    "start_time": "2022-07-02T07:25:32.080Z"
   },
   {
    "duration": 154,
    "start_time": "2022-07-02T07:25:32.088Z"
   },
   {
    "duration": 6,
    "start_time": "2022-07-02T07:25:32.244Z"
   },
   {
    "duration": 15,
    "start_time": "2022-07-02T07:25:32.252Z"
   },
   {
    "duration": 181,
    "start_time": "2022-07-02T07:25:32.269Z"
   },
   {
    "duration": 7,
    "start_time": "2022-07-02T07:25:32.451Z"
   },
   {
    "duration": 6,
    "start_time": "2022-07-02T07:25:32.459Z"
   },
   {
    "duration": 13,
    "start_time": "2022-07-02T07:25:32.467Z"
   },
   {
    "duration": 36159,
    "start_time": "2022-07-02T07:25:32.484Z"
   },
   {
    "duration": 17,
    "start_time": "2022-07-02T07:26:08.645Z"
   },
   {
    "duration": 8,
    "start_time": "2022-07-02T07:31:50.736Z"
   },
   {
    "duration": 4,
    "start_time": "2022-07-02T07:32:21.127Z"
   },
   {
    "duration": 110,
    "start_time": "2022-07-02T07:38:05.919Z"
   },
   {
    "duration": 8,
    "start_time": "2022-07-02T07:38:10.831Z"
   },
   {
    "duration": 4,
    "start_time": "2022-07-02T07:38:13.469Z"
   },
   {
    "duration": 9,
    "start_time": "2022-07-02T07:38:31.534Z"
   },
   {
    "duration": 4,
    "start_time": "2022-07-02T07:38:59.039Z"
   },
   {
    "duration": 3,
    "start_time": "2022-07-02T07:41:49.912Z"
   },
   {
    "duration": 4,
    "start_time": "2022-07-02T07:42:43.873Z"
   },
   {
    "duration": 5,
    "start_time": "2022-07-02T07:57:08.790Z"
   },
   {
    "duration": 4,
    "start_time": "2022-07-02T08:02:38.072Z"
   },
   {
    "duration": 7,
    "start_time": "2022-07-02T08:08:13.187Z"
   },
   {
    "duration": 25,
    "start_time": "2022-07-02T08:08:16.524Z"
   },
   {
    "duration": 5,
    "start_time": "2022-07-02T08:08:45.539Z"
   },
   {
    "duration": 19,
    "start_time": "2022-07-02T08:08:55.107Z"
   },
   {
    "duration": 28,
    "start_time": "2022-07-02T08:09:18.141Z"
   },
   {
    "duration": 55,
    "start_time": "2022-07-02T08:09:57.054Z"
   },
   {
    "duration": 21,
    "start_time": "2022-07-02T08:10:17.419Z"
   },
   {
    "duration": 5,
    "start_time": "2022-07-02T08:10:45.083Z"
   },
   {
    "duration": 39,
    "start_time": "2022-07-02T08:10:59.938Z"
   },
   {
    "duration": 5,
    "start_time": "2022-07-02T08:11:35.341Z"
   },
   {
    "duration": 46,
    "start_time": "2022-07-02T08:11:40.695Z"
   },
   {
    "duration": 4,
    "start_time": "2022-07-02T08:12:13.903Z"
   },
   {
    "duration": 7,
    "start_time": "2022-07-02T08:12:29.784Z"
   },
   {
    "duration": 50,
    "start_time": "2022-07-02T08:12:33.257Z"
   },
   {
    "duration": 3,
    "start_time": "2022-07-02T08:12:52.475Z"
   },
   {
    "duration": 44,
    "start_time": "2022-07-02T08:12:56.606Z"
   },
   {
    "duration": 3,
    "start_time": "2022-07-02T08:13:18.353Z"
   },
   {
    "duration": 4,
    "start_time": "2022-07-02T08:13:46.618Z"
   },
   {
    "duration": 48,
    "start_time": "2022-07-02T08:13:52.617Z"
   },
   {
    "duration": 3,
    "start_time": "2022-07-02T08:14:13.401Z"
   },
   {
    "duration": 47,
    "start_time": "2022-07-02T08:14:17.048Z"
   },
   {
    "duration": 3,
    "start_time": "2022-07-02T08:15:05.774Z"
   },
   {
    "duration": 4,
    "start_time": "2022-07-02T08:15:07.962Z"
   },
   {
    "duration": 31,
    "start_time": "2022-07-02T08:15:11.826Z"
   },
   {
    "duration": 348,
    "start_time": "2022-07-02T08:15:23.280Z"
   },
   {
    "duration": 497,
    "start_time": "2022-07-02T08:19:23.732Z"
   },
   {
    "duration": 4,
    "start_time": "2022-07-02T08:19:29.395Z"
   },
   {
    "duration": 313,
    "start_time": "2022-07-02T08:19:31.320Z"
   },
   {
    "duration": 276,
    "start_time": "2022-07-02T08:20:05.970Z"
   },
   {
    "duration": 303,
    "start_time": "2022-07-02T08:21:03.124Z"
   },
   {
    "duration": 5,
    "start_time": "2022-07-02T08:28:50.888Z"
   },
   {
    "duration": 3,
    "start_time": "2022-07-02T08:29:07.575Z"
   },
   {
    "duration": 160,
    "start_time": "2022-07-02T08:29:10.079Z"
   },
   {
    "duration": 237,
    "start_time": "2022-07-02T08:29:13.604Z"
   },
   {
    "duration": 155,
    "start_time": "2022-07-02T08:29:19.080Z"
   },
   {
    "duration": 12,
    "start_time": "2022-07-02T08:29:23.924Z"
   },
   {
    "duration": 60,
    "start_time": "2022-07-02T08:30:44.958Z"
   },
   {
    "duration": 630,
    "start_time": "2022-07-02T08:31:49.445Z"
   },
   {
    "duration": 48,
    "start_time": "2022-07-02T08:32:57.221Z"
   },
   {
    "duration": 700,
    "start_time": "2022-07-02T08:34:38.658Z"
   },
   {
    "duration": 57,
    "start_time": "2022-07-02T08:37:24.591Z"
   },
   {
    "duration": 54,
    "start_time": "2022-07-02T08:38:21.575Z"
   },
   {
    "duration": 61,
    "start_time": "2022-07-02T08:40:38.899Z"
   },
   {
    "duration": 732,
    "start_time": "2022-07-02T08:40:46.969Z"
   },
   {
    "duration": 56,
    "start_time": "2022-07-02T08:41:00.678Z"
   },
   {
    "duration": 798,
    "start_time": "2022-07-02T08:41:07.108Z"
   },
   {
    "duration": 6,
    "start_time": "2022-07-02T08:44:10.010Z"
   },
   {
    "duration": 256,
    "start_time": "2022-07-02T08:45:01.975Z"
   },
   {
    "duration": 4153,
    "start_time": "2022-07-02T08:46:07.852Z"
   },
   {
    "duration": 61787,
    "start_time": "2022-07-02T08:46:30.180Z"
   },
   {
    "duration": 120,
    "start_time": "2022-07-02T08:48:08.851Z"
   },
   {
    "duration": 126,
    "start_time": "2022-07-02T08:48:21.149Z"
   },
   {
    "duration": 7,
    "start_time": "2022-07-02T08:51:29.250Z"
   },
   {
    "duration": 8,
    "start_time": "2022-07-02T08:51:56.109Z"
   },
   {
    "duration": 333,
    "start_time": "2022-07-02T08:51:59.588Z"
   },
   {
    "duration": 3992,
    "start_time": "2022-07-02T08:52:19.354Z"
   },
   {
    "duration": 148,
    "start_time": "2022-07-02T08:53:04.716Z"
   },
   {
    "duration": 80216,
    "start_time": "2022-07-02T08:53:16.385Z"
   },
   {
    "duration": 75745,
    "start_time": "2022-07-02T08:54:48.896Z"
   },
   {
    "duration": 1317,
    "start_time": "2022-07-02T08:56:53.723Z"
   },
   {
    "duration": 38,
    "start_time": "2022-07-02T09:06:49.286Z"
   },
   {
    "duration": 10,
    "start_time": "2022-07-02T09:14:28.651Z"
   },
   {
    "duration": 144,
    "start_time": "2022-07-02T09:14:38.495Z"
   },
   {
    "duration": 11,
    "start_time": "2022-07-02T09:14:50.724Z"
   },
   {
    "duration": 25,
    "start_time": "2022-07-02T09:15:00.369Z"
   },
   {
    "duration": 8,
    "start_time": "2022-07-02T09:15:21.171Z"
   },
   {
    "duration": 142,
    "start_time": "2022-07-02T09:15:29.782Z"
   },
   {
    "duration": 142,
    "start_time": "2022-07-02T09:15:41.146Z"
   },
   {
    "duration": 12251,
    "start_time": "2022-07-02T09:15:44.855Z"
   },
   {
    "duration": 0,
    "start_time": "2022-07-02T09:15:57.108Z"
   },
   {
    "duration": 157,
    "start_time": "2022-07-02T09:16:01.326Z"
   },
   {
    "duration": 12,
    "start_time": "2022-07-02T09:17:05.016Z"
   },
   {
    "duration": 7,
    "start_time": "2022-07-02T09:17:45.582Z"
   },
   {
    "duration": 149,
    "start_time": "2022-07-02T09:17:50.003Z"
   },
   {
    "duration": 93,
    "start_time": "2022-07-02T09:18:04.775Z"
   },
   {
    "duration": 99,
    "start_time": "2022-07-02T09:18:14.071Z"
   },
   {
    "duration": 9,
    "start_time": "2022-07-02T09:19:26.586Z"
   },
   {
    "duration": 85,
    "start_time": "2022-07-02T09:19:44.699Z"
   },
   {
    "duration": 55,
    "start_time": "2022-07-02T09:20:53.921Z"
   },
   {
    "duration": 9,
    "start_time": "2022-07-02T09:21:00.277Z"
   },
   {
    "duration": 293,
    "start_time": "2022-07-02T09:21:03.011Z"
   },
   {
    "duration": 2284,
    "start_time": "2022-07-02T09:24:10.452Z"
   },
   {
    "duration": 76,
    "start_time": "2022-07-02T09:24:12.738Z"
   },
   {
    "duration": 29,
    "start_time": "2022-07-02T09:24:12.816Z"
   },
   {
    "duration": 55,
    "start_time": "2022-07-02T09:24:12.847Z"
   },
   {
    "duration": 7,
    "start_time": "2022-07-02T09:24:12.905Z"
   },
   {
    "duration": 22,
    "start_time": "2022-07-02T09:24:12.914Z"
   },
   {
    "duration": 102,
    "start_time": "2022-07-02T09:24:12.939Z"
   },
   {
    "duration": 11,
    "start_time": "2022-07-02T09:24:13.043Z"
   },
   {
    "duration": 61,
    "start_time": "2022-07-02T09:24:13.057Z"
   },
   {
    "duration": 14,
    "start_time": "2022-07-02T09:24:13.120Z"
   },
   {
    "duration": 267,
    "start_time": "2022-07-02T09:24:13.140Z"
   },
   {
    "duration": 6,
    "start_time": "2022-07-02T09:24:13.409Z"
   },
   {
    "duration": 13,
    "start_time": "2022-07-02T09:24:13.417Z"
   },
   {
    "duration": 51,
    "start_time": "2022-07-02T09:24:13.440Z"
   },
   {
    "duration": 10,
    "start_time": "2022-07-02T09:24:13.493Z"
   },
   {
    "duration": 7,
    "start_time": "2022-07-02T09:24:13.505Z"
   },
   {
    "duration": 11,
    "start_time": "2022-07-02T09:24:13.514Z"
   },
   {
    "duration": 267,
    "start_time": "2022-07-02T09:24:13.530Z"
   },
   {
    "duration": 9,
    "start_time": "2022-07-02T09:24:13.800Z"
   },
   {
    "duration": 18,
    "start_time": "2022-07-02T09:24:13.816Z"
   },
   {
    "duration": 67,
    "start_time": "2022-07-02T09:24:13.836Z"
   },
   {
    "duration": 207,
    "start_time": "2022-07-02T09:24:13.906Z"
   },
   {
    "duration": 13,
    "start_time": "2022-07-02T09:24:14.115Z"
   },
   {
    "duration": 231,
    "start_time": "2022-07-02T09:24:14.129Z"
   },
   {
    "duration": 27,
    "start_time": "2022-07-02T09:24:14.362Z"
   },
   {
    "duration": 178,
    "start_time": "2022-07-02T09:24:14.391Z"
   },
   {
    "duration": 47,
    "start_time": "2022-07-02T09:24:14.571Z"
   },
   {
    "duration": 75,
    "start_time": "2022-07-02T09:24:14.620Z"
   },
   {
    "duration": 48,
    "start_time": "2022-07-02T09:24:14.697Z"
   },
   {
    "duration": 238,
    "start_time": "2022-07-02T09:24:14.748Z"
   },
   {
    "duration": 62,
    "start_time": "2022-07-02T09:24:14.988Z"
   },
   {
    "duration": 54,
    "start_time": "2022-07-02T09:24:15.052Z"
   },
   {
    "duration": 7,
    "start_time": "2022-07-02T09:24:15.108Z"
   },
   {
    "duration": 226,
    "start_time": "2022-07-02T09:24:15.116Z"
   },
   {
    "duration": 7,
    "start_time": "2022-07-02T09:24:15.344Z"
   },
   {
    "duration": 32,
    "start_time": "2022-07-02T09:24:15.353Z"
   },
   {
    "duration": 216,
    "start_time": "2022-07-02T09:24:15.387Z"
   },
   {
    "duration": 7,
    "start_time": "2022-07-02T09:24:15.605Z"
   },
   {
    "duration": 6,
    "start_time": "2022-07-02T09:24:15.614Z"
   },
   {
    "duration": 47,
    "start_time": "2022-07-02T09:24:15.622Z"
   },
   {
    "duration": 50312,
    "start_time": "2022-07-02T09:24:15.680Z"
   },
   {
    "duration": 22,
    "start_time": "2022-07-02T09:25:05.994Z"
   },
   {
    "duration": 16,
    "start_time": "2022-07-02T09:25:06.018Z"
   },
   {
    "duration": 44,
    "start_time": "2022-07-02T09:25:06.036Z"
   },
   {
    "duration": 12,
    "start_time": "2022-07-02T09:25:06.086Z"
   },
   {
    "duration": 10,
    "start_time": "2022-07-02T09:25:06.100Z"
   },
   {
    "duration": 5,
    "start_time": "2022-07-02T09:25:06.112Z"
   },
   {
    "duration": 67,
    "start_time": "2022-07-02T09:25:06.118Z"
   },
   {
    "duration": 10,
    "start_time": "2022-07-02T09:25:06.189Z"
   },
   {
    "duration": 18,
    "start_time": "2022-07-02T09:25:06.201Z"
   },
   {
    "duration": 44,
    "start_time": "2022-07-02T09:25:06.221Z"
   },
   {
    "duration": 416,
    "start_time": "2022-07-02T09:25:06.268Z"
   },
   {
    "duration": 273,
    "start_time": "2022-07-02T09:25:06.687Z"
   },
   {
    "duration": 378,
    "start_time": "2022-07-02T09:25:06.963Z"
   },
   {
    "duration": 11,
    "start_time": "2022-07-02T09:25:07.354Z"
   },
   {
    "duration": 126,
    "start_time": "2022-07-02T09:25:07.368Z"
   },
   {
    "duration": 818,
    "start_time": "2022-07-02T09:25:07.497Z"
   },
   {
    "duration": 43,
    "start_time": "2022-07-02T09:25:08.317Z"
   },
   {
    "duration": 66,
    "start_time": "2022-07-02T09:25:08.369Z"
   },
   {
    "duration": 68,
    "start_time": "2022-07-02T09:25:08.439Z"
   },
   {
    "duration": 7,
    "start_time": "2022-07-02T09:25:08.509Z"
   },
   {
    "duration": 357,
    "start_time": "2022-07-02T09:25:08.518Z"
   },
   {
    "duration": 4672,
    "start_time": "2022-07-02T09:25:08.879Z"
   },
   {
    "duration": 141,
    "start_time": "2022-07-02T09:25:13.553Z"
   },
   {
    "duration": 79046,
    "start_time": "2022-07-02T09:25:13.696Z"
   },
   {
    "duration": 1228,
    "start_time": "2022-07-02T09:26:32.744Z"
   },
   {
    "duration": 206,
    "start_time": "2022-07-02T09:26:33.975Z"
   },
   {
    "duration": 272,
    "start_time": "2022-07-02T09:26:34.205Z"
   },
   {
    "duration": 95,
    "start_time": "2022-07-02T09:30:04.115Z"
   },
   {
    "duration": 65,
    "start_time": "2022-07-02T09:30:06.649Z"
   },
   {
    "duration": 782,
    "start_time": "2022-07-02T09:31:09.278Z"
   },
   {
    "duration": 7,
    "start_time": "2022-07-02T09:31:31.700Z"
   },
   {
    "duration": 84,
    "start_time": "2022-07-02T09:31:34.958Z"
   },
   {
    "duration": 745,
    "start_time": "2022-07-02T09:31:40.997Z"
   },
   {
    "duration": 861,
    "start_time": "2022-07-02T09:31:59.949Z"
   },
   {
    "duration": 57,
    "start_time": "2022-07-02T09:32:25.692Z"
   },
   {
    "duration": 182,
    "start_time": "2022-07-02T09:33:54.106Z"
   },
   {
    "duration": 143,
    "start_time": "2022-07-02T09:34:23.082Z"
   },
   {
    "duration": 175,
    "start_time": "2022-07-02T09:41:12.600Z"
   },
   {
    "duration": 137,
    "start_time": "2022-07-02T09:41:16.679Z"
   },
   {
    "duration": 31,
    "start_time": "2022-07-02T09:44:03.453Z"
   },
   {
    "duration": 30,
    "start_time": "2022-07-02T09:45:11.856Z"
   },
   {
    "duration": 163,
    "start_time": "2022-07-02T09:45:47.232Z"
   },
   {
    "duration": 134,
    "start_time": "2022-07-02T09:45:49.091Z"
   },
   {
    "duration": 2449,
    "start_time": "2022-07-02T09:46:51.112Z"
   },
   {
    "duration": 297,
    "start_time": "2022-07-02T09:46:53.563Z"
   },
   {
    "duration": 61,
    "start_time": "2022-07-02T09:46:53.864Z"
   },
   {
    "duration": 30,
    "start_time": "2022-07-02T09:46:53.935Z"
   },
   {
    "duration": 102,
    "start_time": "2022-07-02T09:46:53.970Z"
   },
   {
    "duration": 75,
    "start_time": "2022-07-02T09:46:54.074Z"
   },
   {
    "duration": 147,
    "start_time": "2022-07-02T09:46:54.154Z"
   },
   {
    "duration": 22,
    "start_time": "2022-07-02T09:46:54.309Z"
   },
   {
    "duration": 83,
    "start_time": "2022-07-02T09:46:54.342Z"
   },
   {
    "duration": 10,
    "start_time": "2022-07-02T09:46:54.430Z"
   },
   {
    "duration": 332,
    "start_time": "2022-07-02T09:46:54.442Z"
   },
   {
    "duration": 9,
    "start_time": "2022-07-02T09:46:54.776Z"
   },
   {
    "duration": 7,
    "start_time": "2022-07-02T09:46:54.787Z"
   },
   {
    "duration": 221,
    "start_time": "2022-07-02T09:46:54.799Z"
   },
   {
    "duration": 101,
    "start_time": "2022-07-02T09:46:55.023Z"
   },
   {
    "duration": 77,
    "start_time": "2022-07-02T09:46:55.141Z"
   },
   {
    "duration": 22,
    "start_time": "2022-07-02T09:46:55.219Z"
   },
   {
    "duration": 432,
    "start_time": "2022-07-02T09:46:55.243Z"
   },
   {
    "duration": 9,
    "start_time": "2022-07-02T09:46:55.677Z"
   },
   {
    "duration": 50,
    "start_time": "2022-07-02T09:46:55.689Z"
   },
   {
    "duration": 118,
    "start_time": "2022-07-02T09:46:55.749Z"
   },
   {
    "duration": 372,
    "start_time": "2022-07-02T09:46:55.877Z"
   },
   {
    "duration": 26,
    "start_time": "2022-07-02T09:46:56.263Z"
   },
   {
    "duration": 304,
    "start_time": "2022-07-02T09:46:56.295Z"
   },
   {
    "duration": 32,
    "start_time": "2022-07-02T09:46:56.606Z"
   },
   {
    "duration": 317,
    "start_time": "2022-07-02T09:46:56.644Z"
   },
   {
    "duration": 78,
    "start_time": "2022-07-02T09:46:56.967Z"
   },
   {
    "duration": 189,
    "start_time": "2022-07-02T09:46:57.051Z"
   },
   {
    "duration": 134,
    "start_time": "2022-07-02T09:46:57.247Z"
   },
   {
    "duration": 340,
    "start_time": "2022-07-02T09:46:57.387Z"
   },
   {
    "duration": 75,
    "start_time": "2022-07-02T09:46:57.733Z"
   },
   {
    "duration": 110,
    "start_time": "2022-07-02T09:46:57.816Z"
   },
   {
    "duration": 71,
    "start_time": "2022-07-02T09:46:57.934Z"
   },
   {
    "duration": 433,
    "start_time": "2022-07-02T09:46:58.012Z"
   },
   {
    "duration": 111,
    "start_time": "2022-07-02T09:46:58.452Z"
   },
   {
    "duration": 20,
    "start_time": "2022-07-02T09:46:58.571Z"
   },
   {
    "duration": 460,
    "start_time": "2022-07-02T09:46:58.597Z"
   },
   {
    "duration": 11,
    "start_time": "2022-07-02T09:46:59.060Z"
   },
   {
    "duration": 153,
    "start_time": "2022-07-02T09:46:59.076Z"
   },
   {
    "duration": 132,
    "start_time": "2022-07-02T09:46:59.233Z"
   },
   {
    "duration": 55001,
    "start_time": "2022-07-02T09:46:59.375Z"
   },
   {
    "duration": 33,
    "start_time": "2022-07-02T09:47:54.378Z"
   },
   {
    "duration": 8,
    "start_time": "2022-07-02T09:47:54.413Z"
   },
   {
    "duration": 10,
    "start_time": "2022-07-02T09:47:54.423Z"
   },
   {
    "duration": 43,
    "start_time": "2022-07-02T09:47:54.442Z"
   },
   {
    "duration": 22,
    "start_time": "2022-07-02T09:47:54.487Z"
   },
   {
    "duration": 7,
    "start_time": "2022-07-02T09:47:54.511Z"
   },
   {
    "duration": 67,
    "start_time": "2022-07-02T09:47:54.520Z"
   },
   {
    "duration": 18,
    "start_time": "2022-07-02T09:47:54.589Z"
   },
   {
    "duration": 8,
    "start_time": "2022-07-02T09:47:54.609Z"
   },
   {
    "duration": 25,
    "start_time": "2022-07-02T09:47:54.619Z"
   },
   {
    "duration": 403,
    "start_time": "2022-07-02T09:47:54.651Z"
   },
   {
    "duration": 216,
    "start_time": "2022-07-02T09:47:55.057Z"
   },
   {
    "duration": 336,
    "start_time": "2022-07-02T09:47:55.334Z"
   },
   {
    "duration": 10,
    "start_time": "2022-07-02T09:47:55.705Z"
   },
   {
    "duration": 93,
    "start_time": "2022-07-02T09:47:55.717Z"
   },
   {
    "duration": 781,
    "start_time": "2022-07-02T09:47:55.812Z"
   },
   {
    "duration": 54,
    "start_time": "2022-07-02T09:47:56.598Z"
   },
   {
    "duration": 162,
    "start_time": "2022-07-02T09:47:56.657Z"
   },
   {
    "duration": 100,
    "start_time": "2022-07-02T09:47:56.822Z"
   },
   {
    "duration": 25,
    "start_time": "2022-07-02T09:47:56.924Z"
   },
   {
    "duration": 437,
    "start_time": "2022-07-02T09:47:56.951Z"
   },
   {
    "duration": 4958,
    "start_time": "2022-07-02T09:47:57.390Z"
   },
   {
    "duration": 166,
    "start_time": "2022-07-02T09:48:02.358Z"
   },
   {
    "duration": 92093,
    "start_time": "2022-07-02T09:48:02.526Z"
   },
   {
    "duration": 1427,
    "start_time": "2022-07-02T09:49:34.624Z"
   },
   {
    "duration": 28,
    "start_time": "2022-07-02T09:49:36.053Z"
   },
   {
    "duration": 338,
    "start_time": "2022-07-02T09:49:36.083Z"
   },
   {
    "duration": 312,
    "start_time": "2022-07-02T09:49:36.436Z"
   },
   {
    "duration": 116,
    "start_time": "2022-07-02T09:49:36.754Z"
   },
   {
    "duration": 123,
    "start_time": "2022-07-02T09:49:36.876Z"
   },
   {
    "duration": 938,
    "start_time": "2022-07-02T09:49:37.013Z"
   },
   {
    "duration": 70,
    "start_time": "2022-07-02T09:49:37.959Z"
   },
   {
    "duration": 335,
    "start_time": "2022-07-02T09:49:38.038Z"
   },
   {
    "duration": 227,
    "start_time": "2022-07-02T09:49:38.388Z"
   },
   {
    "duration": 1679,
    "start_time": "2022-07-02T09:52:50.296Z"
   },
   {
    "duration": 60,
    "start_time": "2022-07-02T09:52:51.982Z"
   },
   {
    "duration": 28,
    "start_time": "2022-07-02T09:52:52.058Z"
   },
   {
    "duration": 25,
    "start_time": "2022-07-02T09:52:52.088Z"
   },
   {
    "duration": 21,
    "start_time": "2022-07-02T09:52:52.116Z"
   },
   {
    "duration": 68,
    "start_time": "2022-07-02T09:52:52.149Z"
   },
   {
    "duration": 69,
    "start_time": "2022-07-02T09:52:52.219Z"
   },
   {
    "duration": 6,
    "start_time": "2022-07-02T09:52:52.290Z"
   },
   {
    "duration": 10,
    "start_time": "2022-07-02T09:52:52.298Z"
   },
   {
    "duration": 6,
    "start_time": "2022-07-02T09:52:52.309Z"
   },
   {
    "duration": 196,
    "start_time": "2022-07-02T09:52:52.316Z"
   },
   {
    "duration": 5,
    "start_time": "2022-07-02T09:52:52.514Z"
   },
   {
    "duration": 28,
    "start_time": "2022-07-02T09:52:52.521Z"
   },
   {
    "duration": 32,
    "start_time": "2022-07-02T09:52:52.565Z"
   },
   {
    "duration": 14,
    "start_time": "2022-07-02T09:52:52.599Z"
   },
   {
    "duration": 6,
    "start_time": "2022-07-02T09:52:52.615Z"
   },
   {
    "duration": 24,
    "start_time": "2022-07-02T09:52:52.623Z"
   },
   {
    "duration": 226,
    "start_time": "2022-07-02T09:52:52.659Z"
   },
   {
    "duration": 7,
    "start_time": "2022-07-02T09:52:52.891Z"
   },
   {
    "duration": 10,
    "start_time": "2022-07-02T09:52:52.899Z"
   },
   {
    "duration": 9,
    "start_time": "2022-07-02T09:52:52.910Z"
   },
   {
    "duration": 242,
    "start_time": "2022-07-02T09:52:52.921Z"
   },
   {
    "duration": 13,
    "start_time": "2022-07-02T09:52:53.165Z"
   },
   {
    "duration": 205,
    "start_time": "2022-07-02T09:52:53.181Z"
   },
   {
    "duration": 19,
    "start_time": "2022-07-02T09:52:53.389Z"
   },
   {
    "duration": 57,
    "start_time": "2022-07-02T09:52:53.409Z"
   },
   {
    "duration": 44,
    "start_time": "2022-07-02T09:52:53.468Z"
   },
   {
    "duration": 58,
    "start_time": "2022-07-02T09:52:53.513Z"
   },
   {
    "duration": 62,
    "start_time": "2022-07-02T09:52:53.573Z"
   },
   {
    "duration": 178,
    "start_time": "2022-07-02T09:52:53.637Z"
   },
   {
    "duration": 79,
    "start_time": "2022-07-02T09:52:53.816Z"
   },
   {
    "duration": 218,
    "start_time": "2022-07-02T09:52:53.898Z"
   },
   {
    "duration": 24,
    "start_time": "2022-07-02T09:52:54.119Z"
   },
   {
    "duration": 174,
    "start_time": "2022-07-02T09:52:54.149Z"
   },
   {
    "duration": 28,
    "start_time": "2022-07-02T09:52:54.325Z"
   },
   {
    "duration": 35,
    "start_time": "2022-07-02T09:52:54.362Z"
   },
   {
    "duration": 199,
    "start_time": "2022-07-02T09:52:54.399Z"
   },
   {
    "duration": 7,
    "start_time": "2022-07-02T09:52:54.599Z"
   },
   {
    "duration": 12,
    "start_time": "2022-07-02T09:52:54.608Z"
   },
   {
    "duration": 66,
    "start_time": "2022-07-02T09:52:54.622Z"
   },
   {
    "duration": 44023,
    "start_time": "2022-07-02T09:52:54.696Z"
   },
   {
    "duration": 24,
    "start_time": "2022-07-02T09:53:38.721Z"
   },
   {
    "duration": 39,
    "start_time": "2022-07-02T09:53:38.746Z"
   },
   {
    "duration": 7,
    "start_time": "2022-07-02T09:53:38.787Z"
   },
   {
    "duration": 10,
    "start_time": "2022-07-02T09:53:38.796Z"
   },
   {
    "duration": 4,
    "start_time": "2022-07-02T09:53:38.807Z"
   },
   {
    "duration": 4,
    "start_time": "2022-07-02T09:53:38.813Z"
   },
   {
    "duration": 10,
    "start_time": "2022-07-02T09:53:38.840Z"
   },
   {
    "duration": 36,
    "start_time": "2022-07-02T09:53:38.851Z"
   },
   {
    "duration": 7,
    "start_time": "2022-07-02T09:53:38.888Z"
   },
   {
    "duration": 8,
    "start_time": "2022-07-02T09:53:38.897Z"
   },
   {
    "duration": 546,
    "start_time": "2022-07-02T09:53:38.907Z"
   },
   {
    "duration": 502,
    "start_time": "2022-07-02T09:53:39.461Z"
   },
   {
    "duration": 237,
    "start_time": "2022-07-02T09:53:40.029Z"
   },
   {
    "duration": 18,
    "start_time": "2022-07-02T09:53:40.327Z"
   },
   {
    "duration": 100,
    "start_time": "2022-07-02T09:53:40.352Z"
   },
   {
    "duration": 628,
    "start_time": "2022-07-02T09:53:40.457Z"
   },
   {
    "duration": 52,
    "start_time": "2022-07-02T09:53:41.087Z"
   },
   {
    "duration": 56,
    "start_time": "2022-07-02T09:53:41.141Z"
   },
   {
    "duration": 70,
    "start_time": "2022-07-02T09:53:41.199Z"
   },
   {
    "duration": 16,
    "start_time": "2022-07-02T09:53:41.279Z"
   },
   {
    "duration": 284,
    "start_time": "2022-07-02T09:53:41.298Z"
   },
   {
    "duration": 4004,
    "start_time": "2022-07-02T09:53:41.584Z"
   },
   {
    "duration": 120,
    "start_time": "2022-07-02T09:53:45.590Z"
   },
   {
    "duration": 71944,
    "start_time": "2022-07-02T09:53:45.711Z"
   },
   {
    "duration": 1011,
    "start_time": "2022-07-02T09:54:57.660Z"
   },
   {
    "duration": 17,
    "start_time": "2022-07-02T09:54:58.673Z"
   },
   {
    "duration": 271,
    "start_time": "2022-07-02T09:54:58.692Z"
   },
   {
    "duration": 317,
    "start_time": "2022-07-02T09:54:58.968Z"
   },
   {
    "duration": 111,
    "start_time": "2022-07-02T09:54:59.341Z"
   },
   {
    "duration": 35,
    "start_time": "2022-07-02T09:54:59.454Z"
   },
   {
    "duration": 657,
    "start_time": "2022-07-02T09:54:59.491Z"
   },
   {
    "duration": 44,
    "start_time": "2022-07-02T09:55:00.156Z"
   },
   {
    "duration": 132,
    "start_time": "2022-07-02T09:55:00.202Z"
   },
   {
    "duration": 133,
    "start_time": "2022-07-02T09:55:00.347Z"
   },
   {
    "duration": 143,
    "start_time": "2022-07-02T10:01:11.171Z"
   },
   {
    "duration": 249,
    "start_time": "2022-07-02T10:02:03.260Z"
   },
   {
    "duration": 15,
    "start_time": "2022-07-02T10:02:39.510Z"
   },
   {
    "duration": 23,
    "start_time": "2022-07-02T10:02:45.692Z"
   },
   {
    "duration": 4,
    "start_time": "2022-07-02T10:03:48.210Z"
   },
   {
    "duration": 175,
    "start_time": "2022-07-02T10:03:54.207Z"
   },
   {
    "duration": 11,
    "start_time": "2022-07-02T10:04:27.931Z"
   },
   {
    "duration": 18,
    "start_time": "2022-07-02T10:04:43.918Z"
   },
   {
    "duration": 15,
    "start_time": "2022-07-02T10:05:25.472Z"
   },
   {
    "duration": 212,
    "start_time": "2022-07-02T10:07:01.791Z"
   },
   {
    "duration": 1618,
    "start_time": "2022-07-02T10:14:57.286Z"
   },
   {
    "duration": 48,
    "start_time": "2022-07-02T10:14:58.907Z"
   },
   {
    "duration": 27,
    "start_time": "2022-07-02T10:14:58.964Z"
   },
   {
    "duration": 23,
    "start_time": "2022-07-02T10:14:58.993Z"
   },
   {
    "duration": 9,
    "start_time": "2022-07-02T10:14:59.019Z"
   },
   {
    "duration": 76,
    "start_time": "2022-07-02T10:14:59.030Z"
   },
   {
    "duration": 73,
    "start_time": "2022-07-02T10:14:59.108Z"
   },
   {
    "duration": 5,
    "start_time": "2022-07-02T10:14:59.186Z"
   },
   {
    "duration": 16,
    "start_time": "2022-07-02T10:14:59.193Z"
   },
   {
    "duration": 7,
    "start_time": "2022-07-02T10:14:59.210Z"
   },
   {
    "duration": 188,
    "start_time": "2022-07-02T10:14:59.219Z"
   },
   {
    "duration": 6,
    "start_time": "2022-07-02T10:14:59.409Z"
   },
   {
    "duration": 9,
    "start_time": "2022-07-02T10:14:59.417Z"
   },
   {
    "duration": 53,
    "start_time": "2022-07-02T10:14:59.439Z"
   },
   {
    "duration": 16,
    "start_time": "2022-07-02T10:14:59.494Z"
   },
   {
    "duration": 6,
    "start_time": "2022-07-02T10:14:59.512Z"
   },
   {
    "duration": 8,
    "start_time": "2022-07-02T10:14:59.519Z"
   },
   {
    "duration": 198,
    "start_time": "2022-07-02T10:14:59.529Z"
   },
   {
    "duration": 26,
    "start_time": "2022-07-02T10:14:59.729Z"
   },
   {
    "duration": 24,
    "start_time": "2022-07-02T10:14:59.766Z"
   },
   {
    "duration": 11,
    "start_time": "2022-07-02T10:14:59.792Z"
   },
   {
    "duration": 210,
    "start_time": "2022-07-02T10:14:59.805Z"
   },
   {
    "duration": 17,
    "start_time": "2022-07-02T10:15:00.018Z"
   },
   {
    "duration": 176,
    "start_time": "2022-07-02T10:15:00.036Z"
   },
   {
    "duration": 23,
    "start_time": "2022-07-02T10:15:00.214Z"
   },
   {
    "duration": 84,
    "start_time": "2022-07-02T10:15:00.238Z"
   },
   {
    "duration": 55,
    "start_time": "2022-07-02T10:15:00.324Z"
   },
   {
    "duration": 45,
    "start_time": "2022-07-02T10:15:00.381Z"
   },
   {
    "duration": 64,
    "start_time": "2022-07-02T10:15:00.429Z"
   },
   {
    "duration": 166,
    "start_time": "2022-07-02T10:15:00.494Z"
   },
   {
    "duration": 45,
    "start_time": "2022-07-02T10:15:00.661Z"
   },
   {
    "duration": 177,
    "start_time": "2022-07-02T10:15:00.708Z"
   },
   {
    "duration": 6,
    "start_time": "2022-07-02T10:15:00.887Z"
   },
   {
    "duration": 184,
    "start_time": "2022-07-02T10:15:00.895Z"
   },
   {
    "duration": 7,
    "start_time": "2022-07-02T10:15:01.081Z"
   },
   {
    "duration": 10,
    "start_time": "2022-07-02T10:15:01.090Z"
   },
   {
    "duration": 218,
    "start_time": "2022-07-02T10:15:01.102Z"
   },
   {
    "duration": 12,
    "start_time": "2022-07-02T10:15:01.323Z"
   },
   {
    "duration": 54,
    "start_time": "2022-07-02T10:15:01.336Z"
   },
   {
    "duration": 26,
    "start_time": "2022-07-02T10:15:01.393Z"
   },
   {
    "duration": 45444,
    "start_time": "2022-07-02T10:15:01.423Z"
   },
   {
    "duration": 22,
    "start_time": "2022-07-02T10:15:46.869Z"
   },
   {
    "duration": 16,
    "start_time": "2022-07-02T10:15:46.893Z"
   },
   {
    "duration": 24,
    "start_time": "2022-07-02T10:15:46.911Z"
   },
   {
    "duration": 71,
    "start_time": "2022-07-02T10:15:46.936Z"
   },
   {
    "duration": 10,
    "start_time": "2022-07-02T10:15:47.009Z"
   },
   {
    "duration": 16,
    "start_time": "2022-07-02T10:15:47.021Z"
   },
   {
    "duration": 30,
    "start_time": "2022-07-02T10:15:47.041Z"
   },
   {
    "duration": 18,
    "start_time": "2022-07-02T10:15:47.078Z"
   },
   {
    "duration": 21,
    "start_time": "2022-07-02T10:15:47.098Z"
   },
   {
    "duration": 50,
    "start_time": "2022-07-02T10:15:47.121Z"
   },
   {
    "duration": 170,
    "start_time": "2022-07-02T10:15:47.174Z"
   },
   {
    "duration": 295,
    "start_time": "2022-07-02T10:15:47.354Z"
   },
   {
    "duration": 216,
    "start_time": "2022-07-02T10:15:47.657Z"
   },
   {
    "duration": 54,
    "start_time": "2022-07-02T10:15:47.926Z"
   },
   {
    "duration": 100,
    "start_time": "2022-07-02T10:15:47.984Z"
   },
   {
    "duration": 712,
    "start_time": "2022-07-02T10:15:48.086Z"
   },
   {
    "duration": 40,
    "start_time": "2022-07-02T10:15:48.803Z"
   },
   {
    "duration": 63,
    "start_time": "2022-07-02T10:15:48.848Z"
   },
   {
    "duration": 81,
    "start_time": "2022-07-02T10:15:48.912Z"
   },
   {
    "duration": 8,
    "start_time": "2022-07-02T10:15:48.995Z"
   },
   {
    "duration": 326,
    "start_time": "2022-07-02T10:15:49.004Z"
   },
   {
    "duration": 4464,
    "start_time": "2022-07-02T10:15:49.332Z"
   },
   {
    "duration": 165,
    "start_time": "2022-07-02T10:15:53.801Z"
   },
   {
    "duration": 87566,
    "start_time": "2022-07-02T10:15:53.968Z"
   },
   {
    "duration": 1307,
    "start_time": "2022-07-02T10:17:21.540Z"
   },
   {
    "duration": 30,
    "start_time": "2022-07-02T10:17:22.853Z"
   },
   {
    "duration": 261,
    "start_time": "2022-07-02T10:17:22.892Z"
   },
   {
    "duration": 341,
    "start_time": "2022-07-02T10:17:23.172Z"
   },
   {
    "duration": 157,
    "start_time": "2022-07-02T10:17:23.522Z"
   },
   {
    "duration": 106,
    "start_time": "2022-07-02T10:17:23.690Z"
   },
   {
    "duration": 1222,
    "start_time": "2022-07-02T10:17:23.807Z"
   },
   {
    "duration": 66,
    "start_time": "2022-07-02T10:17:25.036Z"
   },
   {
    "duration": 259,
    "start_time": "2022-07-02T10:17:25.108Z"
   },
   {
    "duration": 201,
    "start_time": "2022-07-02T10:17:25.373Z"
   },
   {
    "duration": 184,
    "start_time": "2022-07-02T10:17:25.581Z"
   },
   {
    "duration": 269,
    "start_time": "2022-07-02T10:17:25.772Z"
   },
   {
    "duration": 1817,
    "start_time": "2022-07-02T13:40:20.197Z"
   },
   {
    "duration": 57,
    "start_time": "2022-07-02T13:40:22.016Z"
   },
   {
    "duration": 18,
    "start_time": "2022-07-02T13:40:22.075Z"
   },
   {
    "duration": 13,
    "start_time": "2022-07-02T13:40:22.095Z"
   },
   {
    "duration": 15,
    "start_time": "2022-07-02T13:40:22.110Z"
   },
   {
    "duration": 20,
    "start_time": "2022-07-02T13:40:22.126Z"
   },
   {
    "duration": 53,
    "start_time": "2022-07-02T13:40:22.148Z"
   },
   {
    "duration": 3,
    "start_time": "2022-07-02T13:40:22.203Z"
   },
   {
    "duration": 16,
    "start_time": "2022-07-02T13:40:22.208Z"
   },
   {
    "duration": 27,
    "start_time": "2022-07-02T13:40:22.227Z"
   },
   {
    "duration": 143,
    "start_time": "2022-07-02T13:40:22.256Z"
   },
   {
    "duration": 6,
    "start_time": "2022-07-02T13:40:22.400Z"
   },
   {
    "duration": 20,
    "start_time": "2022-07-02T13:40:22.408Z"
   },
   {
    "duration": 25,
    "start_time": "2022-07-02T13:40:22.430Z"
   },
   {
    "duration": 11,
    "start_time": "2022-07-02T13:40:22.457Z"
   },
   {
    "duration": 8,
    "start_time": "2022-07-02T13:40:22.469Z"
   },
   {
    "duration": 9,
    "start_time": "2022-07-02T13:40:22.479Z"
   },
   {
    "duration": 137,
    "start_time": "2022-07-02T13:40:22.489Z"
   },
   {
    "duration": 7,
    "start_time": "2022-07-02T13:40:22.628Z"
   },
   {
    "duration": 10,
    "start_time": "2022-07-02T13:40:22.637Z"
   },
   {
    "duration": 11,
    "start_time": "2022-07-02T13:40:22.649Z"
   },
   {
    "duration": 179,
    "start_time": "2022-07-02T13:40:22.662Z"
   },
   {
    "duration": 6,
    "start_time": "2022-07-02T13:40:22.843Z"
   },
   {
    "duration": 135,
    "start_time": "2022-07-02T13:40:22.851Z"
   },
   {
    "duration": 14,
    "start_time": "2022-07-02T13:40:22.988Z"
   },
   {
    "duration": 119,
    "start_time": "2022-07-02T13:40:23.004Z"
   },
   {
    "duration": 40,
    "start_time": "2022-07-02T13:40:23.126Z"
   },
   {
    "duration": 37,
    "start_time": "2022-07-02T13:40:23.170Z"
   },
   {
    "duration": 55,
    "start_time": "2022-07-02T13:40:23.209Z"
   },
   {
    "duration": 143,
    "start_time": "2022-07-02T13:40:23.266Z"
   },
   {
    "duration": 53,
    "start_time": "2022-07-02T13:40:23.411Z"
   },
   {
    "duration": 43,
    "start_time": "2022-07-02T13:40:23.465Z"
   },
   {
    "duration": 20,
    "start_time": "2022-07-02T13:40:23.510Z"
   },
   {
    "duration": 132,
    "start_time": "2022-07-02T13:40:23.532Z"
   },
   {
    "duration": 6,
    "start_time": "2022-07-02T13:40:23.666Z"
   },
   {
    "duration": 16,
    "start_time": "2022-07-02T13:40:23.673Z"
   },
   {
    "duration": 165,
    "start_time": "2022-07-02T13:40:23.690Z"
   },
   {
    "duration": 6,
    "start_time": "2022-07-02T13:40:23.857Z"
   },
   {
    "duration": 10,
    "start_time": "2022-07-02T13:40:23.865Z"
   },
   {
    "duration": 22,
    "start_time": "2022-07-02T13:40:23.877Z"
   },
   {
    "duration": 34984,
    "start_time": "2022-07-02T13:40:23.901Z"
   },
   {
    "duration": 15,
    "start_time": "2022-07-02T13:40:58.887Z"
   },
   {
    "duration": 26,
    "start_time": "2022-07-02T13:40:58.904Z"
   },
   {
    "duration": 5,
    "start_time": "2022-07-02T13:40:58.932Z"
   },
   {
    "duration": 12,
    "start_time": "2022-07-02T13:40:58.939Z"
   },
   {
    "duration": 25,
    "start_time": "2022-07-02T13:40:58.952Z"
   },
   {
    "duration": 18,
    "start_time": "2022-07-02T13:40:58.978Z"
   },
   {
    "duration": 16,
    "start_time": "2022-07-02T13:40:58.998Z"
   },
   {
    "duration": 36,
    "start_time": "2022-07-02T13:40:59.016Z"
   },
   {
    "duration": 27,
    "start_time": "2022-07-02T13:40:59.054Z"
   },
   {
    "duration": 18,
    "start_time": "2022-07-02T13:40:59.083Z"
   },
   {
    "duration": 329,
    "start_time": "2022-07-02T13:40:59.102Z"
   },
   {
    "duration": 206,
    "start_time": "2022-07-02T13:40:59.433Z"
   },
   {
    "duration": 301,
    "start_time": "2022-07-02T13:40:59.729Z"
   },
   {
    "duration": 96,
    "start_time": "2022-07-02T13:41:00.033Z"
   },
   {
    "duration": 68,
    "start_time": "2022-07-02T13:41:00.130Z"
   },
   {
    "duration": 592,
    "start_time": "2022-07-02T13:41:00.200Z"
   },
   {
    "duration": 39,
    "start_time": "2022-07-02T13:41:00.794Z"
   },
   {
    "duration": 48,
    "start_time": "2022-07-02T13:41:00.835Z"
   },
   {
    "duration": 61,
    "start_time": "2022-07-02T13:41:00.885Z"
   },
   {
    "duration": 7,
    "start_time": "2022-07-02T13:41:00.948Z"
   },
   {
    "duration": 262,
    "start_time": "2022-07-02T13:41:00.956Z"
   },
   {
    "duration": 3790,
    "start_time": "2022-07-02T13:41:01.220Z"
   },
   {
    "duration": 124,
    "start_time": "2022-07-02T13:41:05.012Z"
   },
   {
    "duration": 64761,
    "start_time": "2022-07-02T13:41:05.138Z"
   },
   {
    "duration": 995,
    "start_time": "2022-07-02T13:42:09.900Z"
   },
   {
    "duration": 30,
    "start_time": "2022-07-02T13:42:10.896Z"
   },
   {
    "duration": 202,
    "start_time": "2022-07-02T13:42:10.928Z"
   },
   {
    "duration": 298,
    "start_time": "2022-07-02T13:42:11.132Z"
   },
   {
    "duration": 129,
    "start_time": "2022-07-02T13:42:11.433Z"
   },
   {
    "duration": 64,
    "start_time": "2022-07-02T13:42:11.564Z"
   },
   {
    "duration": 633,
    "start_time": "2022-07-02T13:42:11.630Z"
   },
   {
    "duration": 29,
    "start_time": "2022-07-02T13:42:12.265Z"
   },
   {
    "duration": 124,
    "start_time": "2022-07-02T13:42:12.296Z"
   },
   {
    "duration": 115,
    "start_time": "2022-07-02T13:42:12.427Z"
   },
   {
    "duration": 126,
    "start_time": "2022-07-02T13:42:12.544Z"
   },
   {
    "duration": 143,
    "start_time": "2022-07-02T13:42:12.672Z"
   },
   {
    "duration": 7,
    "start_time": "2022-07-02T13:47:46.494Z"
   },
   {
    "duration": 4,
    "start_time": "2022-07-02T13:47:51.302Z"
   },
   {
    "duration": 126,
    "start_time": "2022-07-02T13:47:59.106Z"
   },
   {
    "duration": 231,
    "start_time": "2022-07-02T13:48:52.098Z"
   },
   {
    "duration": 200,
    "start_time": "2022-07-02T13:48:55.429Z"
   },
   {
    "duration": 232,
    "start_time": "2022-07-02T13:49:47.894Z"
   },
   {
    "duration": 196,
    "start_time": "2022-07-02T13:52:33.333Z"
   },
   {
    "duration": 114,
    "start_time": "2022-07-02T13:57:18.356Z"
   },
   {
    "duration": 4,
    "start_time": "2022-07-02T13:57:45.438Z"
   },
   {
    "duration": 7,
    "start_time": "2022-07-02T13:59:03.200Z"
   },
   {
    "duration": 3,
    "start_time": "2022-07-02T13:59:44.903Z"
   },
   {
    "duration": 8,
    "start_time": "2022-07-02T14:02:37.983Z"
   },
   {
    "duration": 193,
    "start_time": "2022-07-02T14:02:43.140Z"
   },
   {
    "duration": 113,
    "start_time": "2022-07-02T14:04:16.165Z"
   },
   {
    "duration": 3,
    "start_time": "2022-07-02T14:04:30.233Z"
   },
   {
    "duration": 3,
    "start_time": "2022-07-02T14:04:49.739Z"
   },
   {
    "duration": 4,
    "start_time": "2022-07-02T14:05:42.586Z"
   },
   {
    "duration": 53,
    "start_time": "2022-07-02T14:09:24.690Z"
   },
   {
    "duration": 10,
    "start_time": "2022-07-02T14:09:28.585Z"
   },
   {
    "duration": 8,
    "start_time": "2022-07-02T14:09:38.939Z"
   },
   {
    "duration": 63,
    "start_time": "2022-07-02T14:09:41.765Z"
   },
   {
    "duration": 4,
    "start_time": "2022-07-02T14:09:44.377Z"
   },
   {
    "duration": 47,
    "start_time": "2022-07-03T06:20:12.316Z"
   },
   {
    "duration": 7,
    "start_time": "2022-07-03T06:20:16.536Z"
   },
   {
    "duration": 1606,
    "start_time": "2022-07-03T06:20:25.709Z"
   },
   {
    "duration": 55,
    "start_time": "2022-07-03T06:20:27.317Z"
   },
   {
    "duration": 16,
    "start_time": "2022-07-03T06:20:27.374Z"
   },
   {
    "duration": 15,
    "start_time": "2022-07-03T06:20:27.392Z"
   },
   {
    "duration": 11,
    "start_time": "2022-07-03T06:20:27.409Z"
   },
   {
    "duration": 19,
    "start_time": "2022-07-03T06:20:27.422Z"
   },
   {
    "duration": 37,
    "start_time": "2022-07-03T06:20:27.443Z"
   },
   {
    "duration": 4,
    "start_time": "2022-07-03T06:20:27.482Z"
   },
   {
    "duration": 14,
    "start_time": "2022-07-03T06:20:27.488Z"
   },
   {
    "duration": 8,
    "start_time": "2022-07-03T06:20:27.504Z"
   },
   {
    "duration": 144,
    "start_time": "2022-07-03T06:20:27.513Z"
   },
   {
    "duration": 6,
    "start_time": "2022-07-03T06:20:27.659Z"
   },
   {
    "duration": 8,
    "start_time": "2022-07-03T06:20:27.666Z"
   },
   {
    "duration": 5,
    "start_time": "2022-07-03T06:20:27.677Z"
   },
   {
    "duration": 8,
    "start_time": "2022-07-03T06:20:27.684Z"
   },
   {
    "duration": 33,
    "start_time": "2022-07-03T06:20:27.694Z"
   },
   {
    "duration": 7,
    "start_time": "2022-07-03T06:20:27.729Z"
   },
   {
    "duration": 142,
    "start_time": "2022-07-03T06:20:27.737Z"
   },
   {
    "duration": 7,
    "start_time": "2022-07-03T06:20:27.881Z"
   },
   {
    "duration": 15,
    "start_time": "2022-07-03T06:20:27.889Z"
   },
   {
    "duration": 6,
    "start_time": "2022-07-03T06:20:27.906Z"
   },
   {
    "duration": 158,
    "start_time": "2022-07-03T06:20:27.914Z"
   },
   {
    "duration": 6,
    "start_time": "2022-07-03T06:20:28.074Z"
   },
   {
    "duration": 130,
    "start_time": "2022-07-03T06:20:28.081Z"
   },
   {
    "duration": 21,
    "start_time": "2022-07-03T06:20:28.212Z"
   },
   {
    "duration": 129,
    "start_time": "2022-07-03T06:20:28.235Z"
   },
   {
    "duration": 40,
    "start_time": "2022-07-03T06:20:28.366Z"
   },
   {
    "duration": 52,
    "start_time": "2022-07-03T06:20:28.407Z"
   },
   {
    "duration": 38,
    "start_time": "2022-07-03T06:20:28.460Z"
   },
   {
    "duration": 155,
    "start_time": "2022-07-03T06:20:28.499Z"
   },
   {
    "duration": 40,
    "start_time": "2022-07-03T06:20:28.655Z"
   },
   {
    "duration": 57,
    "start_time": "2022-07-03T06:20:28.697Z"
   },
   {
    "duration": 6,
    "start_time": "2022-07-03T06:20:28.755Z"
   },
   {
    "duration": 147,
    "start_time": "2022-07-03T06:20:28.763Z"
   },
   {
    "duration": 5,
    "start_time": "2022-07-03T06:20:28.912Z"
   },
   {
    "duration": 6,
    "start_time": "2022-07-03T06:20:28.925Z"
   },
   {
    "duration": 161,
    "start_time": "2022-07-03T06:20:28.933Z"
   },
   {
    "duration": 6,
    "start_time": "2022-07-03T06:20:29.095Z"
   },
   {
    "duration": 6,
    "start_time": "2022-07-03T06:20:29.102Z"
   },
   {
    "duration": 23,
    "start_time": "2022-07-03T06:20:29.110Z"
   },
   {
    "duration": 33888,
    "start_time": "2022-07-03T06:20:29.137Z"
   },
   {
    "duration": 18,
    "start_time": "2022-07-03T06:21:03.027Z"
   },
   {
    "duration": 7,
    "start_time": "2022-07-03T06:21:03.047Z"
   },
   {
    "duration": 19,
    "start_time": "2022-07-03T06:21:03.056Z"
   },
   {
    "duration": 149,
    "start_time": "2022-07-03T06:21:03.078Z"
   },
   {
    "duration": 0,
    "start_time": "2022-07-03T06:21:03.228Z"
   },
   {
    "duration": 0,
    "start_time": "2022-07-03T06:21:03.230Z"
   },
   {
    "duration": 0,
    "start_time": "2022-07-03T06:21:03.231Z"
   },
   {
    "duration": 0,
    "start_time": "2022-07-03T06:21:03.232Z"
   },
   {
    "duration": 0,
    "start_time": "2022-07-03T06:21:03.234Z"
   },
   {
    "duration": 0,
    "start_time": "2022-07-03T06:21:03.235Z"
   },
   {
    "duration": 0,
    "start_time": "2022-07-03T06:21:03.236Z"
   },
   {
    "duration": 0,
    "start_time": "2022-07-03T06:21:03.237Z"
   },
   {
    "duration": 0,
    "start_time": "2022-07-03T06:21:03.239Z"
   },
   {
    "duration": 0,
    "start_time": "2022-07-03T06:21:03.240Z"
   },
   {
    "duration": 0,
    "start_time": "2022-07-03T06:21:03.241Z"
   },
   {
    "duration": 0,
    "start_time": "2022-07-03T06:21:03.242Z"
   },
   {
    "duration": 0,
    "start_time": "2022-07-03T06:21:03.243Z"
   },
   {
    "duration": 0,
    "start_time": "2022-07-03T06:21:03.244Z"
   },
   {
    "duration": 0,
    "start_time": "2022-07-03T06:21:03.245Z"
   },
   {
    "duration": 0,
    "start_time": "2022-07-03T06:21:03.247Z"
   },
   {
    "duration": 0,
    "start_time": "2022-07-03T06:21:03.249Z"
   },
   {
    "duration": 0,
    "start_time": "2022-07-03T06:21:03.250Z"
   },
   {
    "duration": 0,
    "start_time": "2022-07-03T06:21:03.251Z"
   },
   {
    "duration": 0,
    "start_time": "2022-07-03T06:21:03.253Z"
   },
   {
    "duration": 0,
    "start_time": "2022-07-03T06:21:03.254Z"
   },
   {
    "duration": 0,
    "start_time": "2022-07-03T06:21:03.254Z"
   },
   {
    "duration": 0,
    "start_time": "2022-07-03T06:21:03.255Z"
   },
   {
    "duration": 0,
    "start_time": "2022-07-03T06:21:03.257Z"
   },
   {
    "duration": 0,
    "start_time": "2022-07-03T06:21:03.258Z"
   },
   {
    "duration": 0,
    "start_time": "2022-07-03T06:21:03.259Z"
   },
   {
    "duration": 0,
    "start_time": "2022-07-03T06:21:03.260Z"
   },
   {
    "duration": 0,
    "start_time": "2022-07-03T06:21:03.261Z"
   },
   {
    "duration": 0,
    "start_time": "2022-07-03T06:21:03.262Z"
   },
   {
    "duration": 0,
    "start_time": "2022-07-03T06:21:03.263Z"
   },
   {
    "duration": 0,
    "start_time": "2022-07-03T06:21:03.264Z"
   },
   {
    "duration": 0,
    "start_time": "2022-07-03T06:21:03.265Z"
   },
   {
    "duration": 0,
    "start_time": "2022-07-03T06:21:03.266Z"
   },
   {
    "duration": 0,
    "start_time": "2022-07-03T06:21:03.327Z"
   },
   {
    "duration": 6,
    "start_time": "2022-07-03T06:21:31.895Z"
   },
   {
    "duration": 8,
    "start_time": "2022-07-03T06:21:34.909Z"
   },
   {
    "duration": 12,
    "start_time": "2022-07-03T06:22:03.484Z"
   },
   {
    "duration": 6,
    "start_time": "2022-07-03T06:22:42.227Z"
   },
   {
    "duration": 4,
    "start_time": "2022-07-03T06:23:12.508Z"
   },
   {
    "duration": 4,
    "start_time": "2022-07-03T06:23:15.467Z"
   },
   {
    "duration": 4,
    "start_time": "2022-07-03T06:23:22.409Z"
   },
   {
    "duration": 9,
    "start_time": "2022-07-03T06:23:27.997Z"
   },
   {
    "duration": 9,
    "start_time": "2022-07-03T06:24:36.310Z"
   },
   {
    "duration": 23,
    "start_time": "2022-07-03T06:25:07.537Z"
   },
   {
    "duration": 4,
    "start_time": "2022-07-03T06:25:16.273Z"
   },
   {
    "duration": 289,
    "start_time": "2022-07-03T06:25:16.937Z"
   },
   {
    "duration": 3,
    "start_time": "2022-07-03T06:25:32.425Z"
   },
   {
    "duration": 18,
    "start_time": "2022-07-03T06:26:57.381Z"
   },
   {
    "duration": 10,
    "start_time": "2022-07-03T06:37:33.412Z"
   },
   {
    "duration": 50,
    "start_time": "2022-07-03T06:37:48.897Z"
   },
   {
    "duration": 4,
    "start_time": "2022-07-03T06:37:52.323Z"
   },
   {
    "duration": 803,
    "start_time": "2022-07-03T06:38:49.366Z"
   },
   {
    "duration": 45,
    "start_time": "2022-07-03T06:39:30.708Z"
   },
   {
    "duration": 52,
    "start_time": "2022-07-03T06:39:58.279Z"
   },
   {
    "duration": 43,
    "start_time": "2022-07-03T06:40:15.299Z"
   },
   {
    "duration": 7,
    "start_time": "2022-07-03T06:40:28.847Z"
   },
   {
    "duration": 208,
    "start_time": "2022-07-03T06:40:36.008Z"
   },
   {
    "duration": 4208,
    "start_time": "2022-07-03T06:42:11.485Z"
   },
   {
    "duration": 271,
    "start_time": "2022-07-03T06:43:30.381Z"
   },
   {
    "duration": 39810,
    "start_time": "2022-07-03T06:43:44.738Z"
   },
   {
    "duration": 105384,
    "start_time": "2022-07-03T06:44:27.479Z"
   },
   {
    "duration": 1057,
    "start_time": "2022-07-03T06:46:12.865Z"
   },
   {
    "duration": 256,
    "start_time": "2022-07-03T06:46:16.141Z"
   },
   {
    "duration": 40170,
    "start_time": "2022-07-03T06:46:36.991Z"
   },
   {
    "duration": 223,
    "start_time": "2022-07-03T06:47:22.005Z"
   },
   {
    "duration": 289,
    "start_time": "2022-07-03T06:47:29.842Z"
   },
   {
    "duration": 44,
    "start_time": "2022-07-03T06:47:38.194Z"
   },
   {
    "duration": 50,
    "start_time": "2022-07-03T06:47:42.217Z"
   },
   {
    "duration": 808,
    "start_time": "2022-07-03T06:47:47.694Z"
   },
   {
    "duration": 42,
    "start_time": "2022-07-03T06:47:52.016Z"
   },
   {
    "duration": 115,
    "start_time": "2022-07-03T06:48:03.832Z"
   },
   {
    "duration": 114,
    "start_time": "2022-07-03T06:48:08.704Z"
   },
   {
    "duration": 1344,
    "start_time": "2022-07-03T06:52:55.374Z"
   },
   {
    "duration": 29,
    "start_time": "2022-07-03T06:52:56.720Z"
   },
   {
    "duration": 16,
    "start_time": "2022-07-03T06:52:56.751Z"
   },
   {
    "duration": 12,
    "start_time": "2022-07-03T06:52:56.769Z"
   },
   {
    "duration": 4,
    "start_time": "2022-07-03T06:52:56.784Z"
   },
   {
    "duration": 16,
    "start_time": "2022-07-03T06:52:56.790Z"
   },
   {
    "duration": 38,
    "start_time": "2022-07-03T06:52:56.827Z"
   },
   {
    "duration": 4,
    "start_time": "2022-07-03T06:52:56.867Z"
   },
   {
    "duration": 7,
    "start_time": "2022-07-03T06:52:56.873Z"
   },
   {
    "duration": 5,
    "start_time": "2022-07-03T06:52:56.882Z"
   },
   {
    "duration": 162,
    "start_time": "2022-07-03T06:52:56.890Z"
   },
   {
    "duration": 5,
    "start_time": "2022-07-03T06:52:57.054Z"
   },
   {
    "duration": 10,
    "start_time": "2022-07-03T06:52:57.061Z"
   },
   {
    "duration": 10,
    "start_time": "2022-07-03T06:52:57.073Z"
   },
   {
    "duration": 10,
    "start_time": "2022-07-03T06:52:57.084Z"
   },
   {
    "duration": 5,
    "start_time": "2022-07-03T06:52:57.095Z"
   },
   {
    "duration": 27,
    "start_time": "2022-07-03T06:52:57.102Z"
   },
   {
    "duration": 136,
    "start_time": "2022-07-03T06:52:57.130Z"
   },
   {
    "duration": 7,
    "start_time": "2022-07-03T06:52:57.267Z"
   },
   {
    "duration": 8,
    "start_time": "2022-07-03T06:52:57.276Z"
   },
   {
    "duration": 8,
    "start_time": "2022-07-03T06:52:57.285Z"
   },
   {
    "duration": 163,
    "start_time": "2022-07-03T06:52:57.294Z"
   },
   {
    "duration": 6,
    "start_time": "2022-07-03T06:52:57.459Z"
   },
   {
    "duration": 123,
    "start_time": "2022-07-03T06:52:57.466Z"
   },
   {
    "duration": 13,
    "start_time": "2022-07-03T06:52:57.591Z"
   },
   {
    "duration": 49,
    "start_time": "2022-07-03T06:52:57.606Z"
   },
   {
    "duration": 38,
    "start_time": "2022-07-03T06:52:57.657Z"
   },
   {
    "duration": 50,
    "start_time": "2022-07-03T06:52:57.697Z"
   },
   {
    "duration": 38,
    "start_time": "2022-07-03T06:52:57.748Z"
   },
   {
    "duration": 139,
    "start_time": "2022-07-03T06:52:57.788Z"
   },
   {
    "duration": 36,
    "start_time": "2022-07-03T06:52:57.929Z"
   },
   {
    "duration": 131,
    "start_time": "2022-07-03T06:52:57.967Z"
   },
   {
    "duration": 5,
    "start_time": "2022-07-03T06:52:58.099Z"
   },
   {
    "duration": 124,
    "start_time": "2022-07-03T06:52:58.106Z"
   },
   {
    "duration": 5,
    "start_time": "2022-07-03T06:52:58.232Z"
   },
   {
    "duration": 9,
    "start_time": "2022-07-03T06:52:58.238Z"
   },
   {
    "duration": 165,
    "start_time": "2022-07-03T06:52:58.248Z"
   },
   {
    "duration": 12,
    "start_time": "2022-07-03T06:52:58.415Z"
   },
   {
    "duration": 7,
    "start_time": "2022-07-03T06:52:58.428Z"
   },
   {
    "duration": 13,
    "start_time": "2022-07-03T06:52:58.437Z"
   },
   {
    "duration": 34246,
    "start_time": "2022-07-03T06:52:58.455Z"
   },
   {
    "duration": 16,
    "start_time": "2022-07-03T06:53:32.703Z"
   },
   {
    "duration": 5,
    "start_time": "2022-07-03T06:53:32.725Z"
   },
   {
    "duration": 7,
    "start_time": "2022-07-03T06:53:32.732Z"
   },
   {
    "duration": 4,
    "start_time": "2022-07-03T06:53:32.740Z"
   },
   {
    "duration": 7,
    "start_time": "2022-07-03T06:53:32.746Z"
   },
   {
    "duration": 9,
    "start_time": "2022-07-03T06:53:32.755Z"
   },
   {
    "duration": 21,
    "start_time": "2022-07-03T06:53:32.765Z"
   },
   {
    "duration": 8,
    "start_time": "2022-07-03T06:53:32.788Z"
   },
   {
    "duration": 28,
    "start_time": "2022-07-03T06:53:32.798Z"
   },
   {
    "duration": 302,
    "start_time": "2022-07-03T06:53:32.827Z"
   },
   {
    "duration": 4,
    "start_time": "2022-07-03T06:53:33.130Z"
   },
   {
    "duration": 10,
    "start_time": "2022-07-03T06:53:33.137Z"
   },
   {
    "duration": 56,
    "start_time": "2022-07-03T06:53:33.149Z"
   },
   {
    "duration": 3,
    "start_time": "2022-07-03T06:53:33.227Z"
   },
   {
    "duration": 811,
    "start_time": "2022-07-03T06:53:33.232Z"
   },
   {
    "duration": 43,
    "start_time": "2022-07-03T06:53:34.045Z"
   },
   {
    "duration": 7,
    "start_time": "2022-07-03T06:53:34.090Z"
   },
   {
    "duration": 265,
    "start_time": "2022-07-03T06:53:34.098Z"
   },
   {
    "duration": 3894,
    "start_time": "2022-07-03T06:53:34.365Z"
   },
   {
    "duration": 264,
    "start_time": "2022-07-03T06:53:38.261Z"
   },
   {
    "duration": 132471,
    "start_time": "2022-07-03T06:53:38.527Z"
   },
   {
    "duration": 1078,
    "start_time": "2022-07-03T06:55:50.999Z"
   },
   {
    "duration": 250,
    "start_time": "2022-07-03T06:55:52.079Z"
   },
   {
    "duration": 302,
    "start_time": "2022-07-03T06:55:52.330Z"
   },
   {
    "duration": 44,
    "start_time": "2022-07-03T06:55:52.634Z"
   },
   {
    "duration": 65,
    "start_time": "2022-07-03T06:55:52.679Z"
   },
   {
    "duration": 852,
    "start_time": "2022-07-03T06:55:52.745Z"
   },
   {
    "duration": 45,
    "start_time": "2022-07-03T06:55:53.598Z"
   },
   {
    "duration": 119,
    "start_time": "2022-07-03T06:55:53.645Z"
   },
   {
    "duration": 125,
    "start_time": "2022-07-03T06:55:53.766Z"
   },
   {
    "duration": 125,
    "start_time": "2022-07-03T06:55:53.893Z"
   },
   {
    "duration": 13,
    "start_time": "2022-07-03T06:55:54.019Z"
   },
   {
    "duration": 128,
    "start_time": "2022-07-03T06:55:54.033Z"
   },
   {
    "duration": 48,
    "start_time": "2022-07-03T06:55:54.165Z"
   },
   {
    "duration": 245,
    "start_time": "2022-07-03T06:58:55.742Z"
   },
   {
    "duration": 248,
    "start_time": "2022-07-03T06:59:13.333Z"
   },
   {
    "duration": 206,
    "start_time": "2022-07-03T06:59:37.673Z"
   },
   {
    "duration": 203,
    "start_time": "2022-07-03T06:59:59.012Z"
   },
   {
    "duration": 202,
    "start_time": "2022-07-03T07:00:36.896Z"
   },
   {
    "duration": 111705,
    "start_time": "2022-07-03T07:00:46.684Z"
   },
   {
    "duration": 18273,
    "start_time": "2022-07-03T07:02:41.115Z"
   },
   {
    "duration": 156,
    "start_time": "2022-07-03T07:03:12.618Z"
   },
   {
    "duration": 139,
    "start_time": "2022-07-03T07:03:29.086Z"
   },
   {
    "duration": 163,
    "start_time": "2022-07-03T07:04:04.509Z"
   },
   {
    "duration": 184303,
    "start_time": "2022-07-03T07:04:17.191Z"
   },
   {
    "duration": 262,
    "start_time": "2022-07-03T07:07:21.497Z"
   },
   {
    "duration": 948,
    "start_time": "2022-07-03T07:07:31.442Z"
   },
   {
    "duration": 926,
    "start_time": "2022-07-03T07:08:04.185Z"
   },
   {
    "duration": 854,
    "start_time": "2022-07-03T07:08:12.885Z"
   },
   {
    "duration": 3879,
    "start_time": "2022-07-03T07:08:57.458Z"
   },
   {
    "duration": 4080,
    "start_time": "2022-07-03T07:09:17.970Z"
   },
   {
    "duration": 234,
    "start_time": "2022-07-03T07:09:44.177Z"
   },
   {
    "duration": 171,
    "start_time": "2022-07-03T07:10:08.241Z"
   },
   {
    "duration": 166,
    "start_time": "2022-07-03T07:10:29.542Z"
   },
   {
    "duration": 10,
    "start_time": "2022-07-03T07:11:29.484Z"
   },
   {
    "duration": 53,
    "start_time": "2022-07-03T07:11:34.680Z"
   },
   {
    "duration": 858,
    "start_time": "2022-07-03T07:11:53.753Z"
   },
   {
    "duration": 52,
    "start_time": "2022-07-03T07:12:12.409Z"
   },
   {
    "duration": 1569,
    "start_time": "2022-07-03T07:13:04.490Z"
   },
   {
    "duration": 30,
    "start_time": "2022-07-03T07:13:06.061Z"
   },
   {
    "duration": 25,
    "start_time": "2022-07-03T07:13:06.093Z"
   },
   {
    "duration": 21,
    "start_time": "2022-07-03T07:13:06.120Z"
   },
   {
    "duration": 6,
    "start_time": "2022-07-03T07:13:06.144Z"
   },
   {
    "duration": 21,
    "start_time": "2022-07-03T07:13:06.152Z"
   },
   {
    "duration": 61,
    "start_time": "2022-07-03T07:13:06.175Z"
   },
   {
    "duration": 5,
    "start_time": "2022-07-03T07:13:06.237Z"
   },
   {
    "duration": 9,
    "start_time": "2022-07-03T07:13:06.244Z"
   },
   {
    "duration": 10,
    "start_time": "2022-07-03T07:13:06.255Z"
   },
   {
    "duration": 202,
    "start_time": "2022-07-03T07:13:06.267Z"
   },
   {
    "duration": 5,
    "start_time": "2022-07-03T07:13:06.470Z"
   },
   {
    "duration": 8,
    "start_time": "2022-07-03T07:13:06.477Z"
   },
   {
    "duration": 6,
    "start_time": "2022-07-03T07:13:06.488Z"
   },
   {
    "duration": 35,
    "start_time": "2022-07-03T07:13:06.496Z"
   },
   {
    "duration": 8,
    "start_time": "2022-07-03T07:13:06.533Z"
   },
   {
    "duration": 9,
    "start_time": "2022-07-03T07:13:06.542Z"
   },
   {
    "duration": 157,
    "start_time": "2022-07-03T07:13:06.553Z"
   },
   {
    "duration": 18,
    "start_time": "2022-07-03T07:13:06.712Z"
   },
   {
    "duration": 27,
    "start_time": "2022-07-03T07:13:06.732Z"
   },
   {
    "duration": 8,
    "start_time": "2022-07-03T07:13:06.761Z"
   },
   {
    "duration": 186,
    "start_time": "2022-07-03T07:13:06.771Z"
   },
   {
    "duration": 6,
    "start_time": "2022-07-03T07:13:06.959Z"
   },
   {
    "duration": 159,
    "start_time": "2022-07-03T07:13:06.967Z"
   },
   {
    "duration": 19,
    "start_time": "2022-07-03T07:13:07.128Z"
   },
   {
    "duration": 44,
    "start_time": "2022-07-03T07:13:07.149Z"
   },
   {
    "duration": 61,
    "start_time": "2022-07-03T07:13:07.195Z"
   },
   {
    "duration": 49,
    "start_time": "2022-07-03T07:13:07.258Z"
   },
   {
    "duration": 49,
    "start_time": "2022-07-03T07:13:07.325Z"
   },
   {
    "duration": 175,
    "start_time": "2022-07-03T07:13:07.375Z"
   },
   {
    "duration": 42,
    "start_time": "2022-07-03T07:13:07.552Z"
   },
   {
    "duration": 149,
    "start_time": "2022-07-03T07:13:07.595Z"
   },
   {
    "duration": 6,
    "start_time": "2022-07-03T07:13:07.746Z"
   },
   {
    "duration": 156,
    "start_time": "2022-07-03T07:13:07.754Z"
   },
   {
    "duration": 14,
    "start_time": "2022-07-03T07:13:07.913Z"
   },
   {
    "duration": 14,
    "start_time": "2022-07-03T07:13:07.929Z"
   },
   {
    "duration": 176,
    "start_time": "2022-07-03T07:13:07.944Z"
   },
   {
    "duration": 5,
    "start_time": "2022-07-03T07:13:08.126Z"
   },
   {
    "duration": 32,
    "start_time": "2022-07-03T07:13:08.132Z"
   },
   {
    "duration": 24,
    "start_time": "2022-07-03T07:13:08.166Z"
   },
   {
    "duration": 36070,
    "start_time": "2022-07-03T07:13:08.196Z"
   },
   {
    "duration": 24,
    "start_time": "2022-07-03T07:13:44.268Z"
   },
   {
    "duration": 8,
    "start_time": "2022-07-03T07:13:44.294Z"
   },
   {
    "duration": 49,
    "start_time": "2022-07-03T07:13:44.304Z"
   },
   {
    "duration": 13,
    "start_time": "2022-07-03T07:13:44.355Z"
   },
   {
    "duration": 57,
    "start_time": "2022-07-03T07:13:44.370Z"
   },
   {
    "duration": 25,
    "start_time": "2022-07-03T07:13:44.429Z"
   },
   {
    "duration": 40,
    "start_time": "2022-07-03T07:13:44.457Z"
   },
   {
    "duration": 10,
    "start_time": "2022-07-03T07:13:44.501Z"
   },
   {
    "duration": 19,
    "start_time": "2022-07-03T07:13:44.513Z"
   },
   {
    "duration": 203,
    "start_time": "2022-07-03T07:13:44.534Z"
   },
   {
    "duration": 91,
    "start_time": "2022-07-03T07:13:44.739Z"
   },
   {
    "duration": 13,
    "start_time": "2022-07-03T07:13:44.831Z"
   },
   {
    "duration": 65,
    "start_time": "2022-07-03T07:13:44.846Z"
   },
   {
    "duration": 889,
    "start_time": "2022-07-03T07:13:44.913Z"
   },
   {
    "duration": 77,
    "start_time": "2022-07-03T07:13:45.804Z"
   },
   {
    "duration": 6,
    "start_time": "2022-07-03T07:13:45.883Z"
   },
   {
    "duration": 240,
    "start_time": "2022-07-03T07:13:45.891Z"
   },
   {
    "duration": 3948,
    "start_time": "2022-07-03T07:13:46.133Z"
   },
   {
    "duration": 211,
    "start_time": "2022-07-03T07:13:50.082Z"
   },
   {
    "duration": 182680,
    "start_time": "2022-07-03T07:13:50.295Z"
   },
   {
    "duration": 872,
    "start_time": "2022-07-03T07:16:52.977Z"
   },
   {
    "duration": 283,
    "start_time": "2022-07-03T07:16:53.851Z"
   },
   {
    "duration": 300,
    "start_time": "2022-07-03T07:16:54.136Z"
   },
   {
    "duration": 50,
    "start_time": "2022-07-03T07:16:54.438Z"
   },
   {
    "duration": 77,
    "start_time": "2022-07-03T07:16:54.490Z"
   },
   {
    "duration": 876,
    "start_time": "2022-07-03T07:16:54.569Z"
   },
   {
    "duration": 40,
    "start_time": "2022-07-03T07:16:55.446Z"
   },
   {
    "duration": 170,
    "start_time": "2022-07-03T07:16:55.488Z"
   },
   {
    "duration": 167,
    "start_time": "2022-07-03T07:16:55.660Z"
   },
   {
    "duration": 3861,
    "start_time": "2022-07-03T07:16:55.829Z"
   },
   {
    "duration": 134,
    "start_time": "2022-07-03T07:16:59.692Z"
   },
   {
    "duration": 8,
    "start_time": "2022-07-03T07:16:59.828Z"
   },
   {
    "duration": 134,
    "start_time": "2022-07-03T07:16:59.837Z"
   },
   {
    "duration": 7,
    "start_time": "2022-07-03T07:29:39.482Z"
   },
   {
    "duration": 234,
    "start_time": "2022-07-03T07:29:43.190Z"
   },
   {
    "duration": 3844,
    "start_time": "2022-07-03T07:29:49.038Z"
   },
   {
    "duration": 226,
    "start_time": "2022-07-03T07:30:22.147Z"
   },
   {
    "duration": 181594,
    "start_time": "2022-07-03T07:30:27.068Z"
   },
   {
    "duration": 866,
    "start_time": "2022-07-03T07:34:09.021Z"
   },
   {
    "duration": 842,
    "start_time": "2022-07-03T07:34:47.118Z"
   },
   {
    "duration": 140,
    "start_time": "2022-07-03T07:35:06.491Z"
   },
   {
    "duration": 132,
    "start_time": "2022-07-03T07:35:37.562Z"
   },
   {
    "duration": 127,
    "start_time": "2022-07-03T07:36:07.732Z"
   },
   {
    "duration": 266,
    "start_time": "2022-07-03T07:36:51.265Z"
   },
   {
    "duration": 248,
    "start_time": "2022-07-03T07:36:54.087Z"
   },
   {
    "duration": 49,
    "start_time": "2022-07-03T07:39:06.680Z"
   },
   {
    "duration": 50,
    "start_time": "2022-07-03T07:39:13.316Z"
   },
   {
    "duration": 782,
    "start_time": "2022-07-03T07:39:27.988Z"
   },
   {
    "duration": 45,
    "start_time": "2022-07-03T07:39:33.253Z"
   },
   {
    "duration": 9,
    "start_time": "2022-07-03T07:41:02.872Z"
   },
   {
    "duration": 52,
    "start_time": "2022-07-03T07:41:08.424Z"
   },
   {
    "duration": 8,
    "start_time": "2022-07-03T07:41:32.240Z"
   },
   {
    "duration": 256,
    "start_time": "2022-07-03T07:41:38.072Z"
   },
   {
    "duration": 8,
    "start_time": "2022-07-03T07:41:49.889Z"
   },
   {
    "duration": 49,
    "start_time": "2022-07-03T07:41:51.904Z"
   },
   {
    "duration": 815,
    "start_time": "2022-07-03T07:41:56.540Z"
   },
   {
    "duration": 52,
    "start_time": "2022-07-03T07:42:03.232Z"
   },
   {
    "duration": 7,
    "start_time": "2022-07-03T07:42:20.008Z"
   },
   {
    "duration": 230,
    "start_time": "2022-07-03T07:42:27.948Z"
   },
   {
    "duration": 3882,
    "start_time": "2022-07-03T07:42:30.957Z"
   },
   {
    "duration": 222,
    "start_time": "2022-07-03T07:42:41.714Z"
   },
   {
    "duration": 8059,
    "start_time": "2022-07-03T07:42:54.424Z"
   },
   {
    "duration": 849,
    "start_time": "2022-07-03T07:43:06.404Z"
   },
   {
    "duration": 142,
    "start_time": "2022-07-03T07:43:10.505Z"
   },
   {
    "duration": 113,
    "start_time": "2022-07-03T07:43:12.904Z"
   },
   {
    "duration": 317,
    "start_time": "2022-07-03T07:43:20.312Z"
   },
   {
    "duration": 240,
    "start_time": "2022-07-03T07:43:23.388Z"
   },
   {
    "duration": 849,
    "start_time": "2022-07-03T07:43:41.377Z"
   },
   {
    "duration": 40,
    "start_time": "2022-07-03T07:43:48.122Z"
   },
   {
    "duration": 4046,
    "start_time": "2022-07-03T07:47:14.889Z"
   },
   {
    "duration": 804,
    "start_time": "2022-07-03T07:47:22.797Z"
   },
   {
    "duration": 42,
    "start_time": "2022-07-03T07:47:27.381Z"
   },
   {
    "duration": 134,
    "start_time": "2022-07-03T07:49:04.892Z"
   },
   {
    "duration": 181151,
    "start_time": "2022-07-03T07:50:58.827Z"
   },
   {
    "duration": 128,
    "start_time": "2022-07-03T07:53:59.981Z"
   },
   {
    "duration": 129,
    "start_time": "2022-07-03T07:54:21.535Z"
   },
   {
    "duration": 3903,
    "start_time": "2022-07-03T07:55:57.499Z"
   },
   {
    "duration": 3882,
    "start_time": "2022-07-03T07:56:48.093Z"
   },
   {
    "duration": 173,
    "start_time": "2022-07-03T08:03:00.777Z"
   },
   {
    "duration": 170,
    "start_time": "2022-07-03T08:04:08.881Z"
   },
   {
    "duration": 167,
    "start_time": "2022-07-03T08:13:20.393Z"
   },
   {
    "duration": 154,
    "start_time": "2022-07-03T08:13:58.293Z"
   },
   {
    "duration": 190,
    "start_time": "2022-07-03T08:14:20.273Z"
   },
   {
    "duration": 173,
    "start_time": "2022-07-03T08:14:30.743Z"
   },
   {
    "duration": 9,
    "start_time": "2022-07-03T08:15:07.197Z"
   },
   {
    "duration": 9,
    "start_time": "2022-07-03T08:15:13.299Z"
   },
   {
    "duration": 10,
    "start_time": "2022-07-03T08:15:44.712Z"
   },
   {
    "duration": 9,
    "start_time": "2022-07-03T08:18:40.589Z"
   },
   {
    "duration": 10,
    "start_time": "2022-07-03T08:21:26.172Z"
   },
   {
    "duration": 1619,
    "start_time": "2022-07-03T08:23:55.205Z"
   },
   {
    "duration": 32,
    "start_time": "2022-07-03T08:23:56.827Z"
   },
   {
    "duration": 23,
    "start_time": "2022-07-03T08:23:56.862Z"
   },
   {
    "duration": 23,
    "start_time": "2022-07-03T08:23:56.887Z"
   },
   {
    "duration": 19,
    "start_time": "2022-07-03T08:23:56.912Z"
   },
   {
    "duration": 24,
    "start_time": "2022-07-03T08:23:56.933Z"
   },
   {
    "duration": 42,
    "start_time": "2022-07-03T08:23:56.959Z"
   },
   {
    "duration": 5,
    "start_time": "2022-07-03T08:23:57.002Z"
   },
   {
    "duration": 19,
    "start_time": "2022-07-03T08:23:57.008Z"
   },
   {
    "duration": 5,
    "start_time": "2022-07-03T08:23:57.028Z"
   },
   {
    "duration": 144,
    "start_time": "2022-07-03T08:23:57.035Z"
   },
   {
    "duration": 5,
    "start_time": "2022-07-03T08:23:57.181Z"
   },
   {
    "duration": 10,
    "start_time": "2022-07-03T08:23:57.187Z"
   },
   {
    "duration": 5,
    "start_time": "2022-07-03T08:23:57.201Z"
   },
   {
    "duration": 35,
    "start_time": "2022-07-03T08:23:57.208Z"
   },
   {
    "duration": 11,
    "start_time": "2022-07-03T08:23:57.245Z"
   },
   {
    "duration": 12,
    "start_time": "2022-07-03T08:23:57.258Z"
   },
   {
    "duration": 136,
    "start_time": "2022-07-03T08:23:57.272Z"
   },
   {
    "duration": 6,
    "start_time": "2022-07-03T08:23:57.410Z"
   },
   {
    "duration": 7,
    "start_time": "2022-07-03T08:23:57.426Z"
   },
   {
    "duration": 7,
    "start_time": "2022-07-03T08:23:57.434Z"
   },
   {
    "duration": 168,
    "start_time": "2022-07-03T08:23:57.443Z"
   },
   {
    "duration": 14,
    "start_time": "2022-07-03T08:23:57.613Z"
   },
   {
    "duration": 128,
    "start_time": "2022-07-03T08:23:57.629Z"
   },
   {
    "duration": 15,
    "start_time": "2022-07-03T08:23:57.759Z"
   },
   {
    "duration": 132,
    "start_time": "2022-07-03T08:23:57.776Z"
   },
   {
    "duration": 49,
    "start_time": "2022-07-03T08:23:57.910Z"
   },
   {
    "duration": 41,
    "start_time": "2022-07-03T08:23:57.961Z"
   },
   {
    "duration": 58,
    "start_time": "2022-07-03T08:23:58.004Z"
   },
   {
    "duration": 141,
    "start_time": "2022-07-03T08:23:58.064Z"
   },
   {
    "duration": 49,
    "start_time": "2022-07-03T08:23:58.207Z"
   },
   {
    "duration": 41,
    "start_time": "2022-07-03T08:23:58.257Z"
   },
   {
    "duration": 5,
    "start_time": "2022-07-03T08:23:58.300Z"
   },
   {
    "duration": 145,
    "start_time": "2022-07-03T08:23:58.306Z"
   },
   {
    "duration": 6,
    "start_time": "2022-07-03T08:23:58.452Z"
   },
   {
    "duration": 19,
    "start_time": "2022-07-03T08:23:58.459Z"
   },
   {
    "duration": 149,
    "start_time": "2022-07-03T08:23:58.479Z"
   },
   {
    "duration": 6,
    "start_time": "2022-07-03T08:23:58.630Z"
   },
   {
    "duration": 10,
    "start_time": "2022-07-03T08:23:58.637Z"
   },
   {
    "duration": 15,
    "start_time": "2022-07-03T08:23:58.648Z"
   },
   {
    "duration": 34814,
    "start_time": "2022-07-03T08:23:58.667Z"
   },
   {
    "duration": 16,
    "start_time": "2022-07-03T08:24:33.483Z"
   },
   {
    "duration": 5,
    "start_time": "2022-07-03T08:24:33.500Z"
   },
   {
    "duration": 9,
    "start_time": "2022-07-03T08:24:33.507Z"
   },
   {
    "duration": 13,
    "start_time": "2022-07-03T08:24:33.517Z"
   },
   {
    "duration": 10,
    "start_time": "2022-07-03T08:24:33.531Z"
   },
   {
    "duration": 8,
    "start_time": "2022-07-03T08:24:33.542Z"
   },
   {
    "duration": 24,
    "start_time": "2022-07-03T08:24:33.552Z"
   },
   {
    "duration": 8,
    "start_time": "2022-07-03T08:24:33.578Z"
   },
   {
    "duration": 8,
    "start_time": "2022-07-03T08:24:33.588Z"
   },
   {
    "duration": 335,
    "start_time": "2022-07-03T08:24:33.598Z"
   },
   {
    "duration": 3,
    "start_time": "2022-07-03T08:24:33.934Z"
   },
   {
    "duration": 9,
    "start_time": "2022-07-03T08:24:33.939Z"
   },
   {
    "duration": 55,
    "start_time": "2022-07-03T08:24:33.949Z"
   },
   {
    "duration": 905,
    "start_time": "2022-07-03T08:24:34.025Z"
   },
   {
    "duration": 55,
    "start_time": "2022-07-03T08:24:34.933Z"
   },
   {
    "duration": 8,
    "start_time": "2022-07-03T08:24:34.991Z"
   },
   {
    "duration": 258,
    "start_time": "2022-07-03T08:24:35.000Z"
   },
   {
    "duration": 3943,
    "start_time": "2022-07-03T08:24:35.260Z"
   },
   {
    "duration": 228,
    "start_time": "2022-07-03T08:24:39.205Z"
   },
   {
    "duration": 183500,
    "start_time": "2022-07-03T08:24:39.434Z"
   },
   {
    "duration": 879,
    "start_time": "2022-07-03T08:27:42.936Z"
   },
   {
    "duration": 150,
    "start_time": "2022-07-03T08:27:43.816Z"
   },
   {
    "duration": 132,
    "start_time": "2022-07-03T08:27:43.968Z"
   },
   {
    "duration": 334,
    "start_time": "2022-07-03T08:27:44.101Z"
   },
   {
    "duration": 203,
    "start_time": "2022-07-03T08:27:44.438Z"
   },
   {
    "duration": 56,
    "start_time": "2022-07-03T08:27:44.728Z"
   },
   {
    "duration": 71,
    "start_time": "2022-07-03T08:27:44.786Z"
   },
   {
    "duration": 857,
    "start_time": "2022-07-03T08:27:44.859Z"
   },
   {
    "duration": 41,
    "start_time": "2022-07-03T08:27:45.725Z"
   },
   {
    "duration": 129,
    "start_time": "2022-07-03T08:27:45.768Z"
   },
   {
    "duration": 121,
    "start_time": "2022-07-03T08:27:45.899Z"
   },
   {
    "duration": 3881,
    "start_time": "2022-07-03T08:27:46.022Z"
   },
   {
    "duration": 240,
    "start_time": "2022-07-03T08:27:49.905Z"
   },
   {
    "duration": 215,
    "start_time": "2022-07-03T08:27:50.147Z"
   },
   {
    "duration": 7,
    "start_time": "2022-07-03T08:27:50.364Z"
   },
   {
    "duration": 138,
    "start_time": "2022-07-03T08:27:50.373Z"
   },
   {
    "duration": 1926,
    "start_time": "2022-07-03T20:40:44.478Z"
   },
   {
    "duration": 171,
    "start_time": "2022-07-03T20:40:46.406Z"
   },
   {
    "duration": 18,
    "start_time": "2022-07-03T20:40:46.579Z"
   },
   {
    "duration": 12,
    "start_time": "2022-07-03T20:40:46.599Z"
   },
   {
    "duration": 9,
    "start_time": "2022-07-03T20:40:46.613Z"
   },
   {
    "duration": 16,
    "start_time": "2022-07-03T20:40:46.624Z"
   },
   {
    "duration": 41,
    "start_time": "2022-07-03T20:40:46.642Z"
   },
   {
    "duration": 4,
    "start_time": "2022-07-03T20:40:46.685Z"
   },
   {
    "duration": 8,
    "start_time": "2022-07-03T20:40:46.690Z"
   },
   {
    "duration": 6,
    "start_time": "2022-07-03T20:40:46.701Z"
   },
   {
    "duration": 204,
    "start_time": "2022-07-03T20:40:46.708Z"
   },
   {
    "duration": 7,
    "start_time": "2022-07-03T20:40:46.915Z"
   },
   {
    "duration": 20,
    "start_time": "2022-07-03T20:40:46.925Z"
   },
   {
    "duration": 7,
    "start_time": "2022-07-03T20:40:46.947Z"
   },
   {
    "duration": 20,
    "start_time": "2022-07-03T20:40:46.956Z"
   },
   {
    "duration": 8,
    "start_time": "2022-07-03T20:40:46.978Z"
   },
   {
    "duration": 15,
    "start_time": "2022-07-03T20:40:46.988Z"
   },
   {
    "duration": 168,
    "start_time": "2022-07-03T20:40:47.005Z"
   },
   {
    "duration": 7,
    "start_time": "2022-07-03T20:40:47.175Z"
   },
   {
    "duration": 10,
    "start_time": "2022-07-03T20:40:47.184Z"
   },
   {
    "duration": 9,
    "start_time": "2022-07-03T20:40:47.195Z"
   },
   {
    "duration": 192,
    "start_time": "2022-07-03T20:40:47.206Z"
   },
   {
    "duration": 7,
    "start_time": "2022-07-03T20:40:47.400Z"
   },
   {
    "duration": 180,
    "start_time": "2022-07-03T20:40:47.409Z"
   },
   {
    "duration": 22,
    "start_time": "2022-07-03T20:40:47.591Z"
   },
   {
    "duration": 131,
    "start_time": "2022-07-03T20:40:47.615Z"
   },
   {
    "duration": 43,
    "start_time": "2022-07-03T20:40:47.748Z"
   },
   {
    "duration": 55,
    "start_time": "2022-07-03T20:40:47.795Z"
   },
   {
    "duration": 41,
    "start_time": "2022-07-03T20:40:47.852Z"
   },
   {
    "duration": 165,
    "start_time": "2022-07-03T20:40:47.895Z"
   },
   {
    "duration": 45,
    "start_time": "2022-07-03T20:40:48.062Z"
   },
   {
    "duration": 64,
    "start_time": "2022-07-03T20:40:48.109Z"
   },
   {
    "duration": 6,
    "start_time": "2022-07-03T20:40:48.174Z"
   },
   {
    "duration": 148,
    "start_time": "2022-07-03T20:40:48.182Z"
   },
   {
    "duration": 11,
    "start_time": "2022-07-03T20:40:48.331Z"
   },
   {
    "duration": 6,
    "start_time": "2022-07-03T20:40:48.344Z"
   },
   {
    "duration": 176,
    "start_time": "2022-07-03T20:40:48.352Z"
   },
   {
    "duration": 12,
    "start_time": "2022-07-03T20:40:48.531Z"
   },
   {
    "duration": 5,
    "start_time": "2022-07-03T20:40:48.544Z"
   },
   {
    "duration": 16,
    "start_time": "2022-07-03T20:40:48.550Z"
   },
   {
    "duration": 36982,
    "start_time": "2022-07-03T20:40:48.568Z"
   },
   {
    "duration": 17,
    "start_time": "2022-07-03T20:41:25.552Z"
   },
   {
    "duration": 4,
    "start_time": "2022-07-03T20:41:25.571Z"
   },
   {
    "duration": 7,
    "start_time": "2022-07-03T20:41:25.577Z"
   },
   {
    "duration": 4,
    "start_time": "2022-07-03T20:41:25.586Z"
   },
   {
    "duration": 7,
    "start_time": "2022-07-03T20:41:25.591Z"
   },
   {
    "duration": 43,
    "start_time": "2022-07-03T20:41:25.600Z"
   },
   {
    "duration": 23,
    "start_time": "2022-07-03T20:41:25.645Z"
   },
   {
    "duration": 8,
    "start_time": "2022-07-03T20:41:25.670Z"
   },
   {
    "duration": 8,
    "start_time": "2022-07-03T20:41:25.680Z"
   },
   {
    "duration": 352,
    "start_time": "2022-07-03T20:41:25.690Z"
   },
   {
    "duration": 4,
    "start_time": "2022-07-03T20:41:26.045Z"
   },
   {
    "duration": 21,
    "start_time": "2022-07-03T20:41:26.051Z"
   },
   {
    "duration": 74,
    "start_time": "2022-07-03T20:41:26.075Z"
   },
   {
    "duration": 909,
    "start_time": "2022-07-03T20:41:26.151Z"
   },
   {
    "duration": 47,
    "start_time": "2022-07-03T20:41:27.062Z"
   },
   {
    "duration": 7,
    "start_time": "2022-07-03T20:41:27.111Z"
   },
   {
    "duration": 253,
    "start_time": "2022-07-03T20:41:27.119Z"
   },
   {
    "duration": 4124,
    "start_time": "2022-07-03T20:41:27.375Z"
   },
   {
    "duration": 231,
    "start_time": "2022-07-03T20:41:31.501Z"
   },
   {
    "duration": 193469,
    "start_time": "2022-07-03T20:41:31.734Z"
   },
   {
    "duration": 938,
    "start_time": "2022-07-03T20:44:45.205Z"
   },
   {
    "duration": 150,
    "start_time": "2022-07-03T20:44:46.145Z"
   },
   {
    "duration": 136,
    "start_time": "2022-07-03T20:44:46.297Z"
   },
   {
    "duration": 213,
    "start_time": "2022-07-03T20:44:46.441Z"
   },
   {
    "duration": 292,
    "start_time": "2022-07-03T20:44:46.656Z"
   },
   {
    "duration": 51,
    "start_time": "2022-07-03T20:44:46.950Z"
   },
   {
    "duration": 70,
    "start_time": "2022-07-03T20:44:47.002Z"
   },
   {
    "duration": 903,
    "start_time": "2022-07-03T20:44:47.073Z"
   },
   {
    "duration": 43,
    "start_time": "2022-07-03T20:44:47.978Z"
   },
   {
    "duration": 140,
    "start_time": "2022-07-03T20:44:48.022Z"
   },
   {
    "duration": 138,
    "start_time": "2022-07-03T20:44:48.163Z"
   },
   {
    "duration": 4174,
    "start_time": "2022-07-03T20:44:48.303Z"
   },
   {
    "duration": 185,
    "start_time": "2022-07-03T20:44:52.479Z"
   },
   {
    "duration": 184,
    "start_time": "2022-07-03T20:44:52.666Z"
   },
   {
    "duration": 8,
    "start_time": "2022-07-03T20:44:52.852Z"
   },
   {
    "duration": 158,
    "start_time": "2022-07-03T20:44:52.862Z"
   },
   {
    "duration": 50,
    "start_time": "2022-07-04T06:24:06.910Z"
   },
   {
    "duration": 1554,
    "start_time": "2022-07-04T06:24:29.313Z"
   },
   {
    "duration": 60,
    "start_time": "2022-07-04T06:24:30.870Z"
   },
   {
    "duration": 18,
    "start_time": "2022-07-04T06:24:30.932Z"
   },
   {
    "duration": 34,
    "start_time": "2022-07-04T06:24:30.952Z"
   },
   {
    "duration": 30,
    "start_time": "2022-07-04T06:24:30.987Z"
   },
   {
    "duration": 49,
    "start_time": "2022-07-04T06:24:31.019Z"
   },
   {
    "duration": 72,
    "start_time": "2022-07-04T06:24:31.069Z"
   },
   {
    "duration": 4,
    "start_time": "2022-07-04T06:24:31.143Z"
   },
   {
    "duration": 11,
    "start_time": "2022-07-04T06:24:31.148Z"
   },
   {
    "duration": 15,
    "start_time": "2022-07-04T06:24:31.162Z"
   },
   {
    "duration": 142,
    "start_time": "2022-07-04T06:24:31.178Z"
   },
   {
    "duration": 5,
    "start_time": "2022-07-04T06:24:31.321Z"
   },
   {
    "duration": 12,
    "start_time": "2022-07-04T06:24:31.328Z"
   },
   {
    "duration": 15,
    "start_time": "2022-07-04T06:24:31.341Z"
   },
   {
    "duration": 15,
    "start_time": "2022-07-04T06:24:31.358Z"
   },
   {
    "duration": 15,
    "start_time": "2022-07-04T06:24:31.375Z"
   },
   {
    "duration": 15,
    "start_time": "2022-07-04T06:24:31.392Z"
   },
   {
    "duration": 134,
    "start_time": "2022-07-04T06:24:31.409Z"
   },
   {
    "duration": 6,
    "start_time": "2022-07-04T06:24:31.545Z"
   },
   {
    "duration": 15,
    "start_time": "2022-07-04T06:24:31.552Z"
   },
   {
    "duration": 35,
    "start_time": "2022-07-04T06:24:31.569Z"
   },
   {
    "duration": 173,
    "start_time": "2022-07-04T06:24:31.606Z"
   },
   {
    "duration": 6,
    "start_time": "2022-07-04T06:24:31.781Z"
   },
   {
    "duration": 136,
    "start_time": "2022-07-04T06:24:31.789Z"
   },
   {
    "duration": 15,
    "start_time": "2022-07-04T06:24:31.927Z"
   },
   {
    "duration": 116,
    "start_time": "2022-07-04T06:24:31.944Z"
   },
   {
    "duration": 45,
    "start_time": "2022-07-04T06:24:32.061Z"
   },
   {
    "duration": 57,
    "start_time": "2022-07-04T06:24:32.110Z"
   },
   {
    "duration": 39,
    "start_time": "2022-07-04T06:24:32.169Z"
   },
   {
    "duration": 147,
    "start_time": "2022-07-04T06:24:32.210Z"
   },
   {
    "duration": 42,
    "start_time": "2022-07-04T06:24:32.359Z"
   },
   {
    "duration": 39,
    "start_time": "2022-07-04T06:24:32.403Z"
   },
   {
    "duration": 24,
    "start_time": "2022-07-04T06:24:32.443Z"
   },
   {
    "duration": 124,
    "start_time": "2022-07-04T06:24:32.469Z"
   },
   {
    "duration": 4,
    "start_time": "2022-07-04T06:24:32.595Z"
   },
   {
    "duration": 31,
    "start_time": "2022-07-04T06:24:32.601Z"
   },
   {
    "duration": 164,
    "start_time": "2022-07-04T06:24:32.634Z"
   },
   {
    "duration": 5,
    "start_time": "2022-07-04T06:24:32.800Z"
   },
   {
    "duration": 30,
    "start_time": "2022-07-04T06:24:32.806Z"
   },
   {
    "duration": 24,
    "start_time": "2022-07-04T06:24:32.838Z"
   },
   {
    "duration": 37678,
    "start_time": "2022-07-04T06:24:32.863Z"
   },
   {
    "duration": 18,
    "start_time": "2022-07-04T06:25:10.543Z"
   },
   {
    "duration": 14,
    "start_time": "2022-07-04T06:25:10.562Z"
   },
   {
    "duration": 10,
    "start_time": "2022-07-04T06:25:10.578Z"
   },
   {
    "duration": 8,
    "start_time": "2022-07-04T06:25:10.590Z"
   },
   {
    "duration": 6,
    "start_time": "2022-07-04T06:25:10.600Z"
   },
   {
    "duration": 47,
    "start_time": "2022-07-04T06:25:10.608Z"
   },
   {
    "duration": 0,
    "start_time": "2022-07-04T06:25:10.657Z"
   },
   {
    "duration": 0,
    "start_time": "2022-07-04T06:25:10.659Z"
   },
   {
    "duration": 0,
    "start_time": "2022-07-04T06:25:10.660Z"
   },
   {
    "duration": 0,
    "start_time": "2022-07-04T06:25:10.661Z"
   },
   {
    "duration": 0,
    "start_time": "2022-07-04T06:25:10.663Z"
   },
   {
    "duration": 0,
    "start_time": "2022-07-04T06:25:10.664Z"
   },
   {
    "duration": 0,
    "start_time": "2022-07-04T06:25:10.665Z"
   },
   {
    "duration": 0,
    "start_time": "2022-07-04T06:25:10.667Z"
   },
   {
    "duration": 0,
    "start_time": "2022-07-04T06:25:10.668Z"
   },
   {
    "duration": 0,
    "start_time": "2022-07-04T06:25:10.669Z"
   },
   {
    "duration": 0,
    "start_time": "2022-07-04T06:25:10.670Z"
   },
   {
    "duration": 0,
    "start_time": "2022-07-04T06:25:10.671Z"
   },
   {
    "duration": 0,
    "start_time": "2022-07-04T06:25:10.673Z"
   },
   {
    "duration": 0,
    "start_time": "2022-07-04T06:25:10.674Z"
   },
   {
    "duration": 0,
    "start_time": "2022-07-04T06:25:10.675Z"
   },
   {
    "duration": 0,
    "start_time": "2022-07-04T06:25:10.677Z"
   },
   {
    "duration": 0,
    "start_time": "2022-07-04T06:25:10.678Z"
   },
   {
    "duration": 0,
    "start_time": "2022-07-04T06:25:10.679Z"
   },
   {
    "duration": 0,
    "start_time": "2022-07-04T06:25:10.681Z"
   },
   {
    "duration": 0,
    "start_time": "2022-07-04T06:25:10.682Z"
   },
   {
    "duration": 0,
    "start_time": "2022-07-04T06:25:10.684Z"
   },
   {
    "duration": 0,
    "start_time": "2022-07-04T06:25:10.685Z"
   },
   {
    "duration": 0,
    "start_time": "2022-07-04T06:25:10.687Z"
   },
   {
    "duration": 0,
    "start_time": "2022-07-04T06:25:10.688Z"
   },
   {
    "duration": 0,
    "start_time": "2022-07-04T06:25:10.690Z"
   },
   {
    "duration": 0,
    "start_time": "2022-07-04T06:25:10.691Z"
   },
   {
    "duration": 0,
    "start_time": "2022-07-04T06:25:10.693Z"
   },
   {
    "duration": 0,
    "start_time": "2022-07-04T06:25:10.695Z"
   },
   {
    "duration": 0,
    "start_time": "2022-07-04T06:25:10.697Z"
   },
   {
    "duration": 0,
    "start_time": "2022-07-04T06:25:10.698Z"
   },
   {
    "duration": 53,
    "start_time": "2022-07-05T09:07:51.474Z"
   },
   {
    "duration": 1645,
    "start_time": "2022-07-05T09:08:02.283Z"
   },
   {
    "duration": 57,
    "start_time": "2022-07-05T09:08:03.930Z"
   },
   {
    "duration": 20,
    "start_time": "2022-07-05T09:08:03.989Z"
   },
   {
    "duration": 12,
    "start_time": "2022-07-05T09:08:04.011Z"
   },
   {
    "duration": 28,
    "start_time": "2022-07-05T09:08:04.026Z"
   },
   {
    "duration": 19,
    "start_time": "2022-07-05T09:08:04.056Z"
   },
   {
    "duration": 44,
    "start_time": "2022-07-05T09:08:04.077Z"
   },
   {
    "duration": 4,
    "start_time": "2022-07-05T09:08:04.122Z"
   },
   {
    "duration": 19,
    "start_time": "2022-07-05T09:08:04.128Z"
   },
   {
    "duration": 23,
    "start_time": "2022-07-05T09:08:04.148Z"
   },
   {
    "duration": 140,
    "start_time": "2022-07-05T09:08:04.173Z"
   },
   {
    "duration": 11,
    "start_time": "2022-07-05T09:08:04.315Z"
   },
   {
    "duration": 8,
    "start_time": "2022-07-05T09:08:04.328Z"
   },
   {
    "duration": 6,
    "start_time": "2022-07-05T09:08:04.338Z"
   },
   {
    "duration": 9,
    "start_time": "2022-07-05T09:08:04.346Z"
   },
   {
    "duration": 7,
    "start_time": "2022-07-05T09:08:04.356Z"
   },
   {
    "duration": 11,
    "start_time": "2022-07-05T09:08:04.364Z"
   },
   {
    "duration": 206,
    "start_time": "2022-07-05T09:08:04.376Z"
   },
   {
    "duration": 7,
    "start_time": "2022-07-05T09:08:04.585Z"
   },
   {
    "duration": 13,
    "start_time": "2022-07-05T09:08:04.594Z"
   },
   {
    "duration": 17,
    "start_time": "2022-07-05T09:08:04.609Z"
   },
   {
    "duration": 174,
    "start_time": "2022-07-05T09:08:04.628Z"
   },
   {
    "duration": 8,
    "start_time": "2022-07-05T09:08:04.804Z"
   },
   {
    "duration": 139,
    "start_time": "2022-07-05T09:08:04.823Z"
   },
   {
    "duration": 16,
    "start_time": "2022-07-05T09:08:04.964Z"
   },
   {
    "duration": 50,
    "start_time": "2022-07-05T09:08:04.982Z"
   },
   {
    "duration": 41,
    "start_time": "2022-07-05T09:08:05.033Z"
   },
   {
    "duration": 59,
    "start_time": "2022-07-05T09:08:05.076Z"
   },
   {
    "duration": 40,
    "start_time": "2022-07-05T09:08:05.137Z"
   },
   {
    "duration": 161,
    "start_time": "2022-07-05T09:08:05.179Z"
   },
   {
    "duration": 44,
    "start_time": "2022-07-05T09:08:05.342Z"
   },
   {
    "duration": 148,
    "start_time": "2022-07-05T09:08:05.388Z"
   },
   {
    "duration": 5,
    "start_time": "2022-07-05T09:08:05.537Z"
   },
   {
    "duration": 143,
    "start_time": "2022-07-05T09:08:05.544Z"
   },
   {
    "duration": 6,
    "start_time": "2022-07-05T09:08:05.688Z"
   },
   {
    "duration": 13,
    "start_time": "2022-07-05T09:08:05.695Z"
   },
   {
    "duration": 181,
    "start_time": "2022-07-05T09:08:05.710Z"
   },
   {
    "duration": 6,
    "start_time": "2022-07-05T09:08:05.893Z"
   },
   {
    "duration": 10,
    "start_time": "2022-07-05T09:08:05.900Z"
   },
   {
    "duration": 21,
    "start_time": "2022-07-05T09:08:05.912Z"
   },
   {
    "duration": 35212,
    "start_time": "2022-07-05T09:08:05.938Z"
   },
   {
    "duration": 17,
    "start_time": "2022-07-05T09:08:41.151Z"
   },
   {
    "duration": 6,
    "start_time": "2022-07-05T09:08:41.170Z"
   },
   {
    "duration": 6,
    "start_time": "2022-07-05T09:08:41.178Z"
   },
   {
    "duration": 57,
    "start_time": "2022-07-05T09:08:41.186Z"
   },
   {
    "duration": 3,
    "start_time": "2022-07-05T09:08:41.245Z"
   },
   {
    "duration": 6,
    "start_time": "2022-07-05T09:08:41.250Z"
   },
   {
    "duration": 60,
    "start_time": "2022-07-05T09:08:41.257Z"
   },
   {
    "duration": 0,
    "start_time": "2022-07-05T09:08:41.319Z"
   },
   {
    "duration": 0,
    "start_time": "2022-07-05T09:08:41.320Z"
   },
   {
    "duration": 0,
    "start_time": "2022-07-05T09:08:41.321Z"
   },
   {
    "duration": 0,
    "start_time": "2022-07-05T09:08:41.322Z"
   },
   {
    "duration": 0,
    "start_time": "2022-07-05T09:08:41.324Z"
   },
   {
    "duration": 0,
    "start_time": "2022-07-05T09:08:41.325Z"
   },
   {
    "duration": 0,
    "start_time": "2022-07-05T09:08:41.326Z"
   },
   {
    "duration": 0,
    "start_time": "2022-07-05T09:08:41.327Z"
   },
   {
    "duration": 0,
    "start_time": "2022-07-05T09:08:41.328Z"
   },
   {
    "duration": 0,
    "start_time": "2022-07-05T09:08:41.329Z"
   },
   {
    "duration": 0,
    "start_time": "2022-07-05T09:08:41.330Z"
   },
   {
    "duration": 0,
    "start_time": "2022-07-05T09:08:41.331Z"
   },
   {
    "duration": 0,
    "start_time": "2022-07-05T09:08:41.332Z"
   },
   {
    "duration": 0,
    "start_time": "2022-07-05T09:08:41.333Z"
   },
   {
    "duration": 0,
    "start_time": "2022-07-05T09:08:41.334Z"
   },
   {
    "duration": 0,
    "start_time": "2022-07-05T09:08:41.336Z"
   },
   {
    "duration": 0,
    "start_time": "2022-07-05T09:08:41.337Z"
   },
   {
    "duration": 0,
    "start_time": "2022-07-05T09:08:41.338Z"
   },
   {
    "duration": 0,
    "start_time": "2022-07-05T09:08:41.339Z"
   },
   {
    "duration": 0,
    "start_time": "2022-07-05T09:08:41.340Z"
   },
   {
    "duration": 0,
    "start_time": "2022-07-05T09:08:41.341Z"
   },
   {
    "duration": 0,
    "start_time": "2022-07-05T09:08:41.342Z"
   },
   {
    "duration": 0,
    "start_time": "2022-07-05T09:08:41.343Z"
   },
   {
    "duration": 0,
    "start_time": "2022-07-05T09:08:41.344Z"
   },
   {
    "duration": 0,
    "start_time": "2022-07-05T09:08:41.345Z"
   },
   {
    "duration": 0,
    "start_time": "2022-07-05T09:08:41.346Z"
   },
   {
    "duration": 0,
    "start_time": "2022-07-05T09:08:41.348Z"
   },
   {
    "duration": 0,
    "start_time": "2022-07-05T09:08:41.349Z"
   },
   {
    "duration": 0,
    "start_time": "2022-07-05T09:08:41.350Z"
   },
   {
    "duration": 0,
    "start_time": "2022-07-05T09:08:41.351Z"
   },
   {
    "duration": 37,
    "start_time": "2022-07-05T09:09:40.494Z"
   },
   {
    "duration": 37,
    "start_time": "2022-07-05T09:11:59.000Z"
   },
   {
    "duration": 5,
    "start_time": "2022-07-05T09:12:35.415Z"
   },
   {
    "duration": 7,
    "start_time": "2022-07-05T09:12:37.633Z"
   },
   {
    "duration": 36,
    "start_time": "2022-07-05T09:12:40.092Z"
   },
   {
    "duration": 35,
    "start_time": "2022-07-05T09:12:42.042Z"
   },
   {
    "duration": 124,
    "start_time": "2022-07-05T09:33:30.418Z"
   },
   {
    "duration": 4,
    "start_time": "2022-07-05T09:33:33.912Z"
   },
   {
    "duration": 29,
    "start_time": "2022-07-05T09:33:35.969Z"
   },
   {
    "duration": 1509,
    "start_time": "2022-07-05T09:33:44.151Z"
   },
   {
    "duration": 30,
    "start_time": "2022-07-05T09:33:45.662Z"
   },
   {
    "duration": 16,
    "start_time": "2022-07-05T09:33:45.693Z"
   },
   {
    "duration": 13,
    "start_time": "2022-07-05T09:33:45.711Z"
   },
   {
    "duration": 9,
    "start_time": "2022-07-05T09:33:45.726Z"
   },
   {
    "duration": 19,
    "start_time": "2022-07-05T09:33:45.736Z"
   },
   {
    "duration": 40,
    "start_time": "2022-07-05T09:33:45.757Z"
   },
   {
    "duration": 26,
    "start_time": "2022-07-05T09:33:45.798Z"
   },
   {
    "duration": 10,
    "start_time": "2022-07-05T09:33:45.825Z"
   },
   {
    "duration": 7,
    "start_time": "2022-07-05T09:33:45.836Z"
   },
   {
    "duration": 162,
    "start_time": "2022-07-05T09:33:45.844Z"
   },
   {
    "duration": 7,
    "start_time": "2022-07-05T09:33:46.008Z"
   },
   {
    "duration": 6,
    "start_time": "2022-07-05T09:33:46.023Z"
   },
   {
    "duration": 11,
    "start_time": "2022-07-05T09:33:46.032Z"
   },
   {
    "duration": 18,
    "start_time": "2022-07-05T09:33:46.044Z"
   },
   {
    "duration": 11,
    "start_time": "2022-07-05T09:33:46.064Z"
   },
   {
    "duration": 11,
    "start_time": "2022-07-05T09:33:46.077Z"
   },
   {
    "duration": 162,
    "start_time": "2022-07-05T09:33:46.090Z"
   },
   {
    "duration": 6,
    "start_time": "2022-07-05T09:33:46.254Z"
   },
   {
    "duration": 15,
    "start_time": "2022-07-05T09:33:46.262Z"
   },
   {
    "duration": 17,
    "start_time": "2022-07-05T09:33:46.280Z"
   },
   {
    "duration": 171,
    "start_time": "2022-07-05T09:33:46.299Z"
   },
   {
    "duration": 7,
    "start_time": "2022-07-05T09:33:46.472Z"
   },
   {
    "duration": 146,
    "start_time": "2022-07-05T09:33:46.481Z"
   },
   {
    "duration": 17,
    "start_time": "2022-07-05T09:33:46.629Z"
   },
   {
    "duration": 41,
    "start_time": "2022-07-05T09:33:46.648Z"
   },
   {
    "duration": 63,
    "start_time": "2022-07-05T09:33:46.691Z"
   },
   {
    "duration": 41,
    "start_time": "2022-07-05T09:33:46.756Z"
   },
   {
    "duration": 54,
    "start_time": "2022-07-05T09:33:46.798Z"
   },
   {
    "duration": 152,
    "start_time": "2022-07-05T09:33:46.853Z"
   },
   {
    "duration": 51,
    "start_time": "2022-07-05T09:33:47.007Z"
   },
   {
    "duration": 130,
    "start_time": "2022-07-05T09:33:47.060Z"
   },
   {
    "duration": 5,
    "start_time": "2022-07-05T09:33:47.192Z"
   },
   {
    "duration": 152,
    "start_time": "2022-07-05T09:33:47.199Z"
   },
   {
    "duration": 7,
    "start_time": "2022-07-05T09:33:47.353Z"
   },
   {
    "duration": 9,
    "start_time": "2022-07-05T09:33:47.362Z"
   },
   {
    "duration": 186,
    "start_time": "2022-07-05T09:33:47.373Z"
   },
   {
    "duration": 7,
    "start_time": "2022-07-05T09:33:47.561Z"
   },
   {
    "duration": 7,
    "start_time": "2022-07-05T09:33:47.570Z"
   },
   {
    "duration": 16,
    "start_time": "2022-07-05T09:33:47.579Z"
   },
   {
    "duration": 35747,
    "start_time": "2022-07-05T09:33:47.599Z"
   },
   {
    "duration": 16,
    "start_time": "2022-07-05T09:34:23.348Z"
   },
   {
    "duration": 6,
    "start_time": "2022-07-05T09:34:23.367Z"
   },
   {
    "duration": 12,
    "start_time": "2022-07-05T09:34:23.374Z"
   },
   {
    "duration": 50,
    "start_time": "2022-07-05T09:34:23.387Z"
   },
   {
    "duration": 34,
    "start_time": "2022-07-05T09:34:23.438Z"
   },
   {
    "duration": 3,
    "start_time": "2022-07-05T09:34:23.473Z"
   },
   {
    "duration": 9,
    "start_time": "2022-07-05T09:34:23.478Z"
   },
   {
    "duration": 45,
    "start_time": "2022-07-05T09:34:23.489Z"
   },
   {
    "duration": 0,
    "start_time": "2022-07-05T09:34:23.536Z"
   },
   {
    "duration": 0,
    "start_time": "2022-07-05T09:34:23.537Z"
   },
   {
    "duration": 0,
    "start_time": "2022-07-05T09:34:23.538Z"
   },
   {
    "duration": 0,
    "start_time": "2022-07-05T09:34:23.540Z"
   },
   {
    "duration": 0,
    "start_time": "2022-07-05T09:34:23.541Z"
   },
   {
    "duration": 0,
    "start_time": "2022-07-05T09:34:23.542Z"
   },
   {
    "duration": 0,
    "start_time": "2022-07-05T09:34:23.543Z"
   },
   {
    "duration": 0,
    "start_time": "2022-07-05T09:34:23.545Z"
   },
   {
    "duration": 0,
    "start_time": "2022-07-05T09:34:23.546Z"
   },
   {
    "duration": 0,
    "start_time": "2022-07-05T09:34:23.548Z"
   },
   {
    "duration": 0,
    "start_time": "2022-07-05T09:34:23.549Z"
   },
   {
    "duration": 0,
    "start_time": "2022-07-05T09:34:23.550Z"
   },
   {
    "duration": 0,
    "start_time": "2022-07-05T09:34:23.551Z"
   },
   {
    "duration": 0,
    "start_time": "2022-07-05T09:34:23.553Z"
   },
   {
    "duration": 0,
    "start_time": "2022-07-05T09:34:23.554Z"
   },
   {
    "duration": 0,
    "start_time": "2022-07-05T09:34:23.555Z"
   },
   {
    "duration": 0,
    "start_time": "2022-07-05T09:34:23.556Z"
   },
   {
    "duration": 0,
    "start_time": "2022-07-05T09:34:23.557Z"
   },
   {
    "duration": 0,
    "start_time": "2022-07-05T09:34:23.558Z"
   },
   {
    "duration": 0,
    "start_time": "2022-07-05T09:34:23.559Z"
   },
   {
    "duration": 0,
    "start_time": "2022-07-05T09:34:23.560Z"
   },
   {
    "duration": 0,
    "start_time": "2022-07-05T09:34:23.562Z"
   },
   {
    "duration": 0,
    "start_time": "2022-07-05T09:34:23.563Z"
   },
   {
    "duration": 0,
    "start_time": "2022-07-05T09:34:23.565Z"
   },
   {
    "duration": 0,
    "start_time": "2022-07-05T09:34:23.566Z"
   },
   {
    "duration": 0,
    "start_time": "2022-07-05T09:34:23.567Z"
   },
   {
    "duration": 0,
    "start_time": "2022-07-05T09:34:23.568Z"
   },
   {
    "duration": 0,
    "start_time": "2022-07-05T09:34:23.569Z"
   },
   {
    "duration": 0,
    "start_time": "2022-07-05T09:34:23.570Z"
   },
   {
    "duration": 0,
    "start_time": "2022-07-05T09:34:23.572Z"
   },
   {
    "duration": 1391,
    "start_time": "2022-07-05T11:28:59.738Z"
   },
   {
    "duration": 32,
    "start_time": "2022-07-05T11:29:01.131Z"
   },
   {
    "duration": 21,
    "start_time": "2022-07-05T11:29:01.165Z"
   },
   {
    "duration": 57,
    "start_time": "2022-07-05T11:29:01.188Z"
   },
   {
    "duration": 22,
    "start_time": "2022-07-05T11:29:01.247Z"
   },
   {
    "duration": 42,
    "start_time": "2022-07-05T11:29:01.271Z"
   },
   {
    "duration": 70,
    "start_time": "2022-07-05T11:29:01.315Z"
   },
   {
    "duration": 4,
    "start_time": "2022-07-05T11:29:01.387Z"
   },
   {
    "duration": 21,
    "start_time": "2022-07-05T11:29:01.393Z"
   },
   {
    "duration": 30,
    "start_time": "2022-07-05T11:29:01.415Z"
   },
   {
    "duration": 286,
    "start_time": "2022-07-05T11:29:01.447Z"
   },
   {
    "duration": 6,
    "start_time": "2022-07-05T11:29:01.735Z"
   },
   {
    "duration": 54,
    "start_time": "2022-07-05T11:29:01.742Z"
   },
   {
    "duration": 82,
    "start_time": "2022-07-05T11:29:01.799Z"
   },
   {
    "duration": 37,
    "start_time": "2022-07-05T11:29:01.884Z"
   },
   {
    "duration": 15,
    "start_time": "2022-07-05T11:29:01.923Z"
   },
   {
    "duration": 22,
    "start_time": "2022-07-05T11:29:01.940Z"
   },
   {
    "duration": 171,
    "start_time": "2022-07-05T11:29:01.964Z"
   },
   {
    "duration": 7,
    "start_time": "2022-07-05T11:29:02.138Z"
   },
   {
    "duration": 18,
    "start_time": "2022-07-05T11:29:02.147Z"
   },
   {
    "duration": 16,
    "start_time": "2022-07-05T11:29:02.167Z"
   },
   {
    "duration": 160,
    "start_time": "2022-07-05T11:29:02.185Z"
   },
   {
    "duration": 7,
    "start_time": "2022-07-05T11:29:02.347Z"
   },
   {
    "duration": 133,
    "start_time": "2022-07-05T11:29:02.355Z"
   },
   {
    "duration": 16,
    "start_time": "2022-07-05T11:29:02.490Z"
   },
   {
    "duration": 36,
    "start_time": "2022-07-05T11:29:02.522Z"
   },
   {
    "duration": 41,
    "start_time": "2022-07-05T11:29:02.561Z"
   },
   {
    "duration": 55,
    "start_time": "2022-07-05T11:29:02.604Z"
   },
   {
    "duration": 40,
    "start_time": "2022-07-05T11:29:02.661Z"
   },
   {
    "duration": 163,
    "start_time": "2022-07-05T11:29:02.703Z"
   },
   {
    "duration": 41,
    "start_time": "2022-07-05T11:29:02.870Z"
   },
   {
    "duration": 146,
    "start_time": "2022-07-05T11:29:02.913Z"
   },
   {
    "duration": 5,
    "start_time": "2022-07-05T11:29:03.061Z"
   },
   {
    "duration": 139,
    "start_time": "2022-07-05T11:29:03.068Z"
   },
   {
    "duration": 15,
    "start_time": "2022-07-05T11:29:03.209Z"
   },
   {
    "duration": 18,
    "start_time": "2022-07-05T11:29:03.225Z"
   },
   {
    "duration": 168,
    "start_time": "2022-07-05T11:29:03.245Z"
   },
   {
    "duration": 8,
    "start_time": "2022-07-05T11:29:03.415Z"
   },
   {
    "duration": 10,
    "start_time": "2022-07-05T11:29:03.425Z"
   },
   {
    "duration": 19,
    "start_time": "2022-07-05T11:29:03.437Z"
   },
   {
    "duration": 35138,
    "start_time": "2022-07-05T11:29:03.460Z"
   },
   {
    "duration": 17,
    "start_time": "2022-07-05T11:29:38.600Z"
   },
   {
    "duration": 15,
    "start_time": "2022-07-05T11:29:38.623Z"
   },
   {
    "duration": 19,
    "start_time": "2022-07-05T11:29:38.639Z"
   },
   {
    "duration": 46,
    "start_time": "2022-07-05T11:29:38.659Z"
   },
   {
    "duration": 38,
    "start_time": "2022-07-05T11:29:38.707Z"
   },
   {
    "duration": 3,
    "start_time": "2022-07-05T11:29:38.747Z"
   },
   {
    "duration": 19,
    "start_time": "2022-07-05T11:29:38.751Z"
   },
   {
    "duration": 15,
    "start_time": "2022-07-05T11:29:38.772Z"
   },
   {
    "duration": 38,
    "start_time": "2022-07-05T11:29:38.789Z"
   },
   {
    "duration": 14,
    "start_time": "2022-07-05T11:29:38.829Z"
   },
   {
    "duration": 32,
    "start_time": "2022-07-05T11:29:38.844Z"
   },
   {
    "duration": 255,
    "start_time": "2022-07-05T11:29:38.878Z"
   },
   {
    "duration": 3,
    "start_time": "2022-07-05T11:29:39.135Z"
   },
   {
    "duration": 20,
    "start_time": "2022-07-05T11:29:39.140Z"
   },
   {
    "duration": 89,
    "start_time": "2022-07-05T11:29:39.162Z"
   },
   {
    "duration": 830,
    "start_time": "2022-07-05T11:29:39.253Z"
   },
   {
    "duration": 59,
    "start_time": "2022-07-05T11:29:40.085Z"
   },
   {
    "duration": 7,
    "start_time": "2022-07-05T11:29:40.146Z"
   },
   {
    "duration": 254,
    "start_time": "2022-07-05T11:29:40.154Z"
   },
   {
    "duration": 4090,
    "start_time": "2022-07-05T11:29:40.409Z"
   },
   {
    "duration": 275,
    "start_time": "2022-07-05T11:29:44.501Z"
   },
   {
    "duration": 186626,
    "start_time": "2022-07-05T11:29:44.778Z"
   },
   {
    "duration": 840,
    "start_time": "2022-07-05T11:32:51.406Z"
   },
   {
    "duration": 137,
    "start_time": "2022-07-05T11:32:52.248Z"
   },
   {
    "duration": 127,
    "start_time": "2022-07-05T11:32:52.386Z"
   },
   {
    "duration": 306,
    "start_time": "2022-07-05T11:32:52.522Z"
   },
   {
    "duration": 300,
    "start_time": "2022-07-05T11:32:52.830Z"
   },
   {
    "duration": 50,
    "start_time": "2022-07-05T11:32:53.131Z"
   },
   {
    "duration": 77,
    "start_time": "2022-07-05T11:32:53.183Z"
   },
   {
    "duration": 886,
    "start_time": "2022-07-05T11:32:53.262Z"
   },
   {
    "duration": 47,
    "start_time": "2022-07-05T11:32:54.150Z"
   },
   {
    "duration": 136,
    "start_time": "2022-07-05T11:32:54.199Z"
   },
   {
    "duration": 149,
    "start_time": "2022-07-05T11:32:54.337Z"
   },
   {
    "duration": 4034,
    "start_time": "2022-07-05T11:32:54.488Z"
   },
   {
    "duration": 171,
    "start_time": "2022-07-05T11:32:58.524Z"
   },
   {
    "duration": 180,
    "start_time": "2022-07-05T11:32:58.696Z"
   },
   {
    "duration": 7,
    "start_time": "2022-07-05T11:32:58.877Z"
   },
   {
    "duration": 140,
    "start_time": "2022-07-05T11:32:58.886Z"
   },
   {
    "duration": 6,
    "start_time": "2022-07-05T11:33:43.480Z"
   },
   {
    "duration": 4,
    "start_time": "2022-07-05T11:39:38.239Z"
   },
   {
    "duration": 48,
    "start_time": "2022-07-05T11:41:38.962Z"
   },
   {
    "duration": 3,
    "start_time": "2022-07-05T11:42:35.276Z"
   },
   {
    "duration": 1459,
    "start_time": "2022-07-05T11:42:48.791Z"
   },
   {
    "duration": 33,
    "start_time": "2022-07-05T11:42:50.252Z"
   },
   {
    "duration": 16,
    "start_time": "2022-07-05T11:42:50.287Z"
   },
   {
    "duration": 16,
    "start_time": "2022-07-05T11:42:50.312Z"
   },
   {
    "duration": 16,
    "start_time": "2022-07-05T11:42:50.330Z"
   },
   {
    "duration": 27,
    "start_time": "2022-07-05T11:42:50.348Z"
   },
   {
    "duration": 41,
    "start_time": "2022-07-05T11:42:50.377Z"
   },
   {
    "duration": 4,
    "start_time": "2022-07-05T11:42:50.422Z"
   },
   {
    "duration": 32,
    "start_time": "2022-07-05T11:42:50.428Z"
   },
   {
    "duration": 36,
    "start_time": "2022-07-05T11:42:50.462Z"
   },
   {
    "duration": 159,
    "start_time": "2022-07-05T11:42:50.500Z"
   },
   {
    "duration": 6,
    "start_time": "2022-07-05T11:42:50.661Z"
   },
   {
    "duration": 13,
    "start_time": "2022-07-05T11:42:50.668Z"
   },
   {
    "duration": 6,
    "start_time": "2022-07-05T11:42:50.684Z"
   },
   {
    "duration": 31,
    "start_time": "2022-07-05T11:42:50.692Z"
   },
   {
    "duration": 7,
    "start_time": "2022-07-05T11:42:50.724Z"
   },
   {
    "duration": 13,
    "start_time": "2022-07-05T11:42:50.733Z"
   },
   {
    "duration": 155,
    "start_time": "2022-07-05T11:42:50.748Z"
   },
   {
    "duration": 8,
    "start_time": "2022-07-05T11:42:50.906Z"
   },
   {
    "duration": 9,
    "start_time": "2022-07-05T11:42:50.923Z"
   },
   {
    "duration": 9,
    "start_time": "2022-07-05T11:42:50.933Z"
   },
   {
    "duration": 189,
    "start_time": "2022-07-05T11:42:50.944Z"
   },
   {
    "duration": 7,
    "start_time": "2022-07-05T11:42:51.135Z"
   },
   {
    "duration": 143,
    "start_time": "2022-07-05T11:42:51.143Z"
   },
   {
    "duration": 15,
    "start_time": "2022-07-05T11:42:51.288Z"
   },
   {
    "duration": 57,
    "start_time": "2022-07-05T11:42:51.305Z"
   },
   {
    "duration": 42,
    "start_time": "2022-07-05T11:42:51.364Z"
   },
   {
    "duration": 54,
    "start_time": "2022-07-05T11:42:51.408Z"
   },
   {
    "duration": 40,
    "start_time": "2022-07-05T11:42:51.464Z"
   },
   {
    "duration": 159,
    "start_time": "2022-07-05T11:42:51.506Z"
   },
   {
    "duration": 40,
    "start_time": "2022-07-05T11:42:51.667Z"
   },
   {
    "duration": 154,
    "start_time": "2022-07-05T11:42:51.709Z"
   },
   {
    "duration": 6,
    "start_time": "2022-07-05T11:42:51.864Z"
   },
   {
    "duration": 151,
    "start_time": "2022-07-05T11:42:51.871Z"
   },
   {
    "duration": 6,
    "start_time": "2022-07-05T11:42:52.024Z"
   },
   {
    "duration": 30,
    "start_time": "2022-07-05T11:42:52.032Z"
   },
   {
    "duration": 163,
    "start_time": "2022-07-05T11:42:52.064Z"
   },
   {
    "duration": 6,
    "start_time": "2022-07-05T11:42:52.229Z"
   },
   {
    "duration": 23,
    "start_time": "2022-07-05T11:42:52.236Z"
   },
   {
    "duration": 26,
    "start_time": "2022-07-05T11:42:52.261Z"
   },
   {
    "duration": 35173,
    "start_time": "2022-07-05T11:42:52.293Z"
   },
   {
    "duration": 22,
    "start_time": "2022-07-05T11:43:27.468Z"
   },
   {
    "duration": 6,
    "start_time": "2022-07-05T11:43:27.492Z"
   },
   {
    "duration": 27,
    "start_time": "2022-07-05T11:43:27.500Z"
   },
   {
    "duration": 48,
    "start_time": "2022-07-05T11:43:27.528Z"
   },
   {
    "duration": 31,
    "start_time": "2022-07-05T11:43:27.578Z"
   },
   {
    "duration": 2,
    "start_time": "2022-07-05T11:43:27.622Z"
   },
   {
    "duration": 6,
    "start_time": "2022-07-05T11:43:27.626Z"
   },
   {
    "duration": 13,
    "start_time": "2022-07-05T11:43:27.633Z"
   },
   {
    "duration": 18,
    "start_time": "2022-07-05T11:43:27.648Z"
   },
   {
    "duration": 12,
    "start_time": "2022-07-05T11:43:27.668Z"
   },
   {
    "duration": 28,
    "start_time": "2022-07-05T11:43:27.682Z"
   },
   {
    "duration": 8,
    "start_time": "2022-07-05T11:43:27.712Z"
   },
   {
    "duration": 9,
    "start_time": "2022-07-05T11:43:27.721Z"
   },
   {
    "duration": 397,
    "start_time": "2022-07-05T11:43:27.731Z"
   },
   {
    "duration": 3,
    "start_time": "2022-07-05T11:43:28.130Z"
   },
   {
    "duration": 13,
    "start_time": "2022-07-05T11:43:28.135Z"
   },
   {
    "duration": 82,
    "start_time": "2022-07-05T11:43:28.150Z"
   },
   {
    "duration": 1077,
    "start_time": "2022-07-05T11:43:28.233Z"
   },
   {
    "duration": 66,
    "start_time": "2022-07-05T11:43:29.311Z"
   },
   {
    "duration": 7,
    "start_time": "2022-07-05T11:43:29.379Z"
   },
   {
    "duration": 277,
    "start_time": "2022-07-05T11:43:29.388Z"
   },
   {
    "duration": 4234,
    "start_time": "2022-07-05T11:43:29.667Z"
   },
   {
    "duration": 240,
    "start_time": "2022-07-05T11:43:33.903Z"
   },
   {
    "duration": 188789,
    "start_time": "2022-07-05T11:43:34.144Z"
   },
   {
    "duration": 889,
    "start_time": "2022-07-05T11:46:42.934Z"
   },
   {
    "duration": 157,
    "start_time": "2022-07-05T11:46:43.825Z"
   },
   {
    "duration": 149,
    "start_time": "2022-07-05T11:46:43.984Z"
   },
   {
    "duration": 390,
    "start_time": "2022-07-05T11:46:44.135Z"
   },
   {
    "duration": 403,
    "start_time": "2022-07-05T11:46:44.528Z"
   },
   {
    "duration": 66,
    "start_time": "2022-07-05T11:46:44.932Z"
   },
   {
    "duration": 89,
    "start_time": "2022-07-05T11:46:45.000Z"
   },
   {
    "duration": 1142,
    "start_time": "2022-07-05T11:46:45.091Z"
   },
   {
    "duration": 55,
    "start_time": "2022-07-05T11:46:46.235Z"
   },
   {
    "duration": 147,
    "start_time": "2022-07-05T11:46:46.292Z"
   },
   {
    "duration": 148,
    "start_time": "2022-07-05T11:46:46.441Z"
   },
   {
    "duration": 4320,
    "start_time": "2022-07-05T11:46:46.591Z"
   },
   {
    "duration": 187,
    "start_time": "2022-07-05T11:46:50.913Z"
   },
   {
    "duration": 189,
    "start_time": "2022-07-05T11:46:51.101Z"
   },
   {
    "duration": 10,
    "start_time": "2022-07-05T11:46:51.292Z"
   },
   {
    "duration": 141,
    "start_time": "2022-07-05T11:46:51.303Z"
   },
   {
    "duration": 5,
    "start_time": "2022-07-05T11:48:38.139Z"
   },
   {
    "duration": 4,
    "start_time": "2022-07-05T11:48:47.101Z"
   },
   {
    "duration": 142,
    "start_time": "2022-07-05T11:48:47.598Z"
   },
   {
    "duration": 5,
    "start_time": "2022-07-05T11:51:17.301Z"
   },
   {
    "duration": 4,
    "start_time": "2022-07-05T11:51:22.834Z"
   },
   {
    "duration": 5,
    "start_time": "2022-07-05T11:51:44.253Z"
   },
   {
    "duration": 4,
    "start_time": "2022-07-05T11:51:51.281Z"
   },
   {
    "duration": 27,
    "start_time": "2022-07-05T11:51:54.458Z"
   },
   {
    "duration": 6,
    "start_time": "2022-07-05T11:52:09.766Z"
   },
   {
    "duration": 3,
    "start_time": "2022-07-05T11:52:12.379Z"
   },
   {
    "duration": 4,
    "start_time": "2022-07-05T11:52:13.290Z"
   },
   {
    "duration": 29,
    "start_time": "2022-07-05T11:52:13.969Z"
   },
   {
    "duration": 1365,
    "start_time": "2022-07-05T11:52:26.074Z"
   },
   {
    "duration": 31,
    "start_time": "2022-07-05T11:52:27.441Z"
   },
   {
    "duration": 17,
    "start_time": "2022-07-05T11:52:27.474Z"
   },
   {
    "duration": 15,
    "start_time": "2022-07-05T11:52:27.493Z"
   },
   {
    "duration": 17,
    "start_time": "2022-07-05T11:52:27.511Z"
   },
   {
    "duration": 22,
    "start_time": "2022-07-05T11:52:27.530Z"
   },
   {
    "duration": 40,
    "start_time": "2022-07-05T11:52:27.553Z"
   },
   {
    "duration": 3,
    "start_time": "2022-07-05T11:52:27.595Z"
   },
   {
    "duration": 17,
    "start_time": "2022-07-05T11:52:27.600Z"
   },
   {
    "duration": 12,
    "start_time": "2022-07-05T11:52:27.622Z"
   },
   {
    "duration": 133,
    "start_time": "2022-07-05T11:52:27.635Z"
   },
   {
    "duration": 6,
    "start_time": "2022-07-05T11:52:27.771Z"
   },
   {
    "duration": 7,
    "start_time": "2022-07-05T11:52:27.779Z"
   },
   {
    "duration": 10,
    "start_time": "2022-07-05T11:52:27.789Z"
   },
   {
    "duration": 23,
    "start_time": "2022-07-05T11:52:27.801Z"
   },
   {
    "duration": 9,
    "start_time": "2022-07-05T11:52:27.826Z"
   },
   {
    "duration": 16,
    "start_time": "2022-07-05T11:52:27.836Z"
   },
   {
    "duration": 147,
    "start_time": "2022-07-05T11:52:27.853Z"
   },
   {
    "duration": 6,
    "start_time": "2022-07-05T11:52:28.002Z"
   },
   {
    "duration": 6,
    "start_time": "2022-07-05T11:52:28.023Z"
   },
   {
    "duration": 11,
    "start_time": "2022-07-05T11:52:28.031Z"
   },
   {
    "duration": 162,
    "start_time": "2022-07-05T11:52:28.044Z"
   },
   {
    "duration": 17,
    "start_time": "2022-07-05T11:52:28.208Z"
   },
   {
    "duration": 131,
    "start_time": "2022-07-05T11:52:28.227Z"
   },
   {
    "duration": 15,
    "start_time": "2022-07-05T11:52:28.360Z"
   },
   {
    "duration": 47,
    "start_time": "2022-07-05T11:52:28.377Z"
   },
   {
    "duration": 40,
    "start_time": "2022-07-05T11:52:28.426Z"
   },
   {
    "duration": 61,
    "start_time": "2022-07-05T11:52:28.468Z"
   },
   {
    "duration": 38,
    "start_time": "2022-07-05T11:52:28.531Z"
   },
   {
    "duration": 152,
    "start_time": "2022-07-05T11:52:28.571Z"
   },
   {
    "duration": 38,
    "start_time": "2022-07-05T11:52:28.725Z"
   },
   {
    "duration": 140,
    "start_time": "2022-07-05T11:52:28.765Z"
   },
   {
    "duration": 5,
    "start_time": "2022-07-05T11:52:28.907Z"
   },
   {
    "duration": 142,
    "start_time": "2022-07-05T11:52:28.913Z"
   },
   {
    "duration": 5,
    "start_time": "2022-07-05T11:52:29.057Z"
   },
   {
    "duration": 11,
    "start_time": "2022-07-05T11:52:29.064Z"
   },
   {
    "duration": 165,
    "start_time": "2022-07-05T11:52:29.076Z"
   },
   {
    "duration": 6,
    "start_time": "2022-07-05T11:52:29.242Z"
   },
   {
    "duration": 12,
    "start_time": "2022-07-05T11:52:29.249Z"
   },
   {
    "duration": 20,
    "start_time": "2022-07-05T11:52:29.262Z"
   },
   {
    "duration": 34712,
    "start_time": "2022-07-05T11:52:29.286Z"
   },
   {
    "duration": 17,
    "start_time": "2022-07-05T11:53:04.000Z"
   },
   {
    "duration": 8,
    "start_time": "2022-07-05T11:53:04.018Z"
   },
   {
    "duration": 7,
    "start_time": "2022-07-05T11:53:04.028Z"
   },
   {
    "duration": 41,
    "start_time": "2022-07-05T11:53:04.036Z"
   },
   {
    "duration": 58,
    "start_time": "2022-07-05T11:53:04.079Z"
   },
   {
    "duration": 3,
    "start_time": "2022-07-05T11:53:04.138Z"
   },
   {
    "duration": 18,
    "start_time": "2022-07-05T11:53:04.142Z"
   },
   {
    "duration": 6,
    "start_time": "2022-07-05T11:53:04.162Z"
   },
   {
    "duration": 8,
    "start_time": "2022-07-05T11:53:04.170Z"
   },
   {
    "duration": 11,
    "start_time": "2022-07-05T11:53:04.179Z"
   },
   {
    "duration": 31,
    "start_time": "2022-07-05T11:53:04.192Z"
   },
   {
    "duration": 8,
    "start_time": "2022-07-05T11:53:04.225Z"
   },
   {
    "duration": 8,
    "start_time": "2022-07-05T11:53:04.235Z"
   },
   {
    "duration": 390,
    "start_time": "2022-07-05T11:53:04.245Z"
   },
   {
    "duration": 4,
    "start_time": "2022-07-05T11:53:04.638Z"
   },
   {
    "duration": 21,
    "start_time": "2022-07-05T11:53:04.644Z"
   },
   {
    "duration": 87,
    "start_time": "2022-07-05T11:53:04.667Z"
   },
   {
    "duration": 1121,
    "start_time": "2022-07-05T11:53:04.756Z"
   },
   {
    "duration": 75,
    "start_time": "2022-07-05T11:53:05.879Z"
   },
   {
    "duration": 8,
    "start_time": "2022-07-05T11:53:05.956Z"
   },
   {
    "duration": 265,
    "start_time": "2022-07-05T11:53:05.966Z"
   },
   {
    "duration": 4273,
    "start_time": "2022-07-05T11:53:06.232Z"
   },
   {
    "duration": 229,
    "start_time": "2022-07-05T11:53:10.507Z"
   },
   {
    "duration": 189917,
    "start_time": "2022-07-05T11:53:10.738Z"
   },
   {
    "duration": 922,
    "start_time": "2022-07-05T11:56:20.656Z"
   },
   {
    "duration": 157,
    "start_time": "2022-07-05T11:56:21.580Z"
   },
   {
    "duration": 139,
    "start_time": "2022-07-05T11:56:21.739Z"
   },
   {
    "duration": 449,
    "start_time": "2022-07-05T11:56:21.879Z"
   },
   {
    "duration": 502,
    "start_time": "2022-07-05T11:56:22.330Z"
   },
   {
    "duration": 64,
    "start_time": "2022-07-05T11:56:22.834Z"
   },
   {
    "duration": 89,
    "start_time": "2022-07-05T11:56:22.899Z"
   },
   {
    "duration": 1123,
    "start_time": "2022-07-05T11:56:22.989Z"
   },
   {
    "duration": 64,
    "start_time": "2022-07-05T11:56:24.115Z"
   },
   {
    "duration": 149,
    "start_time": "2022-07-05T11:56:24.181Z"
   },
   {
    "duration": 168,
    "start_time": "2022-07-05T11:56:24.332Z"
   },
   {
    "duration": 4327,
    "start_time": "2022-07-05T11:56:24.503Z"
   },
   {
    "duration": 190,
    "start_time": "2022-07-05T11:56:28.832Z"
   },
   {
    "duration": 195,
    "start_time": "2022-07-05T11:56:29.024Z"
   },
   {
    "duration": 8,
    "start_time": "2022-07-05T11:56:29.223Z"
   },
   {
    "duration": 153,
    "start_time": "2022-07-05T11:56:29.233Z"
   },
   {
    "duration": 10,
    "start_time": "2022-07-05T11:57:30.117Z"
   },
   {
    "duration": 6,
    "start_time": "2022-07-05T11:57:51.965Z"
   },
   {
    "duration": 4,
    "start_time": "2022-07-05T11:58:20.213Z"
   },
   {
    "duration": 17,
    "start_time": "2022-07-05T11:58:27.436Z"
   },
   {
    "duration": 4,
    "start_time": "2022-07-05T11:58:33.410Z"
   },
   {
    "duration": 5,
    "start_time": "2022-07-05T11:58:47.164Z"
   },
   {
    "duration": 5,
    "start_time": "2022-07-05T11:59:08.768Z"
   },
   {
    "duration": 5,
    "start_time": "2022-07-05T11:59:34.694Z"
   },
   {
    "duration": 22,
    "start_time": "2022-07-05T11:59:43.638Z"
   },
   {
    "duration": 4,
    "start_time": "2022-07-05T11:59:46.365Z"
   },
   {
    "duration": 4,
    "start_time": "2022-07-05T11:59:47.644Z"
   },
   {
    "duration": 5,
    "start_time": "2022-07-05T11:59:48.519Z"
   },
   {
    "duration": 5,
    "start_time": "2022-07-05T11:59:49.843Z"
   },
   {
    "duration": 4,
    "start_time": "2022-07-05T11:59:50.974Z"
   },
   {
    "duration": 7,
    "start_time": "2022-07-05T12:00:12.362Z"
   },
   {
    "duration": 26,
    "start_time": "2022-07-05T12:00:17.946Z"
   },
   {
    "duration": 4,
    "start_time": "2022-07-05T12:00:19.593Z"
   },
   {
    "duration": 5,
    "start_time": "2022-07-05T12:00:20.643Z"
   },
   {
    "duration": 5,
    "start_time": "2022-07-05T12:00:25.179Z"
   },
   {
    "duration": 5,
    "start_time": "2022-07-05T12:00:26.574Z"
   },
   {
    "duration": 4,
    "start_time": "2022-07-05T12:00:27.584Z"
   },
   {
    "duration": 56,
    "start_time": "2022-07-06T04:36:43.486Z"
   },
   {
    "duration": 2023,
    "start_time": "2022-07-06T04:36:59.731Z"
   },
   {
    "duration": 83,
    "start_time": "2022-07-06T04:37:01.756Z"
   },
   {
    "duration": 23,
    "start_time": "2022-07-06T04:37:01.840Z"
   },
   {
    "duration": 53,
    "start_time": "2022-07-06T04:37:01.864Z"
   },
   {
    "duration": 13,
    "start_time": "2022-07-06T04:37:01.918Z"
   },
   {
    "duration": 69,
    "start_time": "2022-07-06T04:37:01.932Z"
   },
   {
    "duration": 46,
    "start_time": "2022-07-06T04:37:02.003Z"
   },
   {
    "duration": 6,
    "start_time": "2022-07-06T04:37:02.051Z"
   },
   {
    "duration": 45,
    "start_time": "2022-07-06T04:37:02.059Z"
   },
   {
    "duration": 5,
    "start_time": "2022-07-06T04:37:02.106Z"
   },
   {
    "duration": 199,
    "start_time": "2022-07-06T04:37:02.113Z"
   },
   {
    "duration": 5,
    "start_time": "2022-07-06T04:37:02.314Z"
   },
   {
    "duration": 11,
    "start_time": "2022-07-06T04:37:02.320Z"
   },
   {
    "duration": 11,
    "start_time": "2022-07-06T04:37:02.334Z"
   },
   {
    "duration": 62,
    "start_time": "2022-07-06T04:37:02.346Z"
   },
   {
    "duration": 9,
    "start_time": "2022-07-06T04:37:02.410Z"
   },
   {
    "duration": 7,
    "start_time": "2022-07-06T04:37:02.420Z"
   },
   {
    "duration": 161,
    "start_time": "2022-07-06T04:37:02.428Z"
   },
   {
    "duration": 7,
    "start_time": "2022-07-06T04:37:02.591Z"
   },
   {
    "duration": 10,
    "start_time": "2022-07-06T04:37:02.600Z"
   },
   {
    "duration": 8,
    "start_time": "2022-07-06T04:37:02.611Z"
   },
   {
    "duration": 198,
    "start_time": "2022-07-06T04:37:02.620Z"
   },
   {
    "duration": 6,
    "start_time": "2022-07-06T04:37:02.820Z"
   },
   {
    "duration": 137,
    "start_time": "2022-07-06T04:37:02.827Z"
   },
   {
    "duration": 28,
    "start_time": "2022-07-06T04:37:02.966Z"
   },
   {
    "duration": 54,
    "start_time": "2022-07-06T04:37:02.996Z"
   },
   {
    "duration": 53,
    "start_time": "2022-07-06T04:37:03.052Z"
   },
   {
    "duration": 44,
    "start_time": "2022-07-06T04:37:03.107Z"
   },
   {
    "duration": 48,
    "start_time": "2022-07-06T04:37:03.152Z"
   },
   {
    "duration": 155,
    "start_time": "2022-07-06T04:37:03.202Z"
   },
   {
    "duration": 45,
    "start_time": "2022-07-06T04:37:03.358Z"
   },
   {
    "duration": 108,
    "start_time": "2022-07-06T04:37:03.405Z"
   },
   {
    "duration": 4,
    "start_time": "2022-07-06T04:37:03.515Z"
   },
   {
    "duration": 138,
    "start_time": "2022-07-06T04:37:03.520Z"
   },
   {
    "duration": 8,
    "start_time": "2022-07-06T04:37:03.661Z"
   },
   {
    "duration": 33,
    "start_time": "2022-07-06T04:37:03.670Z"
   },
   {
    "duration": 171,
    "start_time": "2022-07-06T04:37:03.705Z"
   },
   {
    "duration": 6,
    "start_time": "2022-07-06T04:37:03.877Z"
   },
   {
    "duration": 21,
    "start_time": "2022-07-06T04:37:03.884Z"
   },
   {
    "duration": 10,
    "start_time": "2022-07-06T04:37:03.907Z"
   },
   {
    "duration": 40114,
    "start_time": "2022-07-06T04:37:03.921Z"
   },
   {
    "duration": 17,
    "start_time": "2022-07-06T04:37:44.037Z"
   },
   {
    "duration": 49,
    "start_time": "2022-07-06T04:37:44.056Z"
   },
   {
    "duration": 8,
    "start_time": "2022-07-06T04:37:44.106Z"
   },
   {
    "duration": 71,
    "start_time": "2022-07-06T04:37:44.115Z"
   },
   {
    "duration": 39,
    "start_time": "2022-07-06T04:37:44.187Z"
   },
   {
    "duration": 2,
    "start_time": "2022-07-06T04:37:44.228Z"
   },
   {
    "duration": 36,
    "start_time": "2022-07-06T04:37:44.231Z"
   },
   {
    "duration": 37,
    "start_time": "2022-07-06T04:37:44.269Z"
   },
   {
    "duration": 13,
    "start_time": "2022-07-06T04:37:44.308Z"
   },
   {
    "duration": 15,
    "start_time": "2022-07-06T04:37:44.322Z"
   },
   {
    "duration": 86,
    "start_time": "2022-07-06T04:37:44.338Z"
   },
   {
    "duration": 4,
    "start_time": "2022-07-06T04:37:44.426Z"
   },
   {
    "duration": 67,
    "start_time": "2022-07-06T04:37:44.432Z"
   },
   {
    "duration": 22,
    "start_time": "2022-07-06T04:37:44.500Z"
   },
   {
    "duration": 14,
    "start_time": "2022-07-06T04:37:44.524Z"
   },
   {
    "duration": 58,
    "start_time": "2022-07-06T04:37:44.540Z"
   },
   {
    "duration": 14,
    "start_time": "2022-07-06T04:37:44.600Z"
   },
   {
    "duration": 20,
    "start_time": "2022-07-06T04:37:44.616Z"
   },
   {
    "duration": 308,
    "start_time": "2022-07-06T04:37:44.637Z"
   },
   {
    "duration": 8,
    "start_time": "2022-07-06T04:37:44.947Z"
   },
   {
    "duration": 61,
    "start_time": "2022-07-06T04:37:44.957Z"
   },
   {
    "duration": 122,
    "start_time": "2022-07-06T04:37:45.020Z"
   },
   {
    "duration": 1027,
    "start_time": "2022-07-06T04:37:45.152Z"
   },
   {
    "duration": 54,
    "start_time": "2022-07-06T04:37:46.181Z"
   },
   {
    "duration": 13,
    "start_time": "2022-07-06T04:37:46.247Z"
   },
   {
    "duration": 273,
    "start_time": "2022-07-06T04:37:46.262Z"
   },
   {
    "duration": 4110,
    "start_time": "2022-07-06T04:37:46.536Z"
   },
   {
    "duration": 240,
    "start_time": "2022-07-06T04:37:50.650Z"
   },
   {
    "duration": 190814,
    "start_time": "2022-07-06T04:37:50.900Z"
   },
   {
    "duration": 974,
    "start_time": "2022-07-06T04:41:01.718Z"
   },
   {
    "duration": 171,
    "start_time": "2022-07-06T04:41:02.697Z"
   },
   {
    "duration": 167,
    "start_time": "2022-07-06T04:41:02.873Z"
   },
   {
    "duration": 350,
    "start_time": "2022-07-06T04:41:03.041Z"
   },
   {
    "duration": 458,
    "start_time": "2022-07-06T04:41:03.392Z"
   },
   {
    "duration": 94,
    "start_time": "2022-07-06T04:41:03.853Z"
   },
   {
    "duration": 77,
    "start_time": "2022-07-06T04:41:03.952Z"
   },
   {
    "duration": 1170,
    "start_time": "2022-07-06T04:41:04.031Z"
   },
   {
    "duration": 64,
    "start_time": "2022-07-06T04:41:05.203Z"
   },
   {
    "duration": 141,
    "start_time": "2022-07-06T04:41:05.269Z"
   },
   {
    "duration": 133,
    "start_time": "2022-07-06T04:41:05.416Z"
   },
   {
    "duration": 4368,
    "start_time": "2022-07-06T04:41:05.554Z"
   },
   {
    "duration": 192,
    "start_time": "2022-07-06T04:41:09.924Z"
   },
   {
    "duration": 194,
    "start_time": "2022-07-06T04:41:10.118Z"
   },
   {
    "duration": 6,
    "start_time": "2022-07-06T04:41:10.314Z"
   },
   {
    "duration": 149,
    "start_time": "2022-07-06T04:41:10.322Z"
   },
   {
    "duration": 303,
    "start_time": "2022-07-06T04:42:17.667Z"
   },
   {
    "duration": 988,
    "start_time": "2022-07-06T04:42:38.379Z"
   },
   {
    "duration": 151,
    "start_time": "2022-07-06T04:43:46.864Z"
   },
   {
    "duration": 124,
    "start_time": "2022-07-06T04:44:06.403Z"
   },
   {
    "duration": 59,
    "start_time": "2022-07-06T04:51:58.921Z"
   },
   {
    "duration": 52,
    "start_time": "2022-07-06T04:52:03.183Z"
   },
   {
    "duration": 1046,
    "start_time": "2022-07-06T04:52:40.035Z"
   },
   {
    "duration": 74,
    "start_time": "2022-07-06T04:53:08.957Z"
   },
   {
    "duration": 153,
    "start_time": "2022-07-06T04:53:42.243Z"
   },
   {
    "duration": 134,
    "start_time": "2022-07-06T04:53:50.924Z"
   },
   {
    "duration": 4344,
    "start_time": "2022-07-06T04:54:01.278Z"
   },
   {
    "duration": 297,
    "start_time": "2022-07-06T04:54:24.492Z"
   },
   {
    "duration": 155,
    "start_time": "2022-07-06T05:06:32.210Z"
   },
   {
    "duration": 5,
    "start_time": "2022-07-06T05:07:06.193Z"
   },
   {
    "duration": 15,
    "start_time": "2022-07-06T05:07:14.109Z"
   },
   {
    "duration": 12,
    "start_time": "2022-07-06T05:08:55.487Z"
   },
   {
    "duration": 6,
    "start_time": "2022-07-06T05:09:19.303Z"
   },
   {
    "duration": 4,
    "start_time": "2022-07-06T05:09:29.093Z"
   },
   {
    "duration": 10,
    "start_time": "2022-07-06T05:10:24.496Z"
   },
   {
    "duration": 150,
    "start_time": "2022-07-06T05:11:36.109Z"
   },
   {
    "duration": 8,
    "start_time": "2022-07-06T05:12:29.962Z"
   },
   {
    "duration": 39,
    "start_time": "2022-07-06T05:13:18.594Z"
   },
   {
    "duration": 912,
    "start_time": "2022-07-06T05:14:59.600Z"
   },
   {
    "duration": 9,
    "start_time": "2022-07-06T05:15:31.464Z"
   },
   {
    "duration": 863,
    "start_time": "2022-07-06T05:16:57.879Z"
   },
   {
    "duration": 301,
    "start_time": "2022-07-06T05:17:39.433Z"
   },
   {
    "duration": 201,
    "start_time": "2022-07-06T05:17:58.491Z"
   },
   {
    "duration": 2893,
    "start_time": "2022-07-06T05:18:54.877Z"
   },
   {
    "duration": 391,
    "start_time": "2022-07-06T05:20:19.970Z"
   },
   {
    "duration": 59,
    "start_time": "2022-07-06T05:32:04.965Z"
   },
   {
    "duration": 151,
    "start_time": "2022-07-06T05:43:58.568Z"
   },
   {
    "duration": 2833,
    "start_time": "2022-07-06T05:44:17.834Z"
   },
   {
    "duration": 262,
    "start_time": "2022-07-06T05:48:59.274Z"
   },
   {
    "duration": 55,
    "start_time": "2022-07-06T05:50:53.574Z"
   },
   {
    "duration": 1557,
    "start_time": "2022-07-06T05:51:26.325Z"
   },
   {
    "duration": 42,
    "start_time": "2022-07-06T05:51:27.891Z"
   },
   {
    "duration": 20,
    "start_time": "2022-07-06T05:51:27.935Z"
   },
   {
    "duration": 46,
    "start_time": "2022-07-06T05:51:27.957Z"
   },
   {
    "duration": 5,
    "start_time": "2022-07-06T05:51:28.005Z"
   },
   {
    "duration": 16,
    "start_time": "2022-07-06T05:51:28.011Z"
   },
   {
    "duration": 46,
    "start_time": "2022-07-06T05:51:28.029Z"
   },
   {
    "duration": 5,
    "start_time": "2022-07-06T05:51:28.077Z"
   },
   {
    "duration": 23,
    "start_time": "2022-07-06T05:51:28.083Z"
   },
   {
    "duration": 6,
    "start_time": "2022-07-06T05:51:28.108Z"
   },
   {
    "duration": 204,
    "start_time": "2022-07-06T05:51:28.116Z"
   },
   {
    "duration": 6,
    "start_time": "2022-07-06T05:51:28.322Z"
   },
   {
    "duration": 6,
    "start_time": "2022-07-06T05:51:28.330Z"
   },
   {
    "duration": 51,
    "start_time": "2022-07-06T05:51:28.341Z"
   },
   {
    "duration": 17,
    "start_time": "2022-07-06T05:51:28.394Z"
   },
   {
    "duration": 14,
    "start_time": "2022-07-06T05:51:28.415Z"
   },
   {
    "duration": 14,
    "start_time": "2022-07-06T05:51:28.431Z"
   },
   {
    "duration": 259,
    "start_time": "2022-07-06T05:51:28.446Z"
   },
   {
    "duration": 8,
    "start_time": "2022-07-06T05:51:28.715Z"
   },
   {
    "duration": 10,
    "start_time": "2022-07-06T05:51:28.725Z"
   },
   {
    "duration": 16,
    "start_time": "2022-07-06T05:51:28.737Z"
   },
   {
    "duration": 227,
    "start_time": "2022-07-06T05:51:28.755Z"
   },
   {
    "duration": 7,
    "start_time": "2022-07-06T05:51:28.984Z"
   },
   {
    "duration": 131,
    "start_time": "2022-07-06T05:51:28.993Z"
   },
   {
    "duration": 31,
    "start_time": "2022-07-06T05:51:29.126Z"
   },
   {
    "duration": 64,
    "start_time": "2022-07-06T05:51:29.159Z"
   },
   {
    "duration": 51,
    "start_time": "2022-07-06T05:51:29.224Z"
   },
   {
    "duration": 45,
    "start_time": "2022-07-06T05:51:29.277Z"
   },
   {
    "duration": 63,
    "start_time": "2022-07-06T05:51:29.324Z"
   },
   {
    "duration": 138,
    "start_time": "2022-07-06T05:51:29.389Z"
   },
   {
    "duration": 47,
    "start_time": "2022-07-06T05:51:29.529Z"
   },
   {
    "duration": 119,
    "start_time": "2022-07-06T05:51:29.583Z"
   },
   {
    "duration": 5,
    "start_time": "2022-07-06T05:51:29.703Z"
   },
   {
    "duration": 125,
    "start_time": "2022-07-06T05:51:29.710Z"
   },
   {
    "duration": 10,
    "start_time": "2022-07-06T05:51:29.843Z"
   },
   {
    "duration": 18,
    "start_time": "2022-07-06T05:51:29.857Z"
   },
   {
    "duration": 156,
    "start_time": "2022-07-06T05:51:29.878Z"
   },
   {
    "duration": 22,
    "start_time": "2022-07-06T05:51:30.035Z"
   },
   {
    "duration": 31,
    "start_time": "2022-07-06T05:51:30.063Z"
   },
   {
    "duration": 21,
    "start_time": "2022-07-06T05:51:30.096Z"
   },
   {
    "duration": 39587,
    "start_time": "2022-07-06T05:51:30.122Z"
   },
   {
    "duration": 22,
    "start_time": "2022-07-06T05:52:09.711Z"
   },
   {
    "duration": 12,
    "start_time": "2022-07-06T05:52:09.736Z"
   },
   {
    "duration": 43,
    "start_time": "2022-07-06T05:52:09.750Z"
   },
   {
    "duration": 33,
    "start_time": "2022-07-06T05:52:09.795Z"
   },
   {
    "duration": 39,
    "start_time": "2022-07-06T05:52:09.830Z"
   },
   {
    "duration": 4,
    "start_time": "2022-07-06T05:52:09.871Z"
   },
   {
    "duration": 20,
    "start_time": "2022-07-06T05:52:09.877Z"
   },
   {
    "duration": 5,
    "start_time": "2022-07-06T05:52:09.899Z"
   },
   {
    "duration": 7,
    "start_time": "2022-07-06T05:52:09.906Z"
   },
   {
    "duration": 8,
    "start_time": "2022-07-06T05:52:09.914Z"
   },
   {
    "duration": 28,
    "start_time": "2022-07-06T05:52:09.923Z"
   },
   {
    "duration": 3,
    "start_time": "2022-07-06T05:52:09.953Z"
   },
   {
    "duration": 39,
    "start_time": "2022-07-06T05:52:09.958Z"
   },
   {
    "duration": 5,
    "start_time": "2022-07-06T05:52:09.999Z"
   },
   {
    "duration": 7,
    "start_time": "2022-07-06T05:52:10.005Z"
   },
   {
    "duration": 6,
    "start_time": "2022-07-06T05:52:10.014Z"
   },
   {
    "duration": 9,
    "start_time": "2022-07-06T05:52:10.021Z"
   },
   {
    "duration": 8,
    "start_time": "2022-07-06T05:52:10.031Z"
   },
   {
    "duration": 442,
    "start_time": "2022-07-06T05:52:10.041Z"
   },
   {
    "duration": 8,
    "start_time": "2022-07-06T05:52:10.490Z"
   },
   {
    "duration": 10,
    "start_time": "2022-07-06T05:52:10.501Z"
   },
   {
    "duration": 68,
    "start_time": "2022-07-06T05:52:10.544Z"
   },
   {
    "duration": 1102,
    "start_time": "2022-07-06T05:52:10.615Z"
   },
   {
    "duration": 77,
    "start_time": "2022-07-06T05:52:11.718Z"
   },
   {
    "duration": 7,
    "start_time": "2022-07-06T05:52:11.796Z"
   },
   {
    "duration": 274,
    "start_time": "2022-07-06T05:52:11.804Z"
   },
   {
    "duration": 4143,
    "start_time": "2022-07-06T05:52:12.086Z"
   },
   {
    "duration": 281,
    "start_time": "2022-07-06T05:52:16.231Z"
   },
   {
    "duration": 184566,
    "start_time": "2022-07-06T05:52:16.514Z"
   },
   {
    "duration": 929,
    "start_time": "2022-07-06T05:55:21.082Z"
   },
   {
    "duration": 158,
    "start_time": "2022-07-06T05:55:22.013Z"
   },
   {
    "duration": 120,
    "start_time": "2022-07-06T05:55:22.175Z"
   },
   {
    "duration": 366,
    "start_time": "2022-07-06T05:55:22.297Z"
   },
   {
    "duration": 482,
    "start_time": "2022-07-06T05:55:22.665Z"
   },
   {
    "duration": 63,
    "start_time": "2022-07-06T05:55:23.153Z"
   },
   {
    "duration": 58,
    "start_time": "2022-07-06T05:55:23.218Z"
   },
   {
    "duration": 1099,
    "start_time": "2022-07-06T05:55:23.278Z"
   },
   {
    "duration": 84,
    "start_time": "2022-07-06T05:55:24.381Z"
   },
   {
    "duration": 140,
    "start_time": "2022-07-06T05:55:24.467Z"
   },
   {
    "duration": 149,
    "start_time": "2022-07-06T05:55:24.609Z"
   },
   {
    "duration": 4418,
    "start_time": "2022-07-06T05:55:24.760Z"
   },
   {
    "duration": 272,
    "start_time": "2022-07-06T05:55:29.180Z"
   },
   {
    "duration": 18,
    "start_time": "2022-07-06T05:55:29.457Z"
   },
   {
    "duration": 21,
    "start_time": "2022-07-06T05:55:29.477Z"
   },
   {
    "duration": 7,
    "start_time": "2022-07-06T05:55:29.499Z"
   },
   {
    "duration": 279,
    "start_time": "2022-07-06T05:55:29.508Z"
   },
   {
    "duration": 96,
    "start_time": "2022-07-06T05:55:29.848Z"
   },
   {
    "duration": 729,
    "start_time": "2022-07-06T05:55:29.946Z"
   },
   {
    "duration": 141,
    "start_time": "2022-07-06T05:55:30.677Z"
   },
   {
    "duration": 2710,
    "start_time": "2022-07-06T05:55:30.819Z"
   },
   {
    "duration": 240,
    "start_time": "2022-07-06T05:55:33.531Z"
   },
   {
    "duration": 16,
    "start_time": "2022-07-06T05:55:33.774Z"
   },
   {
    "duration": 128,
    "start_time": "2022-07-06T05:55:33.793Z"
   },
   {
    "duration": 379,
    "start_time": "2022-07-06T06:42:21.320Z"
   },
   {
    "duration": 5,
    "start_time": "2022-07-06T06:42:48.876Z"
   },
   {
    "duration": 7,
    "start_time": "2022-07-06T06:42:53.784Z"
   },
   {
    "duration": 893,
    "start_time": "2022-07-06T06:43:01.597Z"
   },
   {
    "duration": 1597,
    "start_time": "2022-07-06T06:43:36.582Z"
   },
   {
    "duration": 42,
    "start_time": "2022-07-06T06:43:38.181Z"
   },
   {
    "duration": 14,
    "start_time": "2022-07-06T06:43:38.225Z"
   },
   {
    "duration": 19,
    "start_time": "2022-07-06T06:43:38.241Z"
   },
   {
    "duration": 46,
    "start_time": "2022-07-06T06:43:38.262Z"
   },
   {
    "duration": 14,
    "start_time": "2022-07-06T06:43:38.309Z"
   },
   {
    "duration": 42,
    "start_time": "2022-07-06T06:43:38.325Z"
   },
   {
    "duration": 4,
    "start_time": "2022-07-06T06:43:38.369Z"
   },
   {
    "duration": 41,
    "start_time": "2022-07-06T06:43:38.374Z"
   },
   {
    "duration": 5,
    "start_time": "2022-07-06T06:43:38.416Z"
   },
   {
    "duration": 178,
    "start_time": "2022-07-06T06:43:38.422Z"
   },
   {
    "duration": 7,
    "start_time": "2022-07-06T06:43:38.603Z"
   },
   {
    "duration": 10,
    "start_time": "2022-07-06T06:43:38.612Z"
   },
   {
    "duration": 5,
    "start_time": "2022-07-06T06:43:38.625Z"
   },
   {
    "duration": 8,
    "start_time": "2022-07-06T06:43:38.631Z"
   },
   {
    "duration": 67,
    "start_time": "2022-07-06T06:43:38.641Z"
   },
   {
    "duration": 8,
    "start_time": "2022-07-06T06:43:38.709Z"
   },
   {
    "duration": 196,
    "start_time": "2022-07-06T06:43:38.719Z"
   },
   {
    "duration": 8,
    "start_time": "2022-07-06T06:43:38.917Z"
   },
   {
    "duration": 12,
    "start_time": "2022-07-06T06:43:38.926Z"
   },
   {
    "duration": 58,
    "start_time": "2022-07-06T06:43:38.939Z"
   },
   {
    "duration": 206,
    "start_time": "2022-07-06T06:43:38.998Z"
   },
   {
    "duration": 8,
    "start_time": "2022-07-06T06:43:39.206Z"
   },
   {
    "duration": 149,
    "start_time": "2022-07-06T06:43:39.215Z"
   },
   {
    "duration": 22,
    "start_time": "2022-07-06T06:43:39.366Z"
   },
   {
    "duration": 51,
    "start_time": "2022-07-06T06:43:39.390Z"
   },
   {
    "duration": 67,
    "start_time": "2022-07-06T06:43:39.444Z"
   },
   {
    "duration": 41,
    "start_time": "2022-07-06T06:43:39.512Z"
   },
   {
    "duration": 59,
    "start_time": "2022-07-06T06:43:39.555Z"
   },
   {
    "duration": 152,
    "start_time": "2022-07-06T06:43:39.615Z"
   },
   {
    "duration": 56,
    "start_time": "2022-07-06T06:43:39.769Z"
   },
   {
    "duration": 140,
    "start_time": "2022-07-06T06:43:39.827Z"
   },
   {
    "duration": 6,
    "start_time": "2022-07-06T06:43:39.970Z"
   },
   {
    "duration": 173,
    "start_time": "2022-07-06T06:43:39.978Z"
   },
   {
    "duration": 5,
    "start_time": "2022-07-06T06:43:40.153Z"
   },
   {
    "duration": 57,
    "start_time": "2022-07-06T06:43:40.159Z"
   },
   {
    "duration": 196,
    "start_time": "2022-07-06T06:43:40.217Z"
   },
   {
    "duration": 5,
    "start_time": "2022-07-06T06:43:40.414Z"
   },
   {
    "duration": 4,
    "start_time": "2022-07-06T06:43:40.421Z"
   },
   {
    "duration": 17,
    "start_time": "2022-07-06T06:43:40.427Z"
   },
   {
    "duration": 46132,
    "start_time": "2022-07-06T06:43:40.450Z"
   },
   {
    "duration": 23,
    "start_time": "2022-07-06T06:44:26.587Z"
   },
   {
    "duration": 8,
    "start_time": "2022-07-06T06:44:26.612Z"
   },
   {
    "duration": 5,
    "start_time": "2022-07-06T06:44:26.622Z"
   },
   {
    "duration": 51,
    "start_time": "2022-07-06T06:44:26.628Z"
   },
   {
    "duration": 43,
    "start_time": "2022-07-06T06:44:26.681Z"
   },
   {
    "duration": 3,
    "start_time": "2022-07-06T06:44:26.726Z"
   },
   {
    "duration": 6,
    "start_time": "2022-07-06T06:44:26.730Z"
   },
   {
    "duration": 16,
    "start_time": "2022-07-06T06:44:26.737Z"
   },
   {
    "duration": 59,
    "start_time": "2022-07-06T06:44:26.754Z"
   },
   {
    "duration": 10,
    "start_time": "2022-07-06T06:44:26.815Z"
   },
   {
    "duration": 45,
    "start_time": "2022-07-06T06:44:26.827Z"
   },
   {
    "duration": 7,
    "start_time": "2022-07-06T06:44:26.874Z"
   },
   {
    "duration": 27,
    "start_time": "2022-07-06T06:44:26.883Z"
   },
   {
    "duration": 6,
    "start_time": "2022-07-06T06:44:26.911Z"
   },
   {
    "duration": 5,
    "start_time": "2022-07-06T06:44:26.918Z"
   },
   {
    "duration": 5,
    "start_time": "2022-07-06T06:44:26.925Z"
   },
   {
    "duration": 8,
    "start_time": "2022-07-06T06:44:26.932Z"
   },
   {
    "duration": 66,
    "start_time": "2022-07-06T06:44:26.941Z"
   },
   {
    "duration": 294,
    "start_time": "2022-07-06T06:44:27.009Z"
   },
   {
    "duration": 3,
    "start_time": "2022-07-06T06:44:27.308Z"
   },
   {
    "duration": 8,
    "start_time": "2022-07-06T06:44:27.313Z"
   },
   {
    "duration": 110,
    "start_time": "2022-07-06T06:44:27.322Z"
   },
   {
    "duration": 1297,
    "start_time": "2022-07-06T06:44:27.434Z"
   },
   {
    "duration": 92,
    "start_time": "2022-07-06T06:44:28.732Z"
   },
   {
    "duration": 16,
    "start_time": "2022-07-06T06:44:28.826Z"
   },
   {
    "duration": 372,
    "start_time": "2022-07-06T06:44:28.846Z"
   },
   {
    "duration": 4661,
    "start_time": "2022-07-06T06:44:29.219Z"
   },
   {
    "duration": 287,
    "start_time": "2022-07-06T06:44:33.881Z"
   },
   {
    "duration": 201970,
    "start_time": "2022-07-06T06:44:34.170Z"
   },
   {
    "duration": 979,
    "start_time": "2022-07-06T06:47:56.142Z"
   },
   {
    "duration": 159,
    "start_time": "2022-07-06T06:47:57.123Z"
   },
   {
    "duration": 130,
    "start_time": "2022-07-06T06:47:57.288Z"
   },
   {
    "duration": 471,
    "start_time": "2022-07-06T06:47:57.420Z"
   },
   {
    "duration": 352,
    "start_time": "2022-07-06T06:47:57.893Z"
   },
   {
    "duration": 70,
    "start_time": "2022-07-06T06:47:58.247Z"
   },
   {
    "duration": 80,
    "start_time": "2022-07-06T06:47:58.319Z"
   },
   {
    "duration": 1149,
    "start_time": "2022-07-06T06:47:58.401Z"
   },
   {
    "duration": 66,
    "start_time": "2022-07-06T06:47:59.551Z"
   },
   {
    "duration": 134,
    "start_time": "2022-07-06T06:47:59.619Z"
   },
   {
    "duration": 144,
    "start_time": "2022-07-06T06:47:59.754Z"
   },
   {
    "duration": 4419,
    "start_time": "2022-07-06T06:47:59.900Z"
   },
   {
    "duration": 266,
    "start_time": "2022-07-06T06:48:04.321Z"
   },
   {
    "duration": 23,
    "start_time": "2022-07-06T06:48:04.594Z"
   },
   {
    "duration": 6,
    "start_time": "2022-07-06T06:48:04.619Z"
   },
   {
    "duration": 12,
    "start_time": "2022-07-06T06:48:04.626Z"
   },
   {
    "duration": 316,
    "start_time": "2022-07-06T06:48:04.640Z"
   },
   {
    "duration": 82,
    "start_time": "2022-07-06T06:48:04.970Z"
   },
   {
    "duration": 776,
    "start_time": "2022-07-06T06:48:05.054Z"
   },
   {
    "duration": 162,
    "start_time": "2022-07-06T06:48:05.832Z"
   },
   {
    "duration": 2968,
    "start_time": "2022-07-06T06:48:05.997Z"
   },
   {
    "duration": 8,
    "start_time": "2022-07-06T06:48:08.968Z"
   },
   {
    "duration": 1123,
    "start_time": "2022-07-06T06:48:08.978Z"
   },
   {
    "duration": 300,
    "start_time": "2022-07-06T06:48:10.151Z"
   },
   {
    "duration": 8,
    "start_time": "2022-07-06T06:48:10.452Z"
   },
   {
    "duration": 178,
    "start_time": "2022-07-06T06:48:10.461Z"
   },
   {
    "duration": 592,
    "start_time": "2022-07-06T06:48:44.468Z"
   },
   {
    "duration": 463,
    "start_time": "2022-07-06T06:50:37.018Z"
   },
   {
    "duration": 674,
    "start_time": "2022-07-06T06:51:34.313Z"
   },
   {
    "duration": 342,
    "start_time": "2022-07-06T06:52:31.193Z"
   },
   {
    "duration": 1029,
    "start_time": "2022-07-06T06:52:40.504Z"
   },
   {
    "duration": 599,
    "start_time": "2022-07-06T06:57:15.878Z"
   },
   {
    "duration": 10,
    "start_time": "2022-07-06T08:23:00.873Z"
   },
   {
    "duration": 2492,
    "start_time": "2022-07-06T08:23:03.132Z"
   },
   {
    "duration": 12,
    "start_time": "2022-07-06T08:23:30.469Z"
   },
   {
    "duration": 2333,
    "start_time": "2022-07-06T08:23:32.374Z"
   },
   {
    "duration": 1056,
    "start_time": "2022-07-06T08:24:14.908Z"
   },
   {
    "duration": 156,
    "start_time": "2022-07-06T08:35:01.652Z"
   },
   {
    "duration": 229,
    "start_time": "2022-07-06T08:37:04.224Z"
   },
   {
    "duration": 366,
    "start_time": "2022-07-06T08:50:52.330Z"
   },
   {
    "duration": 262,
    "start_time": "2022-07-06T08:51:45.226Z"
   }
  ],
  "kernelspec": {
   "display_name": "base",
   "language": "python",
   "name": "python3"
  },
  "language_info": {
   "codemirror_mode": {
    "name": "ipython",
    "version": 3
   },
   "file_extension": ".py",
   "mimetype": "text/x-python",
   "name": "python",
   "nbconvert_exporter": "python",
   "pygments_lexer": "ipython3",
   "version": "3.9.12"
  },
  "toc": {
   "base_numbering": 1,
   "nav_menu": {},
   "number_sections": true,
   "sideBar": true,
   "skip_h1_title": true,
   "title_cell": "Содержание",
   "title_sidebar": "Contents",
   "toc_cell": true,
   "toc_position": {
    "height": "calc(100% - 180px)",
    "left": "10px",
    "top": "150px",
    "width": "408.797px"
   },
   "toc_section_display": true,
   "toc_window_display": true
  },
  "vscode": {
   "interpreter": {
    "hash": "d145b045434109b77b8443d2e796f481a564cf6825a90efac36665e27b310071"
   }
  }
 },
 "nbformat": 4,
 "nbformat_minor": 2
}
